{
 "cells": [
  {
   "cell_type": "code",
   "execution_count": null,
   "id": "initial_id",
   "metadata": {
    "collapsed": true
   },
   "outputs": [],
   "source": [
    ""
   ]
  },
  {
   "metadata": {},
   "cell_type": "markdown",
   "source": [
    "# 数据的存储\n",
    "1. 从TXT中加载数据，向量化之后存储到Chroma向量数据库"
   ],
   "id": "678cce94d4fa611e"
  },
  {
   "metadata": {
    "ExecuteTime": {
     "end_time": "2025-10-19T12:59:55.761497Z",
     "start_time": "2025-10-19T12:59:53.993960Z"
    }
   },
   "cell_type": "code",
   "source": [
    "from langchain_chroma import Chroma\n",
    "from langchain_community.document_loaders import TextLoader\n",
    "from langchain_openai import OpenAIEmbeddings\n",
    "from langchain_text_splitters import CharacterTextSplitter\n",
    "import os\n",
    "import dotenv\n",
    "from oauthlib.uri_validate import query\n",
    "\n",
    "dotenv.load_dotenv()\n",
    "\n",
    "os.environ[\"OPENAI_API_KEY\"] = os.getenv(\"OPENAI_API_KEY\")\n",
    "os.environ[\"OPENAI_BASE_URL\"] = os.getenv(\"OPENAI_BASE_URL\")\n",
    "\n",
    "# 1. 加载\n",
    "loader = TextLoader(\n",
    "    file_path=\"./assets/ai.txt\",\n",
    "    encoding=\"utf-8\",\n",
    ")\n",
    "\n",
    "docs = loader.load()\n",
    "\n",
    "# 2. 创建文本拆分器\n",
    "text_splitter = CharacterTextSplitter(\n",
    "    chunk_size=1000,\n",
    "    chunk_overlap=100\n",
    ")\n",
    "\n",
    "splitter_docs = text_splitter.split_documents(docs)\n",
    "\n",
    "# 3. 创建嵌入模型\n",
    "embedding_model = OpenAIEmbeddings(model=\"text-embedding-ada-002\")\n",
    "\n",
    "# 4. 文档以及嵌入模型传入到Chroma相关的结构中，存储\n",
    "db = Chroma.from_documents(\n",
    "    documents=splitter_docs,\n",
    "    embedding=embedding_model\n",
    ")\n",
    "\n"
   ],
   "id": "d4e124710fb64b84",
   "outputs": [],
   "execution_count": 1
  },
  {
   "metadata": {},
   "cell_type": "markdown",
   "source": [
    "问题一：当前的数据存在哪里了？\n",
    "\n",
    "如果使用的from_documents方法没有显式的指明存储位置的话，将当前的数据存储到内存中，并缓存起来。\n",
    "如果需要指定具体的存储位置，需要设置参数:persist_directory的值。"
   ],
   "id": "2e49ce777509f235"
  },
  {
   "metadata": {
    "ExecuteTime": {
     "end_time": "2025-10-19T13:02:45.005834Z",
     "start_time": "2025-10-19T13:02:44.368779Z"
    }
   },
   "cell_type": "code",
   "source": [
    "db1 = Chroma.from_documents(\n",
    "    documents=splitter_docs,\n",
    "    embedding=embedding_model,\n",
    "    persist_directory=\"./assets/chroma-1\"\n",
    ")"
   ],
   "id": "c705203b42206de",
   "outputs": [],
   "execution_count": 2
  },
  {
   "metadata": {},
   "cell_type": "markdown",
   "source": "问题二：在向量数据库中，不仅存储了数据（文档）的向量，还存储了数据本身。",
   "id": "7bee54f0f7687bd3"
  },
  {
   "metadata": {},
   "cell_type": "markdown",
   "source": "演示一下检索的需求",
   "id": "4e670a3521809f9e"
  },
  {
   "metadata": {
    "ExecuteTime": {
     "end_time": "2025-10-19T13:06:02.509469Z",
     "start_time": "2025-10-19T13:06:01.853370Z"
    }
   },
   "cell_type": "code",
   "source": [
    "query = \"AI的挑战有哪些呢？\"\n",
    "\n",
    "docs = db.similarity_search(query)\n",
    "\n",
    "print(docs[0].page_content)"
   ],
   "id": "ce21a39fd69f1fcd",
   "outputs": [
    {
     "name": "stdout",
     "output_type": "stream",
     "text": [
      "------------------------------------------------------------\n",
      "五、AI 的应用领域\n",
      "医疗：智能诊断、药物研发\n",
      "金融：智能风控、投顾系统\n",
      "教育：个性化学习、智能批改\n",
      "制造：质量检测、自动化生产\n",
      "零售：推荐系统、智能客服\n",
      "内容创作：文本生成、图像生成、音乐创作\n",
      "\n",
      "------------------------------------------------------------\n",
      "六、AI 的工作流程\n",
      "1. 收集数据\n",
      "2. 清洗数据\n",
      "3. 训练模型\n",
      "4. 评估模型\n",
      "5. 部署应用\n",
      "\n",
      "------------------------------------------------------------\n",
      "七、AI 的挑战\n",
      "- 数据隐私与安全\n",
      "- 偏见与歧视问题\n",
      "- 黑箱问题（模型不可解释）\n",
      "- 职业替代与社会影响\n",
      "- 伦理与法律风险\n",
      "\n",
      "------------------------------------------------------------\n",
      "八、AI 的未来趋势\n",
      "1. 多模态AI（文字+图片+语音融合）\n",
      "2. 通用人工智能（AGI）\n",
      "3. 边缘AI（本地智能处理）\n",
      "4. AI与各行业深度融合\n",
      "5. AI治理与伦理框架\n",
      "\n",
      "------------------------------------------------------------\n",
      "九、总结\n",
      "AI 是让机器具备“思考与学习能力”的技术体系，\n",
      "它不仅是一门科学，更是一种推动社会变革的核心力量。\n"
     ]
    }
   ],
   "execution_count": 3
  },
  {
   "metadata": {
    "ExecuteTime": {
     "end_time": "2025-10-19T13:17:47.448076Z",
     "start_time": "2025-10-19T13:17:46.541139Z"
    }
   },
   "cell_type": "code",
   "source": [
    "from langchain_chroma import Chroma\n",
    "from langchain_core.documents import Document\n",
    "from langchain_openai import OpenAIEmbeddings\n",
    "\n",
    "raw_documents = [\n",
    "    Document(\n",
    "        page_content=\"葡萄是一种常见的水果，属于葡萄科葡萄属植物。它的果实呈圆形或椭圆形，颜色有绿色、紫色、红色等多种。葡萄富含维生素C和抗氧化物质，可以直接食用或酿造成葡萄酒。\",\n",
    "        metadata={\"source\": \"水果\", \"type\": \"植物\"}\n",
    "    ),\n",
    "    Document(\n",
    "        page_content=\"白菜是十字花科蔬菜，原产于中国北方。它的叶片层层包裹形成紧密的球状，口感清脆微甜。白菜富含膳食纤维和维生素K，常用于制作泡菜、炒菜或煮汤。\",\n",
    "        metadata={\"source\": \"蔬菜\", \"type\": \"植物\"}\n",
    "    ),\n",
    "    Document(\n",
    "        page_content=\"狗是人类最早驯化的动物之一，属于犬科。它们具有高度社会性，能理解人类情绪，常被用作宠物、导盲犬或警犬。不同品种的狗在体型、毛色和性格上有很大差异。\",\n",
    "        metadata={\"source\": \"动物\", \"type\": \"哺乳动物\"}\n",
    "    ),\n",
    "    Document(\n",
    "        page_content=\"猫是小型肉食性哺乳动物，性格独立但也能与人类建立亲密关系。它们夜视能力极强，擅长捕猎老鼠。家猫的品种包括波斯猫、暹罗猫等，毛色和花纹多样。\",\n",
    "        metadata={\"source\": \"动物\", \"type\": \"哺乳动物\"}\n",
    "    ),\n",
    "    Document(\n",
    "        page_content=\"人类是地球上最具智慧的生物，属于灵长目人科。现代人类（智人）拥有高度发达的大脑，创造了语言、工具和文明。人类的平均寿命约70-80年，分布在全球各地。\",\n",
    "        metadata={\"source\": \"生物\", \"type\": \"灵长类\"}\n",
    "    ),\n",
    "    Document(\n",
    "        page_content=\"太阳是太阳系的中心恒星，直径约139万公里，主要由氢和氦组成。它通过核聚变反应产生能量，为地球提供光和热。太阳活动周期约为11年，会影响地球气候。\",\n",
    "        metadata={\"source\": \"天文\", \"type\": \"恒星\"}\n",
    "    ),\n",
    "    Document(\n",
    "        page_content=\"长城是中国古代的军事防御工程，总长度超过2万公里。它始建于春秋战国时期，秦朝连接各段，明朝大规模重修。长城是世界文化遗产和人类建筑奇迹。\",\n",
    "        metadata={\"source\": \"历史\", \"type\": \"建筑\"}\n",
    "    ),\n",
    "    Document(\n",
    "        page_content=\"量子力学是研究微观粒子运动规律的物理学分支。它提出了波粒二象性、测不准原理等概念，彻底改变了人类对物质世界的认知。量子计算机正是基于这一理论发展而来。\",\n",
    "        metadata={\"source\": \"物理\", \"type\": \"科学\"}\n",
    "    ),\n",
    "    Document(\n",
    "        page_content=\"《红楼梦》是中国古典文学四大名著之一，作者曹雪芹。小说以贾、史、王、薛四大家族的兴衰为背景，描绘了贾宝玉与林黛玉的爱情悲剧，反映了封建社会的种种矛盾。\",\n",
    "        metadata={\"source\": \"文学\", \"type\": \"小说\"}\n",
    "    ),\n",
    "    Document(\n",
    "        page_content=\"新冠病毒（SARS-CoV-2）是一种可引起呼吸道疾病的冠状病毒。它通过飞沫传播，主要症状包括发热、咳嗽、乏力。疫苗和戴口罩是有效的预防措施。\",\n",
    "        metadata={\"source\": \"医学\", \"type\": \"病毒\"}\n",
    "    )\n",
    "]\n",
    "\n",
    "embedding = OpenAIEmbeddings(model=\"text-embedding-ada-002\")\n",
    "\n",
    "db = Chroma.from_documents(\n",
    "    documents=raw_documents,\n",
    "    embedding=embedding,\n",
    "    persist_directory=\"./assets/chroma-2\"\n",
    ")"
   ],
   "id": "f6d180182f58b82d",
   "outputs": [],
   "execution_count": 4
  },
  {
   "metadata": {
    "ExecuteTime": {
     "end_time": "2025-10-19T13:20:09.103358Z",
     "start_time": "2025-10-19T13:20:08.483303Z"
    }
   },
   "cell_type": "code",
   "source": [
    "query = \"哺乳动物\"\n",
    "\n",
    "docs = db.similarity_search(query, k=3)\n",
    "print(f\"查询：{query}的结果\")\n",
    "for i, doc in enumerate(docs):\n",
    "    print(f\"\\n结果 {i}\")\n",
    "    print(f\"内容：{doc.page_content}\")\n",
    "    print(f\"元数据：{doc.metadata}\")"
   ],
   "id": "60923a9f305ca08d",
   "outputs": [
    {
     "name": "stdout",
     "output_type": "stream",
     "text": [
      "查询：哺乳动物的结果\n",
      "\n",
      "结果 0\n",
      "内容：猫是小型肉食性哺乳动物，性格独立但也能与人类建立亲密关系。它们夜视能力极强，擅长捕猎老鼠。家猫的品种包括波斯猫、暹罗猫等，毛色和花纹多样。\n",
      "元数据：{'source': '动物', 'type': '哺乳动物'}\n",
      "\n",
      "结果 1\n",
      "内容：狗是人类最早驯化的动物之一，属于犬科。它们具有高度社会性，能理解人类情绪，常被用作宠物、导盲犬或警犬。不同品种的狗在体型、毛色和性格上有很大差异。\n",
      "元数据：{'type': '哺乳动物', 'source': '动物'}\n",
      "\n",
      "结果 2\n",
      "内容：人类是地球上最具智慧的生物，属于灵长目人科。现代人类（智人）拥有高度发达的大脑，创造了语言、工具和文明。人类的平均寿命约70-80年，分布在全球各地。\n",
      "元数据：{'source': '生物', 'type': '灵长类'}\n"
     ]
    }
   ],
   "execution_count": 5
  },
  {
   "metadata": {
    "ExecuteTime": {
     "end_time": "2025-10-19T13:23:20.588Z",
     "start_time": "2025-10-19T13:23:20.031317Z"
    }
   },
   "cell_type": "code",
   "source": [
    "query = \"哺乳动物\"\n",
    "embedding_vector = embedding.embed_query(query)\n",
    "\n",
    "docs = db.similarity_search_by_vector(embedding_vector, k = 3)\n",
    "\n",
    "print(f\"查询：'{query}' 的结果：\")\n",
    "for i, doc in enumerate(docs):\n",
    "    print(f\"\\n结果 {i}\")\n",
    "    print(f\"内容: {doc.page_content}\")\n",
    "    print(f\"元数据: {doc.metadata}\")"
   ],
   "id": "64bc4e2f5995badd",
   "outputs": [
    {
     "name": "stdout",
     "output_type": "stream",
     "text": [
      "查询：'哺乳动物' 的结果：\n",
      "\n",
      "结果 0\n",
      "内容: 猫是小型肉食性哺乳动物，性格独立但也能与人类建立亲密关系。它们夜视能力极强，擅长捕猎老鼠。家猫的品种包括波斯猫、暹罗猫等，毛色和花纹多样。\n",
      "元数据: {'type': '哺乳动物', 'source': '动物'}\n",
      "\n",
      "结果 1\n",
      "内容: 狗是人类最早驯化的动物之一，属于犬科。它们具有高度社会性，能理解人类情绪，常被用作宠物、导盲犬或警犬。不同品种的狗在体型、毛色和性格上有很大差异。\n",
      "元数据: {'type': '哺乳动物', 'source': '动物'}\n",
      "\n",
      "结果 2\n",
      "内容: 人类是地球上最具智慧的生物，属于灵长目人科。现代人类（智人）拥有高度发达的大脑，创造了语言、工具和文明。人类的平均寿命约70-80年，分布在全球各地。\n",
      "元数据: {'source': '生物', 'type': '灵长类'}\n"
     ]
    }
   ],
   "execution_count": 6
  },
  {
   "metadata": {
    "ExecuteTime": {
     "end_time": "2025-10-19T13:25:48.162297Z",
     "start_time": "2025-10-19T13:25:47.335551Z"
    }
   },
   "cell_type": "code",
   "source": [
    "query = \"哺乳动物\"\n",
    "\n",
    "docs = db.similarity_search(\n",
    "    query =  query,\n",
    "    k = 3,\n",
    "    filter={\"source\": \"动物\"} # 过滤\n",
    ")\n",
    "\n",
    "print(f\"查询：'{query}' 的结果：\")\n",
    "for i, doc in enumerate(docs):\n",
    "    print(f\"\\n结果 {i}\")\n",
    "    print(f\"内容: {doc.page_content}\")\n",
    "    print(f\"元数据: {doc.metadata}\")"
   ],
   "id": "6d5955541ff32e1c",
   "outputs": [
    {
     "name": "stdout",
     "output_type": "stream",
     "text": [
      "查询：'哺乳动物' 的结果：\n",
      "\n",
      "结果 0\n",
      "内容: 猫是小型肉食性哺乳动物，性格独立但也能与人类建立亲密关系。它们夜视能力极强，擅长捕猎老鼠。家猫的品种包括波斯猫、暹罗猫等，毛色和花纹多样。\n",
      "元数据: {'type': '哺乳动物', 'source': '动物'}\n",
      "\n",
      "结果 1\n",
      "内容: 狗是人类最早驯化的动物之一，属于犬科。它们具有高度社会性，能理解人类情绪，常被用作宠物、导盲犬或警犬。不同品种的狗在体型、毛色和性格上有很大差异。\n",
      "元数据: {'type': '哺乳动物', 'source': '动物'}\n"
     ]
    }
   ],
   "execution_count": 9
  },
  {
   "metadata": {
    "ExecuteTime": {
     "end_time": "2025-10-19T13:28:47.188188Z",
     "start_time": "2025-10-19T13:28:46.515816Z"
    }
   },
   "cell_type": "code",
   "source": [
    "docs = db.similarity_search_with_score(\n",
    "    \"量子力学是什么?\"\n",
    ")\n",
    "\n",
    "for doc, score in docs:\n",
    "    print(f\" [L2距离得分={score:.3f}] {doc.page_content} [{doc.metadata}]\")\n",
    "\n",
    "    # 分数值越小，检索到的文档和问题越相似，取值是[0, 正无穷]"
   ],
   "id": "98a5a1ca38e74adb",
   "outputs": [
    {
     "name": "stdout",
     "output_type": "stream",
     "text": [
      " [L2距离得分=0.182] 量子力学是研究微观粒子运动规律的物理学分支。它提出了波粒二象性、测不准原理等概念，彻底改变了人类对物质世界的认知。量子计算机正是基于这一理论发展而来。 [{'source': '物理', 'type': '科学'}]\n",
      " [L2距离得分=0.447] 太阳是太阳系的中心恒星，直径约139万公里，主要由氢和氦组成。它通过核聚变反应产生能量，为地球提供光和热。太阳活动周期约为11年，会影响地球气候。 [{'type': '恒星', 'source': '天文'}]\n",
      " [L2距离得分=0.463] 人类是地球上最具智慧的生物，属于灵长目人科。现代人类（智人）拥有高度发达的大脑，创造了语言、工具和文明。人类的平均寿命约70-80年，分布在全球各地。 [{'source': '生物', 'type': '灵长类'}]\n",
      " [L2距离得分=0.488] 新冠病毒（SARS-CoV-2）是一种可引起呼吸道疾病的冠状病毒。它通过飞沫传播，主要症状包括发热、咳嗽、乏力。疫苗和戴口罩是有效的预防措施。 [{'type': '病毒', 'source': '医学'}]\n"
     ]
    }
   ],
   "execution_count": 10
  },
  {
   "metadata": {
    "ExecuteTime": {
     "end_time": "2025-10-19T13:32:25.966413Z",
     "start_time": "2025-10-19T13:32:25.361667Z"
    }
   },
   "cell_type": "code",
   "source": [
    "docs = db._similarity_search_with_relevance_scores(\n",
    "    \"量子力学是什么？\"\n",
    ")\n",
    "\n",
    "for doc, score in docs:\n",
    "    print(f\"* [余弦相似度得分={score:.3f}] {doc.page_content} [{doc.metadata}]\")\n",
    "\n",
    "    # 余弦相似度分数搜索，越接近1越相似 cos(0, 180°)"
   ],
   "id": "491fcaadebdcab31",
   "outputs": [
    {
     "name": "stdout",
     "output_type": "stream",
     "text": [
      "* [余弦相似度得分=0.870] 量子力学是研究微观粒子运动规律的物理学分支。它提出了波粒二象性、测不准原理等概念，彻底改变了人类对物质世界的认知。量子计算机正是基于这一理论发展而来。 [{'source': '物理', 'type': '科学'}]\n",
      "* [余弦相似度得分=0.681] 太阳是太阳系的中心恒星，直径约139万公里，主要由氢和氦组成。它通过核聚变反应产生能量，为地球提供光和热。太阳活动周期约为11年，会影响地球气候。 [{'source': '天文', 'type': '恒星'}]\n",
      "* [余弦相似度得分=0.673] 人类是地球上最具智慧的生物，属于灵长目人科。现代人类（智人）拥有高度发达的大脑，创造了语言、工具和文明。人类的平均寿命约70-80年，分布在全球各地。 [{'type': '灵长类', 'source': '生物'}]\n",
      "* [余弦相似度得分=0.656] 新冠病毒（SARS-CoV-2）是一种可引起呼吸道疾病的冠状病毒。它通过飞沫传播，主要症状包括发热、咳嗽、乏力。疫苗和戴口罩是有效的预防措施。 [{'source': '医学', 'type': '病毒'}]\n"
     ]
    }
   ],
   "execution_count": 11
  },
  {
   "metadata": {
    "ExecuteTime": {
     "end_time": "2025-10-19T13:36:48.125061Z",
     "start_time": "2025-10-19T13:36:47.443827Z"
    }
   },
   "cell_type": "code",
   "source": [
    "# MMR 最大边际相关性，max-marginal_relevance_search\n",
    "docs = db.max_marginal_relevance_search(\n",
    "    query=\"量子力学是什么？\",\n",
    "    lambda_mult=0.8     # 侧重相似性（范围 0 - 1）\n",
    ")\n",
    "\n",
    "print(\"关于【量子力学是什么】的搜索结果\")\n",
    "print(\"=\" * 50)\n",
    "\n",
    "for i, doc in enumerate(docs):\n",
    "    print(f\"\\n 结果 {i + 1}\")\n",
    "    print(f\"  内容：{doc.page_content}\")\n",
    "    print(f\"  标签：{', '.join(f'{k}={v}' for k, v in doc.metadata.items())}\")"
   ],
   "id": "d08db00ced43e037",
   "outputs": [
    {
     "name": "stdout",
     "output_type": "stream",
     "text": [
      "关于【量子力学是什么】的搜索结果\n",
      "==================================================\n",
      "\n",
      " 结果 1\n",
      "  内容：量子力学是研究微观粒子运动规律的物理学分支。它提出了波粒二象性、测不准原理等概念，彻底改变了人类对物质世界的认知。量子计算机正是基于这一理论发展而来。\n",
      "  标签：source=物理, type=科学\n",
      "\n",
      " 结果 2\n",
      "  内容：太阳是太阳系的中心恒星，直径约139万公里，主要由氢和氦组成。它通过核聚变反应产生能量，为地球提供光和热。太阳活动周期约为11年，会影响地球气候。\n",
      "  标签：type=恒星, source=天文\n",
      "\n",
      " 结果 3\n",
      "  内容：人类是地球上最具智慧的生物，属于灵长目人科。现代人类（智人）拥有高度发达的大脑，创造了语言、工具和文明。人类的平均寿命约70-80年，分布在全球各地。\n",
      "  标签：source=生物, type=灵长类\n",
      "\n",
      " 结果 4\n",
      "  内容：新冠病毒（SARS-CoV-2）是一种可引起呼吸道疾病的冠状病毒。它通过飞沫传播，主要症状包括发热、咳嗽、乏力。疫苗和戴口罩是有效的预防措施。\n",
      "  标签：source=医学, type=病毒\n"
     ]
    }
   ],
   "execution_count": 12
  }
 ],
 "metadata": {
  "kernelspec": {
   "display_name": "Python 3",
   "language": "python",
   "name": "python3"
  },
  "language_info": {
   "codemirror_mode": {
    "name": "ipython",
    "version": 2
   },
   "file_extension": ".py",
   "mimetype": "text/x-python",
   "name": "python",
   "nbconvert_exporter": "python",
   "pygments_lexer": "ipython2",
   "version": "2.7.6"
  }
 },
 "nbformat": 4,
 "nbformat_minor": 5
}
