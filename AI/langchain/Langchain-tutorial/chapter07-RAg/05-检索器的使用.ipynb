{
 "cells": [
  {
   "cell_type": "code",
   "execution_count": null,
   "id": "initial_id",
   "metadata": {
    "collapsed": true
   },
   "outputs": [],
   "source": [
    ""
   ]
  },
  {
   "metadata": {},
   "cell_type": "markdown",
   "source": "## 基础使用",
   "id": "582cd36927cb8a53"
  },
  {
   "metadata": {
    "ExecuteTime": {
     "end_time": "2025-10-19T13:42:46.372447Z",
     "start_time": "2025-10-19T13:42:45.399671Z"
    }
   },
   "cell_type": "code",
   "source": [
    "from langchain_chroma import Chroma\n",
    "from langchain_community.document_loaders import TextLoader\n",
    "from langchain_openai import OpenAIEmbeddings\n",
    "from langchain_text_splitters import CharacterTextSplitter\n",
    "import os\n",
    "import dotenv\n",
    "from regex import search\n",
    "\n",
    "dotenv.load_dotenv()\n",
    "\n",
    "os.environ[\"OPENAI_API_KEY\"] = os.getenv(\"OPENAI_API_KEY\")\n",
    "os.environ[\"OPENAI_BASE_URL\"] = os.getenv(\"OPENAI_BASE_URL\")\n",
    "\n",
    "# 1. 加载\n",
    "loader = TextLoader(\n",
    "    file_path=\"./assets/ai.txt\",\n",
    "    encoding=\"utf-8\",\n",
    ")\n",
    "\n",
    "docs = loader.load()\n",
    "\n",
    "# 2. 创建文本拆分器\n",
    "text_splitter = CharacterTextSplitter(\n",
    "    chunk_size=1000,\n",
    "    chunk_overlap=100\n",
    ")\n",
    "\n",
    "splitter_docs = text_splitter.split_documents(docs)\n",
    "\n",
    "# 3. 创建嵌入模型\n",
    "embedding_model = OpenAIEmbeddings(model=\"text-embedding-3-large\")"
   ],
   "id": "a3b809b585f4c08e",
   "outputs": [],
   "execution_count": 1
  },
  {
   "metadata": {
    "ExecuteTime": {
     "end_time": "2025-10-19T13:49:25.833144Z",
     "start_time": "2025-10-19T13:49:24.727065Z"
    }
   },
   "cell_type": "code",
   "source": [
    "from langchain_community.vectorstores import FAISS\n",
    "\n",
    "# 向量数据库\n",
    "db = FAISS.from_documents(splitter_docs, embedding_model)\n",
    "\n",
    "# 获取检索器\n",
    "retriever = db.as_retriever()\n",
    "\n",
    "# 检索\n",
    "docs = retriever.invoke(input=\"深度学习是什么？\")\n",
    "\n",
    "print(len(docs))\n",
    "\n",
    "for doc in docs:\n",
    "    print(f\"-------------{doc}\")"
   ],
   "id": "200fef4627705b9",
   "outputs": [
    {
     "name": "stdout",
     "output_type": "stream",
     "text": [
      "2\n",
      "-------------page_content='【人工智能（AI）简介】\n",
      "\n",
      "一、什么是 AI\n",
      "AI（Artificial Intelligence，人工智能）是让计算机像人一样思考、学习和决策的一门科学与技术。\n",
      "简单来说，就是让机器“能理解世界、能做判断、能自己学习”，而不仅仅是执行命令。\n",
      "\n",
      "AI 的目标是模仿人类智能，包括感知、理解、学习、推理和表达等能力。\n",
      "\n",
      "------------------------------------------------------------\n",
      "二、AI 的核心能力与对应技术\n",
      "1. 感知：语音识别、图像识别、计算机视觉\n",
      "2. 理解：自然语言处理（NLP）\n",
      "3. 学习：机器学习（Machine Learning）\n",
      "4. 推理：深度学习、强化学习\n",
      "5. 表达：聊天机器人、文本生成（LLM）\n",
      "\n",
      "------------------------------------------------------------\n",
      "三、AI 的主要分支\n",
      "1. 机器学习（Machine Learning）\n",
      "   - 让计算机通过数据自动学习规律。\n",
      "   - 类型：监督学习、无监督学习、强化学习。\n",
      "\n",
      "2. 深度学习（Deep Learning）\n",
      "   - 机器学习的一个分支，利用神经网络模拟人脑。\n",
      "   - 应用于 GPT、图像识别、语音助手等。\n",
      "\n",
      "3. 自然语言处理（NLP）\n",
      "   - 让机器理解和生成人类语言。\n",
      "   - 应用：ChatGPT、翻译、客服、情感分析。\n",
      "\n",
      "4. 计算机视觉（CV）\n",
      "   - 让计算机“看懂”图像或视频。\n",
      "   - 应用：人脸识别、自动驾驶、医学影像。\n",
      "\n",
      "5. 强化学习（Reinforcement Learning）\n",
      "   - 通过“奖励与惩罚”让AI自己学习策略。\n",
      "   - GPT使用了RLHF（人类反馈强化学习）。\n",
      "\n",
      "------------------------------------------------------------\n",
      "四、AI 的三个层次\n",
      "1. 弱人工智能（Narrow AI）——只做特定任务（如ChatGPT）\n",
      "2. 强人工智能（General AI）——能像人一样通用思考（尚未实现）\n",
      "3. 超人工智能（Super AI）——超越人类智能（理论阶段）' metadata={'source': './assets/ai.txt'}\n",
      "-------------page_content='------------------------------------------------------------\n",
      "五、AI 的应用领域\n",
      "医疗：智能诊断、药物研发\n",
      "金融：智能风控、投顾系统\n",
      "教育：个性化学习、智能批改\n",
      "制造：质量检测、自动化生产\n",
      "零售：推荐系统、智能客服\n",
      "内容创作：文本生成、图像生成、音乐创作\n",
      "\n",
      "------------------------------------------------------------\n",
      "六、AI 的工作流程\n",
      "1. 收集数据\n",
      "2. 清洗数据\n",
      "3. 训练模型\n",
      "4. 评估模型\n",
      "5. 部署应用\n",
      "\n",
      "------------------------------------------------------------\n",
      "七、AI 的挑战\n",
      "- 数据隐私与安全\n",
      "- 偏见与歧视问题\n",
      "- 黑箱问题（模型不可解释）\n",
      "- 职业替代与社会影响\n",
      "- 伦理与法律风险\n",
      "\n",
      "------------------------------------------------------------\n",
      "八、AI 的未来趋势\n",
      "1. 多模态AI（文字+图片+语音融合）\n",
      "2. 通用人工智能（AGI）\n",
      "3. 边缘AI（本地智能处理）\n",
      "4. AI与各行业深度融合\n",
      "5. AI治理与伦理框架\n",
      "\n",
      "------------------------------------------------------------\n",
      "九、总结\n",
      "AI 是让机器具备“思考与学习能力”的技术体系，\n",
      "它不仅是一门科学，更是一种推动社会变革的核心力量。' metadata={'source': './assets/ai.txt'}\n"
     ]
    }
   ],
   "execution_count": 3
  },
  {
   "metadata": {
    "ExecuteTime": {
     "end_time": "2025-10-19T14:10:25.042385Z",
     "start_time": "2025-10-19T14:10:23.673199Z"
    }
   },
   "cell_type": "code",
   "source": [
    "# 1.导入相关依赖\n",
    "from langchain_community.vectorstores import FAISS\n",
    "from langchain_openai import OpenAIEmbeddings\n",
    "from langchain_core.documents import Document\n",
    "\n",
    "# 2.定义文档\n",
    "document_1 = Document(\n",
    "    page_content=\"经济复苏：美国经济正在从疫情中强劲复苏，失业率降至历史低点。！\",\n",
    ")\n",
    "document_2 = Document(\n",
    "    page_content=\"基础设施：政府将投资1万亿美元用于修复道路、桥梁和宽带网络。\",\n",
    ")\n",
    "document_3 = Document(\n",
    "    page_content=\"气候变化：承诺到2030年将温室气体排放量减少50%。\",\n",
    ")\n",
    "document_4 = Document(\n",
    "    page_content=\" 医疗保健：降低处方药价格，扩大医疗保险覆盖范围。\",\n",
    ")\n",
    "document_5 = Document(\n",
    "    page_content=\"教育：提供免费的社区大学教育。。\",\n",
    ")\n",
    "document_6 = Document(\n",
    "    page_content=\"科技：增加对半导体产业的投资以减少对外国供应链的依赖。。\",\n",
    ")\n",
    "document_7 = Document(\n",
    "    page_content=\"外交政策：继续支持乌克兰对抗俄罗斯的侵略。\",\n",
    ")\n",
    "document_8 = Document(\n",
    "    page_content=\"枪支管制：呼吁国会通过更严格的枪支管制法律。\",\n",
    ")\n",
    "document_9 = Document(\n",
    "    page_content=\"移民改革：提出全面的移民改革方案。\",\n",
    ")\n",
    "document_10 = Document(\n",
    "    page_content=\"社会正义：承诺解决系统性种族歧视问题。\",\n",
    ")\n",
    "documents = [\n",
    "    document_1,\n",
    "    document_2,\n",
    "    document_3,\n",
    "    document_4,\n",
    "    document_5,\n",
    "    document_6,\n",
    "    document_7,\n",
    "    document_8,\n",
    "    document_9,\n",
    "    document_10,\n",
    "]\n",
    "# 3.创建向量存储\n",
    "embeddings = OpenAIEmbeddings(\n",
    "    model=\"text-embedding-3-large\"\n",
    ")\n",
    "# 4.将文档向量化，添加到向量数据库索引中，得到向量数据库对象\n",
    "db = FAISS.from_documents(documents, embeddings)"
   ],
   "id": "c0c9ff89d3b1194f",
   "outputs": [],
   "execution_count": 4
  },
  {
   "metadata": {},
   "cell_type": "markdown",
   "source": "默认检索器使用相似性搜索",
   "id": "120d91b64fb37328"
  },
  {
   "metadata": {
    "ExecuteTime": {
     "end_time": "2025-10-19T14:12:00.505925Z",
     "start_time": "2025-10-19T14:11:59.316056Z"
    }
   },
   "cell_type": "code",
   "source": [
    "retriever = db.as_retriever(search_kwargs={\"k\": 4})\n",
    "\n",
    "docs = retriever.invoke(\"经济政策\")\n",
    "for i, doc in enumerate(docs):\n",
    "    print(f\"\\n结果{i + 1}:\\n {doc.page_content}\\n\")"
   ],
   "id": "fd23e5ed7842026a",
   "outputs": [
    {
     "name": "stdout",
     "output_type": "stream",
     "text": [
      "\n",
      "结果1:\n",
      " 经济复苏：美国经济正在从疫情中强劲复苏，失业率降至历史低点。！\n",
      "\n",
      "\n",
      "结果2:\n",
      " 科技：增加对半导体产业的投资以减少对外国供应链的依赖。。\n",
      "\n",
      "\n",
      "结果3:\n",
      " 外交政策：继续支持乌克兰对抗俄罗斯的侵略。\n",
      "\n",
      "\n",
      "结果4:\n",
      " 基础设施：政府将投资1万亿美元用于修复道路、桥梁和宽带网络。\n",
      "\n"
     ]
    }
   ],
   "execution_count": 5
  },
  {
   "metadata": {},
   "cell_type": "markdown",
   "source": "分数阈值查询",
   "id": "25b865cdcbfe2d98"
  },
  {
   "metadata": {
    "ExecuteTime": {
     "end_time": "2025-10-19T14:14:57.832861Z",
     "start_time": "2025-10-19T14:14:57.071531Z"
    }
   },
   "cell_type": "code",
   "source": [
    "retriever = db.as_retriever(\n",
    "    search_type=\"similarity_score_threshold\",\n",
    "    search_kwargs={\"score_threshold\": 0.1}\n",
    ")\n",
    "\n",
    "docs = retriever.invoke(\"经济政策\")\n",
    "for doc in docs:\n",
    "    print(f\" 内容: {doc.page_content}\")"
   ],
   "id": "440d5a57d9ae9acd",
   "outputs": [
    {
     "name": "stdout",
     "output_type": "stream",
     "text": [
      " 内容: 经济复苏：美国经济正在从疫情中强劲复苏，失业率降至历史低点。！\n"
     ]
    }
   ],
   "execution_count": 6
  },
  {
   "metadata": {},
   "cell_type": "markdown",
   "source": "MMR 搜索",
   "id": "27b8471426ece710"
  },
  {
   "metadata": {
    "ExecuteTime": {
     "end_time": "2025-10-19T14:23:14.114024Z",
     "start_time": "2025-10-19T14:23:13.458840Z"
    }
   },
   "cell_type": "code",
   "source": [
    "retriever = db.as_retriever(\n",
    "    search_type=\"mmr\",\n",
    "    search_kwargs={\"fetch_k\": 2}\n",
    ")\n",
    "\n",
    "docs = retriever.invoke(\"经济政策\")\n",
    "\n",
    "print(len(docs))\n",
    "\n",
    "for doc in docs:\n",
    "    print(f\"内容: {doc.page_content}\")"
   ],
   "id": "884837fcdde11252",
   "outputs": [
    {
     "name": "stdout",
     "output_type": "stream",
     "text": [
      "2\n",
      "内容: 经济复苏：美国经济正在从疫情中强劲复苏，失业率降至历史低点。！\n",
      "内容: 科技：增加对半导体产业的投资以减少对外国供应链的依赖。。\n"
     ]
    }
   ],
   "execution_count": 7
  },
  {
   "metadata": {},
   "cell_type": "markdown",
   "source": "## 通过FAISS构建一个可搜索的向量索引数据库，结合RAG让LLM回答问题",
   "id": "75a167df0b774fc9"
  },
  {
   "metadata": {
    "ExecuteTime": {
     "end_time": "2025-10-19T14:47:05.778078Z",
     "start_time": "2025-10-19T14:47:02.263583Z"
    }
   },
   "cell_type": "code",
   "source": [
    "from langchain_core.prompts import PromptTemplate\n",
    "import os\n",
    "import dotenv\n",
    "from langchain_openai import ChatOpenAI, OpenAIEmbeddings\n",
    "from langchain_community.document_loaders import TextLoader\n",
    "from langchain.text_splitter import CharacterTextSplitter\n",
    "from langchain_community.vectorstores import FAISS\n",
    "\n",
    "dotenv.load_dotenv()\n",
    "\n",
    "# 创建Prompt\n",
    "prompt_template = \"\"\"\n",
    "请使用以下提供的文本内容来回答问题。仅使用提供的文本信息，如果文本中没有相关信息，请回答：“抱歉,提供的文本内容中没有这个信息”。\n",
    "文本内容：\n",
    "{context}\n",
    "\n",
    "问题：\n",
    "{question}\n",
    "\n",
    "回答：\n",
    "\"\n",
    "\"\"\"\n",
    "\n",
    "prompt = PromptTemplate.from_template(prompt_template)\n",
    "\n",
    "# 初始化模型\n",
    "os.environ[\"OPENAI_API_KEY\"] = os.getenv(\"OPENAI_API_KEY\")\n",
    "os.environ[\"OPENAI_BASE_URL\"] = os.getenv(\"OPENAI_BASE_URL\")\n",
    "\n",
    "llm = ChatOpenAI(model_name=\"gpt-4o-mini\",temperature=0)\n",
    "\n",
    "embedding_model = OpenAIEmbeddings(model=\"text-embedding-3-large\")\n",
    "\n",
    "# 加载文档\n",
    "loader = TextLoader(\"./assets/nanjing.txt\", encoding=\"utf-8\")\n",
    "documents = loader.load()\n",
    "\n",
    "# 分割文档\n",
    "text_splitter = CharacterTextSplitter(\n",
    "    chunk_size=1000,\n",
    "    chunk_overlap=100,\n",
    ")\n",
    "\n",
    "texts = text_splitter.split_documents(documents)\n",
    "\n",
    "# 创建向量存储，存储到内存中\n",
    "vectorstore = FAISS.from_documents(\n",
    "    documents = texts,\n",
    "    embedding=embedding_model\n",
    ")\n",
    "\n",
    "# 获取检索器\n",
    "retriever = vectorstore.as_retriever()\n",
    "docs = retriever.invoke(input=\"南京有什么好吃的？\")\n",
    "\n",
    "# 创建链\n",
    "chain = prompt | llm\n",
    "\n",
    "result = chain.invoke(input={\"question\": \"南京有什么好吃的？\", \"context\": docs})\n",
    "\n",
    "print(\"\\n回答:\", result.content)"
   ],
   "id": "48431238cf592a06",
   "outputs": [
    {
     "name": "stdout",
     "output_type": "stream",
     "text": [
      "\n",
      "回答: 南京的特色美食包括：\n",
      "1. 盐水鸭：色白味香、皮嫩肉酥，是南京的传统名菜。\n",
      "2. 鸭血粉丝汤：口感鲜美、汤汁浓郁，是南京人的“灵魂早餐”。\n",
      "3. 小笼包、牛肉锅贴、桂花糖芋苗：老城南的经典小吃。\n"
     ]
    }
   ],
   "execution_count": 38
  }
 ],
 "metadata": {
  "kernelspec": {
   "display_name": "Python 3",
   "language": "python",
   "name": "python3"
  },
  "language_info": {
   "codemirror_mode": {
    "name": "ipython",
    "version": 2
   },
   "file_extension": ".py",
   "mimetype": "text/x-python",
   "name": "python",
   "nbconvert_exporter": "python",
   "pygments_lexer": "ipython2",
   "version": "2.7.6"
  }
 },
 "nbformat": 4,
 "nbformat_minor": 5
}
