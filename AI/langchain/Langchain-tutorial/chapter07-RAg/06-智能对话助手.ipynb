{
 "cells": [
  {
   "metadata": {},
   "cell_type": "markdown",
   "source": "## 定义工具",
   "id": "bfa404c2e565ff6"
  },
  {
   "metadata": {
    "ExecuteTime": {
     "end_time": "2025-10-19T16:20:26.098950Z",
     "start_time": "2025-10-19T16:20:24.882334Z"
    }
   },
   "cell_type": "code",
   "source": [
    "import os\n",
    "import dotenv\n",
    "from langchain_community.document_loaders import WebBaseLoader\n",
    "from langchain_community.tools.tavily_search import TavilySearchResults\n",
    "from langchain_community.vectorstores import FAISS\n",
    "from langchain_openai import OpenAIEmbeddings\n",
    "from langchain_text_splitters import RecursiveCharacterTextSplitter\n",
    "\n",
    "dotenv.load_dotenv()\n",
    "os.environ[\"TAVILY_API_KEY\"] = os.getenv(\"TAVILY_API_KEY\")\n",
    "\n",
    "search = TavilySearchResults(max_results=1)\n",
    "\n",
    "res = search.invoke(\"今天上海的天气怎么样？2025年10月19日\")\n",
    "print(res)"
   ],
   "id": "df700d2c139fdae0",
   "outputs": [
    {
     "name": "stdout",
     "output_type": "stream",
     "text": [
      "[{'title': '上海今天冲刺入秋了！明天还会更冷｜丹丹看天气 - 新浪财经', 'url': 'https://finance.sina.com.cn/jjxw/2025-10-19/doc-infummwk6336493.shtml', 'content': '# 上海今天冲刺入秋了！明天还会更冷｜丹丹看天气\\n\\n2025年10月19日 18:07\\n滚动播报\\n\\n新浪财经APP举报\\n缩小字体\\n放大字体\\n收藏\\n微博\\n微信\\n分享\\n\\n腾讯QQ\\nQQ空间\\n\\n（来源：上观新闻）\\n\\n秋风瑟瑟，让人感受到了秋的寒意。冷空气持续发威，今天早晨，申城最低气温全面跌至“1”字头，其中徐家汇(8.550, -0.08, -0.93%)站最低气温19.3℃，这是6月12日至今129天来，徐家汇站最低气温首次跌破20℃。从今天的实况气温和未来几天的天气预报来看，今天起，上海的气温可以满足气象意义的入秋标准（上立秋后出现连续5天日平均气温＜22℃，其首日为入秋日），也就是说今天（10月19日）进入气象意义上的秋天。至此，今年夏天从5月12日开始，10月18日结束，一共持续了160天，位列史上第二，仅比2021年162天的“上海史上最长夏天”短了2天。\\n\\n明后天全天气温都在“1字头”\\n\\n今天白天，申城在北风相伴下，升温乏力，徐家汇站最高气温最终只有22.4℃。由于风力较大，今天的体感让人感受到了秋的诚意。 [...] ### 趋势领涨2025-10-18 20:39:10 [...] - 01/“可持续金融共同分类目录（CGT）市场创新运用研讨会”在上海举行\\n- 02/中国证监会修订发布《上市公司治理准则》\\n- 03/2025指数与量化投资发展论坛在上海北外滩举办\\n- 04/创新属性鲜明 上证580ETF易方达投资价值值得关注\\n- 05/造纸涂布消泡剂商品报价动态（2025-10-18）\\n- 06/小麦行情偏强运行 市场预期明显抬升\\n- 07/四水八硼酸钠商品报价动态（2025-10-18）\\n- 08/每亩补贴3000元？2025年粮补、粮价一夜大改！一户一田定了？土地归并最新消息！\\n- 09/中央气象台：大风预报72小时（10/19）\\n- 10/3大核心功能+6大应用场景：一键测算到厂成本，省到就是赚到！\\n\\n## 7X24小时\\n\\n徐小明 凯恩斯 占豪 花荣 金鼎 wu2198 丁大卫 易宪容 叶荣添 沙黾农 冯矿伟 趋势之友 空空道人 股市风云 股海光头\\n\\n杨伟民- 付一夫：\\n  十五五规划的六大政策发力点\\n- 刘晓曙：\\n  资产配置——黄金？还是美股\\n- 温彬：\\n  9月信贷季节性回升\\n- 李德林：\\n  受贿者孙彬\\n- 李扬：\\n  稳定币将如何终结货币本身？', 'score': 0.9302622}]\n"
     ]
    }
   ],
   "execution_count": 8
  },
  {
   "metadata": {},
   "cell_type": "markdown",
   "source": "## 定义retriever",
   "id": "d70797f9dd754e85"
  },
  {
   "metadata": {
    "ExecuteTime": {
     "end_time": "2025-10-19T16:20:34.228406Z",
     "start_time": "2025-10-19T16:20:29.295938Z"
    }
   },
   "cell_type": "code",
   "source": [
    "os.environ[\"OPENAI_API_KEY\"] = os.getenv(\"OPENAI_API_KEY\")\n",
    "os.environ[\"OPENAI_BASE_URL\"] = os.getenv(\"OPENAI_BASE_URL\")\n",
    "\n",
    "embedding_model = OpenAIEmbeddings()\n",
    "\n",
    "loader = WebBaseLoader(\"https://zh.wikipedia.org/wiki/%E7%8C%AB\")\n",
    "docs = loader.load()\n",
    "\n",
    "splitter = RecursiveCharacterTextSplitter(\n",
    "    chunk_size=1000,\n",
    "    chunk_overlap=200\n",
    ")\n",
    "\n",
    "documents = splitter.split_documents(docs)\n",
    "\n",
    "vector = FAISS.from_documents(documents, embedding_model)\n",
    "\n",
    "retriever = vector.as_retriever()\n",
    "\n",
    "print(retriever.invoke(\"猫咪的特征\")[0])"
   ],
   "id": "1073d7419acc530b",
   "outputs": [
    {
     "name": "stdout",
     "output_type": "stream",
     "text": [
      "page_content='感官[编辑]\n",
      "貓的感官適於狩獵。在哺乳類動物中，貓的聽覺、視覺、嗅覺、味覺、觸覺極敏銳。\n",
      "\n",
      "視覺[编辑]\n",
      "貓的瞳孔能縮得如線般狹小\n",
      "貓的瞳孔變化\n",
      "貓在晝間視覺縱不及人類，夜視能力與追蹤視覺上之活動物件卻相當出色，夜視能力是人類的六倍，雖然綜合色彩計算整體視覺系數則僅及人類的十分之一。貓的眼睛具有微光觀察能力，即使只有微弱月光都可分辨物件，有關光線入貓眼後可放大40至50倍處理，令貓具有夜間活動的能力，即使在黑暗的地下室貓咪依然能活動自如。強光下，貓會將瞳孔縮得如線般狹小，以減少對視網膜的傷害，但視野會因而縮窄。由於貓眼具備高幀與高分辨率視覺，故此電視機極微細之動靜對貓而言亦成逐格跳躍之畫面。[51]\n",
      "另外，不只是光線會影響貓的瞳孔，感情也會。一般而言貓放鬆的時候瞳孔會縮小，而緊張時會放大。\n",
      "貓的視網膜背面有一層藍綠色如熒光一般的薄膜（Tapetum Lucidum），可增加在暗處的視力。閃光中，貓眼能呈現各式各樣顔色。如同多數食肉動物，貓眼長在臉上朝正前方，賦予其遼闊的視野，單一貓眼視野為100度，雙眼視野為285度，加上頸旋靈活，總計視野比人類雙眼僅100度靈活得多。不過，貓僅能聚焦其前30厘米至3米之物件，相對人類而言屬大近視。\n",
      "貓對三原色的辨識力很差，相對人類而言，貓有黃藍色盲且紅綠色辨成灰黃色，與狗相似。關於貓的夜視能力，生物學家發現牛磺酸對貓的視力起了很大作用，貓本身不能合成牛磺酸，必須由外攝取。缺乏牛磺酸，會使視力及夜視能力變差，影響夜間活動。據生物學家稱，貓經常捕鼠，是因老鼠體內含牛磺酸。[52][53]\n",
      "紫外線可以通過貓的晶状体。\n",
      "當四周光線微弱，貓會用感覺毛來改善行動力與感知能力。感覺毛主要分布於鼻子兩側、下巴、雙眼上方、兩頰也有數根。感覺毛可感受非常微弱的空氣波動，視野不清時也能協助辨識阻礙位置。鬍鬚尖端與雙耳連成一線，恰是身體能通過障礙的最小範圍，故貓可在黑夜中快速判斷地形能否通過。\n",
      "貓有第三眼瞼，當貓眼睑張開時，眨眼時第三眼瞼會從旁稍微遮蓋眼睛。若貓生病，或是睡眠，笑著，此眼皮會縮回一部分。若貓長時間嶄露第三眼瞼，表示它的健康有問題。' metadata={'source': 'https://zh.wikipedia.org/wiki/%E7%8C%AB', 'title': '猫 - 维基百科，自由的百科全书', 'language': 'zh'}\n"
     ]
    }
   ],
   "execution_count": 9
  },
  {
   "metadata": {},
   "cell_type": "markdown",
   "source": "## 创建工具、工具集",
   "id": "f8e650ddcab3701c"
  },
  {
   "metadata": {
    "ExecuteTime": {
     "end_time": "2025-10-19T16:20:36.839764Z",
     "start_time": "2025-10-19T16:20:36.837390Z"
    }
   },
   "cell_type": "code",
   "source": [
    "from langchain.tools.retriever import create_retriever_tool\n",
    "\n",
    "retriever_tool = create_retriever_tool(\n",
    "    retriever=retriever,\n",
    "    name=\"wiki_search\",\n",
    "    description=\"用于搜索信息,搜索维基百科\",\n",
    ")\n",
    "\n",
    "tools = [search, retriever_tool]"
   ],
   "id": "c8f1fc0871e909ad",
   "outputs": [],
   "execution_count": 10
  },
  {
   "metadata": {},
   "cell_type": "markdown",
   "source": "## 语言模型调用工具",
   "id": "99c7486c7d2766aa"
  },
  {
   "metadata": {
    "ExecuteTime": {
     "end_time": "2025-10-19T16:20:42.570358Z",
     "start_time": "2025-10-19T16:20:41.527151Z"
    }
   },
   "cell_type": "code",
   "source": [
    "from langchain_openai import ChatOpenAI\n",
    "from langchain_core.messages import HumanMessage\n",
    "\n",
    "model = ChatOpenAI(model_name=\"gpt-4o-mini\")\n",
    "\n",
    "model_with_tools = model.bind_tools(tools)\n",
    "\n",
    "messages = [HumanMessage(content=\"今天的上海的天气怎么样？\")]\n",
    "response = model_with_tools.invoke(messages)\n",
    "print(f\"返回内容：{response.content}\")\n",
    "print(f\"ToolCalls: {response.tool_calls}\")"
   ],
   "id": "90d7c37e83819049",
   "outputs": [
    {
     "name": "stdout",
     "output_type": "stream",
     "text": [
      "返回内容：\n",
      "ToolCalls: [{'name': 'tavily_search_results_json', 'args': {'query': '上海 今日天气'}, 'id': 'call_DqJzIxnYTq4aojceO6c3o9Tw', 'type': 'tool_call'}]\n"
     ]
    }
   ],
   "execution_count": 11
  },
  {
   "metadata": {},
   "cell_type": "markdown",
   "source": "## 创建Agent程序",
   "id": "e45d0f55c34a9ecd"
  },
  {
   "metadata": {
    "ExecuteTime": {
     "end_time": "2025-10-19T16:25:39.980401Z",
     "start_time": "2025-10-19T16:25:39.798322Z"
    }
   },
   "cell_type": "code",
   "source": [
    "from langchain.agents import create_tool_calling_agent, AgentExecutor\n",
    "from langchain import hub\n",
    "\n",
    "prompt = hub.pull(\"hwchase17/openai-functions-agent\")\n",
    "\n",
    "print(prompt.messages)\n",
    "\n",
    "agent = create_tool_calling_agent(model, tools, prompt)\n",
    "\n",
    "agent_executor = AgentExecutor(\n",
    "    agent=agent, tools=tools,verbose=True\n",
    ")"
   ],
   "id": "641f2eb7b85d4eb2",
   "outputs": [
    {
     "name": "stderr",
     "output_type": "stream",
     "text": [
      "Exception ignored in: <bound method IPythonKernel._clean_thread_parent_frames of <ipykernel.ipkernel.IPythonKernel object at 0x104aa9a90>>\n",
      "Traceback (most recent call last):\n",
      "  File \"/opt/anaconda3/envs/py311/lib/python3.11/site-packages/ipykernel/ipkernel.py\", line 781, in _clean_thread_parent_frames\n",
      "    def _clean_thread_parent_frames(\n",
      "\n",
      "KeyboardInterrupt: \n"
     ]
    },
    {
     "ename": "ImportError",
     "evalue": "cannot import name 'format_tool_to_openai_function' from 'langchain_core.utils.function_calling' (/opt/anaconda3/envs/py311/lib/python3.11/site-packages/langchain_core/utils/function_calling.py)",
     "output_type": "error",
     "traceback": [
      "\u001B[31m---------------------------------------------------------------------------\u001B[39m",
      "\u001B[31mImportError\u001B[39m                               Traceback (most recent call last)",
      "\u001B[36mCell\u001B[39m\u001B[36m \u001B[39m\u001B[32mIn[27]\u001B[39m\u001B[32m, line 1\u001B[39m\n\u001B[32m----> \u001B[39m\u001B[32m1\u001B[39m \u001B[38;5;28;01mfrom\u001B[39;00m\u001B[38;5;250m \u001B[39m\u001B[34;01mlangchain\u001B[39;00m\u001B[34;01m.\u001B[39;00m\u001B[34;01magents\u001B[39;00m\u001B[38;5;250m \u001B[39m\u001B[38;5;28;01mimport\u001B[39;00m create_tool_calling_agent, AgentExecutor\n\u001B[32m      2\u001B[39m \u001B[38;5;28;01mfrom\u001B[39;00m\u001B[38;5;250m \u001B[39m\u001B[34;01mlangchain\u001B[39;00m\u001B[38;5;250m \u001B[39m\u001B[38;5;28;01mimport\u001B[39;00m hub\n\u001B[32m      4\u001B[39m prompt = hub.pull(\u001B[33m\"\u001B[39m\u001B[33mhwchase17/openai-functions-agent\u001B[39m\u001B[33m\"\u001B[39m)\n",
      "\u001B[36mFile \u001B[39m\u001B[32m/opt/anaconda3/envs/py311/lib/python3.11/site-packages/langchain/agents/__init__.py:56\u001B[39m\n\u001B[32m     54\u001B[39m \u001B[38;5;28;01mfrom\u001B[39;00m\u001B[38;5;250m \u001B[39m\u001B[34;01mlangchain\u001B[39;00m\u001B[34;01m.\u001B[39;00m\u001B[34;01magents\u001B[39;00m\u001B[34;01m.\u001B[39;00m\u001B[34;01mconversational\u001B[39;00m\u001B[34;01m.\u001B[39;00m\u001B[34;01mbase\u001B[39;00m\u001B[38;5;250m \u001B[39m\u001B[38;5;28;01mimport\u001B[39;00m ConversationalAgent\n\u001B[32m     55\u001B[39m \u001B[38;5;28;01mfrom\u001B[39;00m\u001B[38;5;250m \u001B[39m\u001B[34;01mlangchain\u001B[39;00m\u001B[34;01m.\u001B[39;00m\u001B[34;01magents\u001B[39;00m\u001B[34;01m.\u001B[39;00m\u001B[34;01mconversational_chat\u001B[39;00m\u001B[34;01m.\u001B[39;00m\u001B[34;01mbase\u001B[39;00m\u001B[38;5;250m \u001B[39m\u001B[38;5;28;01mimport\u001B[39;00m ConversationalChatAgent\n\u001B[32m---> \u001B[39m\u001B[32m56\u001B[39m \u001B[38;5;28;01mfrom\u001B[39;00m\u001B[38;5;250m \u001B[39m\u001B[34;01mlangchain\u001B[39;00m\u001B[34;01m.\u001B[39;00m\u001B[34;01magents\u001B[39;00m\u001B[34;01m.\u001B[39;00m\u001B[34;01minitialize\u001B[39;00m\u001B[38;5;250m \u001B[39m\u001B[38;5;28;01mimport\u001B[39;00m initialize_agent\n\u001B[32m     57\u001B[39m \u001B[38;5;28;01mfrom\u001B[39;00m\u001B[38;5;250m \u001B[39m\u001B[34;01mlangchain\u001B[39;00m\u001B[34;01m.\u001B[39;00m\u001B[34;01magents\u001B[39;00m\u001B[34;01m.\u001B[39;00m\u001B[34;01mjson_chat\u001B[39;00m\u001B[34;01m.\u001B[39;00m\u001B[34;01mbase\u001B[39;00m\u001B[38;5;250m \u001B[39m\u001B[38;5;28;01mimport\u001B[39;00m create_json_chat_agent\n\u001B[32m     58\u001B[39m \u001B[38;5;28;01mfrom\u001B[39;00m\u001B[38;5;250m \u001B[39m\u001B[34;01mlangchain\u001B[39;00m\u001B[34;01m.\u001B[39;00m\u001B[34;01magents\u001B[39;00m\u001B[34;01m.\u001B[39;00m\u001B[34;01mloading\u001B[39;00m\u001B[38;5;250m \u001B[39m\u001B[38;5;28;01mimport\u001B[39;00m load_agent\n",
      "\u001B[36mFile \u001B[39m\u001B[32m/opt/anaconda3/envs/py311/lib/python3.11/site-packages/langchain/agents/initialize.py:15\u001B[39m\n\u001B[32m     13\u001B[39m \u001B[38;5;28;01mfrom\u001B[39;00m\u001B[38;5;250m \u001B[39m\u001B[34;01mlangchain\u001B[39;00m\u001B[34;01m.\u001B[39;00m\u001B[34;01magents\u001B[39;00m\u001B[34;01m.\u001B[39;00m\u001B[34;01magent\u001B[39;00m\u001B[38;5;250m \u001B[39m\u001B[38;5;28;01mimport\u001B[39;00m AgentExecutor\n\u001B[32m     14\u001B[39m \u001B[38;5;28;01mfrom\u001B[39;00m\u001B[38;5;250m \u001B[39m\u001B[34;01mlangchain\u001B[39;00m\u001B[34;01m.\u001B[39;00m\u001B[34;01magents\u001B[39;00m\u001B[34;01m.\u001B[39;00m\u001B[34;01magent_types\u001B[39;00m\u001B[38;5;250m \u001B[39m\u001B[38;5;28;01mimport\u001B[39;00m AgentType\n\u001B[32m---> \u001B[39m\u001B[32m15\u001B[39m \u001B[38;5;28;01mfrom\u001B[39;00m\u001B[38;5;250m \u001B[39m\u001B[34;01mlangchain\u001B[39;00m\u001B[34;01m.\u001B[39;00m\u001B[34;01magents\u001B[39;00m\u001B[34;01m.\u001B[39;00m\u001B[34;01mloading\u001B[39;00m\u001B[38;5;250m \u001B[39m\u001B[38;5;28;01mimport\u001B[39;00m load_agent\n\u001B[32m     16\u001B[39m \u001B[38;5;28;01mfrom\u001B[39;00m\u001B[38;5;250m \u001B[39m\u001B[34;01mlangchain\u001B[39;00m\u001B[34;01m.\u001B[39;00m\u001B[34;01magents\u001B[39;00m\u001B[34;01m.\u001B[39;00m\u001B[34;01mtypes\u001B[39;00m\u001B[38;5;250m \u001B[39m\u001B[38;5;28;01mimport\u001B[39;00m AGENT_TO_CLASS\n\u001B[32m     19\u001B[39m \u001B[38;5;129m@deprecated\u001B[39m(\n\u001B[32m     20\u001B[39m     \u001B[33m\"\u001B[39m\u001B[33m0.1.0\u001B[39m\u001B[33m\"\u001B[39m,\n\u001B[32m     21\u001B[39m     message=AGENT_DEPRECATION_WARNING,\n\u001B[32m   (...)\u001B[39m\u001B[32m     33\u001B[39m     **kwargs: Any,\n\u001B[32m     34\u001B[39m ) -> AgentExecutor:\n",
      "\u001B[36mFile \u001B[39m\u001B[32m/opt/anaconda3/envs/py311/lib/python3.11/site-packages/langchain/agents/loading.py:14\u001B[39m\n\u001B[32m     11\u001B[39m \u001B[38;5;28;01mfrom\u001B[39;00m\u001B[38;5;250m \u001B[39m\u001B[34;01mlangchain_core\u001B[39;00m\u001B[34;01m.\u001B[39;00m\u001B[34;01mtools\u001B[39;00m\u001B[38;5;250m \u001B[39m\u001B[38;5;28;01mimport\u001B[39;00m Tool\n\u001B[32m     13\u001B[39m \u001B[38;5;28;01mfrom\u001B[39;00m\u001B[38;5;250m \u001B[39m\u001B[34;01mlangchain\u001B[39;00m\u001B[34;01m.\u001B[39;00m\u001B[34;01magents\u001B[39;00m\u001B[34;01m.\u001B[39;00m\u001B[34;01magent\u001B[39;00m\u001B[38;5;250m \u001B[39m\u001B[38;5;28;01mimport\u001B[39;00m BaseMultiActionAgent, BaseSingleActionAgent\n\u001B[32m---> \u001B[39m\u001B[32m14\u001B[39m \u001B[38;5;28;01mfrom\u001B[39;00m\u001B[38;5;250m \u001B[39m\u001B[34;01mlangchain\u001B[39;00m\u001B[34;01m.\u001B[39;00m\u001B[34;01magents\u001B[39;00m\u001B[34;01m.\u001B[39;00m\u001B[34;01mtypes\u001B[39;00m\u001B[38;5;250m \u001B[39m\u001B[38;5;28;01mimport\u001B[39;00m AGENT_TO_CLASS\n\u001B[32m     15\u001B[39m \u001B[38;5;28;01mfrom\u001B[39;00m\u001B[38;5;250m \u001B[39m\u001B[34;01mlangchain\u001B[39;00m\u001B[34;01m.\u001B[39;00m\u001B[34;01mchains\u001B[39;00m\u001B[34;01m.\u001B[39;00m\u001B[34;01mloading\u001B[39;00m\u001B[38;5;250m \u001B[39m\u001B[38;5;28;01mimport\u001B[39;00m load_chain, load_chain_from_config\n\u001B[32m     17\u001B[39m logger = logging.getLogger(\u001B[34m__file__\u001B[39m)\n",
      "\u001B[36mFile \u001B[39m\u001B[32m/opt/anaconda3/envs/py311/lib/python3.11/site-packages/langchain/agents/types.py:13\u001B[39m\n\u001B[32m     11\u001B[39m \u001B[38;5;28;01mfrom\u001B[39;00m\u001B[38;5;250m \u001B[39m\u001B[34;01mlangchain\u001B[39;00m\u001B[34;01m.\u001B[39;00m\u001B[34;01magents\u001B[39;00m\u001B[34;01m.\u001B[39;00m\u001B[34;01mreact\u001B[39;00m\u001B[34;01m.\u001B[39;00m\u001B[34;01mbase\u001B[39;00m\u001B[38;5;250m \u001B[39m\u001B[38;5;28;01mimport\u001B[39;00m ReActDocstoreAgent\n\u001B[32m     12\u001B[39m \u001B[38;5;28;01mfrom\u001B[39;00m\u001B[38;5;250m \u001B[39m\u001B[34;01mlangchain\u001B[39;00m\u001B[34;01m.\u001B[39;00m\u001B[34;01magents\u001B[39;00m\u001B[34;01m.\u001B[39;00m\u001B[34;01mself_ask_with_search\u001B[39;00m\u001B[34;01m.\u001B[39;00m\u001B[34;01mbase\u001B[39;00m\u001B[38;5;250m \u001B[39m\u001B[38;5;28;01mimport\u001B[39;00m SelfAskWithSearchAgent\n\u001B[32m---> \u001B[39m\u001B[32m13\u001B[39m \u001B[38;5;28;01mfrom\u001B[39;00m\u001B[38;5;250m \u001B[39m\u001B[34;01mlangchain\u001B[39;00m\u001B[34;01m.\u001B[39;00m\u001B[34;01magents\u001B[39;00m\u001B[34;01m.\u001B[39;00m\u001B[34;01mstructured_chat\u001B[39;00m\u001B[34;01m.\u001B[39;00m\u001B[34;01mbase\u001B[39;00m\u001B[38;5;250m \u001B[39m\u001B[38;5;28;01mimport\u001B[39;00m StructuredChatAgent\n\u001B[32m     15\u001B[39m AGENT_TYPE = Union[\u001B[38;5;28mtype\u001B[39m[BaseSingleActionAgent], \u001B[38;5;28mtype\u001B[39m[OpenAIMultiFunctionsAgent]]\n\u001B[32m     17\u001B[39m AGENT_TO_CLASS: \u001B[38;5;28mdict\u001B[39m[AgentType, AGENT_TYPE] = {\n\u001B[32m     18\u001B[39m     AgentType.ZERO_SHOT_REACT_DESCRIPTION: ZeroShotAgent,\n\u001B[32m     19\u001B[39m     AgentType.REACT_DOCSTORE: ReActDocstoreAgent,\n\u001B[32m   (...)\u001B[39m\u001B[32m     26\u001B[39m     AgentType.OPENAI_MULTI_FUNCTIONS: OpenAIMultiFunctionsAgent,\n\u001B[32m     27\u001B[39m }\n",
      "\u001B[36mFile \u001B[39m\u001B[32m/opt/anaconda3/envs/py311/lib/python3.11/site-packages/langchain/agents/structured_chat/base.py:28\u001B[39m\n\u001B[32m     26\u001B[39m \u001B[38;5;28;01mfrom\u001B[39;00m\u001B[38;5;250m \u001B[39m\u001B[34;01mlangchain\u001B[39;00m\u001B[34;01m.\u001B[39;00m\u001B[34;01magents\u001B[39;00m\u001B[34;01m.\u001B[39;00m\u001B[34;01mstructured_chat\u001B[39;00m\u001B[34;01m.\u001B[39;00m\u001B[34;01mprompt\u001B[39;00m\u001B[38;5;250m \u001B[39m\u001B[38;5;28;01mimport\u001B[39;00m FORMAT_INSTRUCTIONS, PREFIX, SUFFIX\n\u001B[32m     27\u001B[39m \u001B[38;5;28;01mfrom\u001B[39;00m\u001B[38;5;250m \u001B[39m\u001B[34;01mlangchain\u001B[39;00m\u001B[34;01m.\u001B[39;00m\u001B[34;01mchains\u001B[39;00m\u001B[34;01m.\u001B[39;00m\u001B[34;01mllm\u001B[39;00m\u001B[38;5;250m \u001B[39m\u001B[38;5;28;01mimport\u001B[39;00m LLMChain\n\u001B[32m---> \u001B[39m\u001B[32m28\u001B[39m \u001B[38;5;28;01mfrom\u001B[39;00m\u001B[38;5;250m \u001B[39m\u001B[34;01mlangchain\u001B[39;00m\u001B[34;01m.\u001B[39;00m\u001B[34;01mtools\u001B[39;00m\u001B[34;01m.\u001B[39;00m\u001B[34;01mrender\u001B[39;00m\u001B[38;5;250m \u001B[39m\u001B[38;5;28;01mimport\u001B[39;00m render_text_description_and_args\n\u001B[32m     30\u001B[39m HUMAN_MESSAGE_TEMPLATE = \u001B[33m\"\u001B[39m\u001B[38;5;132;01m{input}\u001B[39;00m\u001B[38;5;130;01m\\n\u001B[39;00m\u001B[38;5;130;01m\\n\u001B[39;00m\u001B[38;5;132;01m{agent_scratchpad}\u001B[39;00m\u001B[33m\"\u001B[39m\n\u001B[32m     33\u001B[39m \u001B[38;5;129m@deprecated\u001B[39m(\u001B[33m\"\u001B[39m\u001B[33m0.1.0\u001B[39m\u001B[33m\"\u001B[39m, alternative=\u001B[33m\"\u001B[39m\u001B[33mcreate_structured_chat_agent\u001B[39m\u001B[33m\"\u001B[39m, removal=\u001B[33m\"\u001B[39m\u001B[33m1.0\u001B[39m\u001B[33m\"\u001B[39m)\n\u001B[32m     34\u001B[39m \u001B[38;5;28;01mclass\u001B[39;00m\u001B[38;5;250m \u001B[39m\u001B[34;01mStructuredChatAgent\u001B[39;00m(Agent):\n",
      "\u001B[36mFile \u001B[39m\u001B[32m/opt/anaconda3/envs/py311/lib/python3.11/site-packages/langchain/tools/render.py:13\u001B[39m\n\u001B[32m      8\u001B[39m \u001B[38;5;66;03m# For backwards compatibility\u001B[39;00m\n\u001B[32m      9\u001B[39m \u001B[38;5;28;01mfrom\u001B[39;00m\u001B[38;5;250m \u001B[39m\u001B[34;01mlangchain_core\u001B[39;00m\u001B[34;01m.\u001B[39;00m\u001B[34;01mtools\u001B[39;00m\u001B[38;5;250m \u001B[39m\u001B[38;5;28;01mimport\u001B[39;00m (\n\u001B[32m     10\u001B[39m     render_text_description,\n\u001B[32m     11\u001B[39m     render_text_description_and_args,\n\u001B[32m     12\u001B[39m )\n\u001B[32m---> \u001B[39m\u001B[32m13\u001B[39m \u001B[38;5;28;01mfrom\u001B[39;00m\u001B[38;5;250m \u001B[39m\u001B[34;01mlangchain_core\u001B[39;00m\u001B[34;01m.\u001B[39;00m\u001B[34;01mutils\u001B[39;00m\u001B[34;01m.\u001B[39;00m\u001B[34;01mfunction_calling\u001B[39;00m\u001B[38;5;250m \u001B[39m\u001B[38;5;28;01mimport\u001B[39;00m (\n\u001B[32m     14\u001B[39m     format_tool_to_openai_function,\n\u001B[32m     15\u001B[39m     format_tool_to_openai_tool,\n\u001B[32m     16\u001B[39m )\n\u001B[32m     18\u001B[39m __all__ = [\n\u001B[32m     19\u001B[39m     \u001B[33m\"\u001B[39m\u001B[33mformat_tool_to_openai_function\u001B[39m\u001B[33m\"\u001B[39m,\n\u001B[32m     20\u001B[39m     \u001B[33m\"\u001B[39m\u001B[33mformat_tool_to_openai_tool\u001B[39m\u001B[33m\"\u001B[39m,\n\u001B[32m     21\u001B[39m     \u001B[33m\"\u001B[39m\u001B[33mrender_text_description\u001B[39m\u001B[33m\"\u001B[39m,\n\u001B[32m     22\u001B[39m     \u001B[33m\"\u001B[39m\u001B[33mrender_text_description_and_args\u001B[39m\u001B[33m\"\u001B[39m,\n\u001B[32m     23\u001B[39m ]\n",
      "\u001B[31mImportError\u001B[39m: cannot import name 'format_tool_to_openai_function' from 'langchain_core.utils.function_calling' (/opt/anaconda3/envs/py311/lib/python3.11/site-packages/langchain_core/utils/function_calling.py)"
     ]
    }
   ],
   "execution_count": 27
  },
  {
   "metadata": {},
   "cell_type": "markdown",
   "source": "## 运行Agent",
   "id": "66134c078f918cd4"
  },
  {
   "metadata": {
    "ExecuteTime": {
     "end_time": "2025-10-19T15:58:57.966959Z",
     "start_time": "2025-10-19T15:58:57.947262Z"
    }
   },
   "cell_type": "code",
   "source": [
    "print(agent_executor.invoke({\"input\": \"猫咪的特征\"}))\n",
    "\n",
    "print(agent_executor.invoke({\"input\": \"今天上海的天气怎么样？\"}))"
   ],
   "id": "c7d222988d738700",
   "outputs": [
    {
     "ename": "NameError",
     "evalue": "name 'agent_executor' is not defined",
     "output_type": "error",
     "traceback": [
      "\u001B[31m---------------------------------------------------------------------------\u001B[39m",
      "\u001B[31mNameError\u001B[39m                                 Traceback (most recent call last)",
      "\u001B[36mCell\u001B[39m\u001B[36m \u001B[39m\u001B[32mIn[14]\u001B[39m\u001B[32m, line 1\u001B[39m\n\u001B[32m----> \u001B[39m\u001B[32m1\u001B[39m \u001B[38;5;28mprint\u001B[39m(\u001B[43magent_executor\u001B[49m.invoke({\u001B[33m\"\u001B[39m\u001B[33minput\u001B[39m\u001B[33m\"\u001B[39m: \u001B[33m\"\u001B[39m\u001B[33m猫咪的特征\u001B[39m\u001B[33m\"\u001B[39m}))\n\u001B[32m      3\u001B[39m \u001B[38;5;28mprint\u001B[39m(agent_executor.invoke({\u001B[33m\"\u001B[39m\u001B[33minput\u001B[39m\u001B[33m\"\u001B[39m: \u001B[33m\"\u001B[39m\u001B[33m今天上海的天气怎么样？\u001B[39m\u001B[33m\"\u001B[39m}))\n",
      "\u001B[31mNameError\u001B[39m: name 'agent_executor' is not defined"
     ]
    }
   ],
   "execution_count": 14
  },
  {
   "metadata": {},
   "cell_type": "markdown",
   "source": "## 添加记忆",
   "id": "e7162910124534a8"
  },
  {
   "metadata": {},
   "cell_type": "code",
   "outputs": [],
   "execution_count": null,
   "source": "",
   "id": "5e2af1279bba3f91"
  },
  {
   "metadata": {},
   "cell_type": "markdown",
   "source": "",
   "id": "2354be8703f7398"
  }
 ],
 "metadata": {
  "kernelspec": {
   "display_name": "Python 3",
   "language": "python",
   "name": "python3"
  },
  "language_info": {
   "codemirror_mode": {
    "name": "ipython",
    "version": 2
   },
   "file_extension": ".py",
   "mimetype": "text/x-python",
   "name": "python",
   "nbconvert_exporter": "python",
   "pygments_lexer": "ipython2",
   "version": "2.7.6"
  }
 },
 "nbformat": 4,
 "nbformat_minor": 5
}
