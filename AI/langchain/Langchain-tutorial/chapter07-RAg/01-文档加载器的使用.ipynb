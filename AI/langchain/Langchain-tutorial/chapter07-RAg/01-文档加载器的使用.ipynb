{
 "cells": [
  {
   "metadata": {
    "ExecuteTime": {
     "end_time": "2025-10-16T16:19:31.693605Z",
     "start_time": "2025-10-16T16:19:31.441059Z"
    }
   },
   "cell_type": "code",
   "source": [
    "from langchain_community.document_loaders import JSONLoader\n",
    "\n",
    "json_loader = JSONLoader(\n",
    "    file_path=\"./json-text.json\",\n",
    "    jq_schema='.',\n",
    "    text_content=False # 设置为False表示将JSON以字符串的形式输出\n",
    ")\n",
    "\n",
    "docs = json_loader.load()\n",
    "\n",
    "print(docs)"
   ],
   "id": "9cca189aad093cff",
   "outputs": [
    {
     "name": "stdout",
     "output_type": "stream",
     "text": [
      "[Document(metadata={'source': '/Users/a1234/github_repository/Learning/langchain/Langchain-tutorial/chapter07-RAg/json-text.json', 'seq_num': 1}, page_content='{\"user\": {\"id\": 102938, \"username\": \"liang_zhichao\", \"profile\": {\"nickname\": \"\\\\u5fd7\\\\u8d85\", \"email\": \"liang.zhichao@example.com\", \"phone\": \"+86-13800138000\", \"birth_date\": \"1997-09-12\", \"gender\": \"male\", \"verified\": true, \"address\": {\"country\": \"China\", \"province\": \"Shandong\", \"city\": \"Jinan\", \"zip_code\": \"250000\", \"geo\": {\"lat\": 36.6502, \"lng\": 117.1201}}}, \"preferences\": {\"language\": [\"zh-CN\", \"en-US\"], \"theme\": \"dark\", \"notifications\": {\"email\": true, \"sms\": false, \"push\": {\"enabled\": true, \"sound\": \"default\", \"vibration\": true}}}}, \"projects\": [{\"id\": \"P-001\", \"name\": \"Internet Hospital Platform\", \"status\": \"in_progress\", \"progress\": 0.68, \"team\": [{\"name\": \"Alice\", \"role\": \"Frontend Developer\"}, {\"name\": \"Bob\", \"role\": \"Backend Engineer\"}, {\"name\": \"Carol\", \"role\": \"Tester\"}], \"last_update\": \"2025-10-16T09:30:00Z\"}, {\"id\": \"P-002\", \"name\": \"Mobile Nursing App\", \"status\": \"completed\", \"progress\": 1, \"team\": [{\"name\": \"David\", \"role\": \"UI Designer\"}, {\"name\": \"Eva\", \"role\": \"Product Manager\"}], \"last_update\": \"2025-09-05T14:00:00Z\"}], \"system\": {\"version\": \"3.2.1\", \"release_date\": \"2025-10-10\", \"active_users\": 5283, \"maintenance\": null, \"features\": {\"ai_assistant\": true, \"data_sync\": true, \"multi_tenant\": false}}}')]\n"
     ]
    }
   ],
   "execution_count": 1
  },
  {
   "metadata": {
    "ExecuteTime": {
     "end_time": "2025-10-16T16:23:30.552737Z",
     "start_time": "2025-10-16T16:23:30.546879Z"
    }
   },
   "cell_type": "code",
   "source": [
    "from langchain_community.document_loaders import JSONLoader\n",
    "\n",
    "json_loader = JSONLoader(\n",
    "    file_path=\"./json-text.json\",\n",
    "    jq_schema='.user.preferences.language[]', # .表示最外层的{}，.user.preferences.language[]表示获取user.preferences.language数组\n",
    "    text_content=False # 设置为False表示将JSON以字符串的形式输出\n",
    ")\n",
    "\n",
    "docs = json_loader.load()\n",
    "\n",
    "for doc in docs:\n",
    "    print(doc.page_content)"
   ],
   "id": "f224ff7ce8644dbe",
   "outputs": [
    {
     "name": "stdout",
     "output_type": "stream",
     "text": [
      "zh-CN\n",
      "en-US\n"
     ]
    }
   ],
   "execution_count": 6
  }
 ],
 "metadata": {
  "kernelspec": {
   "display_name": "Python 3",
   "language": "python",
   "name": "python3"
  },
  "language_info": {
   "codemirror_mode": {
    "name": "ipython",
    "version": 2
   },
   "file_extension": ".py",
   "mimetype": "text/x-python",
   "name": "python",
   "nbconvert_exporter": "python",
   "pygments_lexer": "ipython2",
   "version": "2.7.6"
  }
 },
 "nbformat": 4,
 "nbformat_minor": 5
}
