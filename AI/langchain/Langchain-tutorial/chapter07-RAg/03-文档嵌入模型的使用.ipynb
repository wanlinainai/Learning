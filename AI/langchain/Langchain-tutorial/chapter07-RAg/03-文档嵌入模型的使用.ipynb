{
 "cells": [
  {
   "cell_type": "code",
   "execution_count": null,
   "id": "initial_id",
   "metadata": {
    "collapsed": true
   },
   "outputs": [],
   "source": [
    ""
   ]
  },
  {
   "metadata": {},
   "cell_type": "markdown",
   "source": "## 句子的向量化\n",
   "id": "5a4fba679b6023b2"
  },
  {
   "metadata": {
    "ExecuteTime": {
     "end_time": "2025-10-19T12:36:47.529282Z",
     "start_time": "2025-10-19T12:36:46.889122Z"
    }
   },
   "cell_type": "code",
   "source": [
    "from langchain_core.utils import print_text\n",
    "from langchain_openai import OpenAIEmbeddings\n",
    "import os\n",
    "import dotenv\n",
    "\n",
    "dotenv.load_dotenv()\n",
    "\n",
    "os.environ[\"OPENAI_API_KEY\"] = os.getenv(\"OPENAI_API_KEY\")\n",
    "os.environ[\"OPENAI_BASE_URL\"] = os.getenv(\"OPENAI_BASE_URL\")\n",
    "\n",
    "embedding_model = OpenAIEmbeddings(model=\"text-embedding-3-large\") # 3072\n",
    "# embedding_model = OpenAIEmbeddings(model=\"text-embedding-ada-002\") # 1536\n",
    "\n",
    "text = \"Nice to meet you\"\n",
    "\n",
    "embedding_query = embedding_model.embed_query(text=text,)\n",
    "\n",
    "print(len(embedding_query))\n",
    "\n",
    "print(embedding_query[:10])"
   ],
   "id": "90d2bfe94b2785c",
   "outputs": [
    {
     "name": "stdout",
     "output_type": "stream",
     "text": [
      "3072\n",
      "[-0.036205604672431946, 0.038012921810150146, -0.005825635977089405, 0.00047960574738681316, -0.0009041216690093279, -0.0055626858957111835, -0.014939997345209122, 0.031731754541397095, 0.02293219231069088, 0.0550491139292717]\n"
     ]
    }
   ],
   "execution_count": 3
  },
  {
   "metadata": {},
   "cell_type": "markdown",
   "source": "## 文档向量化",
   "id": "4967b6f3e9afd0db"
  },
  {
   "metadata": {
    "ExecuteTime": {
     "end_time": "2025-10-19T12:41:09.218486Z",
     "start_time": "2025-10-19T12:41:08.395821Z"
    }
   },
   "cell_type": "code",
   "source": [
    "from langchain_openai import OpenAIEmbeddings\n",
    "import os\n",
    "import dotenv\n",
    "\n",
    "dotenv.load_dotenv()\n",
    "\n",
    "os.environ[\"OPENAI_API_KEY\"] = os.getenv(\"OPENAI_API_KEY\")\n",
    "os.environ[\"OPENAI_BASE_URL\"] = os.getenv(\"OPENAI_BASE_URL\")\n",
    "\n",
    "# embedding_model = OpenAIEmbeddings(model=\"text-embedding-3-large\") # 3072\n",
    "embedding_model = OpenAIEmbeddings(model=\"text-embedding-ada-002\") # 1536\n",
    "\n",
    "texts = [\n",
    "    \"Hi, there!\",\n",
    "    \"oh, hello!\",\n",
    "    \"What's your name?\",\n",
    "    \"My friends call me world\",\n",
    "    \"Hello World!\"\n",
    "]\n",
    "\n",
    "embeddings = embedding_model.embed_documents(texts)\n",
    "\n",
    "for i in range(len(texts)):\n",
    "    print(f\"{texts[i]}: {embeddings[i][:3]}\", end=\"\\n\\n\")"
   ],
   "id": "36ca85c552d09197",
   "outputs": [
    {
     "name": "stdout",
     "output_type": "stream",
     "text": [
      "Hi, there!: [-0.013250387273728848, -0.008829405531287193, -0.016553563997149467]\n",
      "\n",
      "oh, hello!: [-0.007240546867251396, -0.02085728384554386, -0.009050683118402958]\n",
      "\n",
      "What's your name?: [-0.004887457471340895, -0.009618516080081463, 0.007236444391310215]\n",
      "\n",
      "My friends call me world: [-0.007458017207682133, -0.01739564910531044, 0.006831722799688578]\n",
      "\n",
      "Hello World!: [0.002393412170931697, 0.0002737858740147203, -0.0023398753255605698]\n",
      "\n"
     ]
    }
   ],
   "execution_count": 6
  },
  {
   "metadata": {},
   "cell_type": "code",
   "outputs": [],
   "execution_count": null,
   "source": "",
   "id": "bd0505cc636d25ab"
  }
 ],
 "metadata": {
  "kernelspec": {
   "display_name": "Python 3",
   "language": "python",
   "name": "python3"
  },
  "language_info": {
   "codemirror_mode": {
    "name": "ipython",
    "version": 2
   },
   "file_extension": ".py",
   "mimetype": "text/x-python",
   "name": "python",
   "nbconvert_exporter": "python",
   "pygments_lexer": "ipython2",
   "version": "2.7.6"
  }
 },
 "nbformat": 4,
 "nbformat_minor": 5
}
