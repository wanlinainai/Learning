{
 "cells": [
  {
   "cell_type": "code",
   "execution_count": null,
   "id": "initial_id",
   "metadata": {
    "collapsed": true
   },
   "outputs": [],
   "source": [
    ""
   ]
  },
  {
   "metadata": {},
   "cell_type": "markdown",
   "source": "## 字符串输出解析器：StrOutputParser",
   "id": "7720bdbae27818d0"
  },
  {
   "metadata": {
    "ExecuteTime": {
     "end_time": "2025-10-10T13:49:09.528075Z",
     "start_time": "2025-10-10T13:49:06.045197Z"
    }
   },
   "cell_type": "code",
   "source": [
    "# 1. 获取大模型\n",
    "import os\n",
    "import dotenv\n",
    "from langchain_core.output_parsers import StrOutputParser\n",
    "from langchain_openai import ChatOpenAI\n",
    "\n",
    "dotenv.load_dotenv()\n",
    "os.environ['OPENAI_API_KEY'] = os.getenv(\"OPENAI_API_KEY\")\n",
    "os.environ['OPENAI_BASE_URL'] = os.getenv(\"OPENAI_BASE_URL\")\n",
    "\n",
    "chat_model = ChatOpenAI(\n",
    "    model=\"gpt-4o-mini\"\n",
    ")\n",
    "\n",
    "# 2. 调用大模型\n",
    "response = chat_model.invoke(\"什么是币安币？简要概述\")\n",
    "print(type(response))\n",
    "\n",
    "# 3. 获取字符串的输出结果\n",
    "# print(response.content)\n",
    "\n",
    "parser = StrOutputParser()\n",
    "output_str_response = parser.invoke(response)\n",
    "print(output_str_response)"
   ],
   "id": "93af250e86f7d4e8",
   "outputs": [
    {
     "name": "stdout",
     "output_type": "stream",
     "text": [
      "<class 'langchain_core.messages.ai.AIMessage'>\n",
      "币安币（Binance Coin，简称BNB）是由全球最大的加密货币交易所之一币安（Binance）发行的数字资产。最初，BNB是在以太坊区块链上发行的ERC-20标准代币，随后在2019年币安推出了自己的区块链——币安智能链（Binance Smart Chain），BNB也迁移到了该区块链。\n",
      "\n",
      "BNB的主要用途包括：\n",
      "\n",
      "1. **交易手续费折扣**：用户在币安交易所使用BNB支付交易手续费时，可以享受折扣。\n",
      "2. **参与IEO**：BNB可以用于参与币安平台的首次交易所发行（IEO），为新项目的筹资提供便利。\n",
      "3. **DeFi应用**：在币安智能链上，BNB可用于参与去中心化金融（DeFi）应用，提供流动性等。\n",
      "4. **其他生态系统应用**：BNB还可以用于币安生态系统中的各种服务和应用，如购物、支付等。\n",
      "\n",
      "随着币安平台和生态系统的发展，BNB的应用场景不断扩大，使其成为一种重要的加密货币。\n"
     ]
    }
   ],
   "execution_count": 2
  },
  {
   "metadata": {},
   "cell_type": "markdown",
   "source": "## JsonOutputParser JSON解析器\n",
   "id": "6b7e209ec787d15c"
  },
  {
   "metadata": {
    "ExecuteTime": {
     "end_time": "2025-10-10T13:50:39.837356Z",
     "start_time": "2025-10-10T13:50:36.721073Z"
    }
   },
   "cell_type": "code",
   "source": [
    "from langchain_core.output_parsers import JsonOutputParser\n",
    "from langchain_core.prompts import ChatPromptTemplate\n",
    "\n",
    "chat_model = ChatOpenAI(\n",
    "    model=\"gpt-4o-mini\"\n",
    ")\n",
    "\n",
    "chat_prompt_template = ChatPromptTemplate.from_messages([\n",
    "    (\"system\", \"你是一个十分靠谱的{role}专家\"),\n",
    "    (\"human\", \"{question}\")\n",
    "])\n",
    "\n",
    "prompt = chat_prompt_template.invoke(input={\"role\": \"数学家\", \"question\": \"解释一下什么是傅里叶变换？返回结果使用JSON格式输出\"})\n",
    "\n",
    "response = chat_model.invoke(prompt)\n",
    "\n",
    "# 获取一个JsonOutputParser\n",
    "parser = JsonOutputParser()\n",
    "\n",
    "# 如果不加上以JSON格式输出的Prompt提示，会报错，原因是输出的response.content是一个字符串\n",
    "json_result = parser.invoke(response)\n",
    "print(json_result)"
   ],
   "id": "f0c8fb2a1ecc9c4",
   "outputs": [
    {
     "name": "stdout",
     "output_type": "stream",
     "text": [
      "{'傅里叶变换': {'定义': '傅里叶变换是一种数学变换，用于分析和表示信号在频率域中的特性。它将时间域的信号转换为频率域，帮助我们理解信号的频谱成分。', '用途': ['信号处理', '图像处理', '通讯系统', '音频分析', '振动分析', '量子物理'], '数学表达': {'连续傅里叶变换': {'公式': 'F(ω) = ∫ f(t) e^{-jωt} dt', '说明': 'f(t) 是时间域信号，ω 是频率变量，j 是虚数单位。'}, '离散傅里叶变换': {'公式': 'X[k] = Σ x[n] e^{-j(2π/N)kn}', '说明': 'x[n] 是离散信号，N 是信号长度，k 是频率索引。'}}, '特点': ['线性：输入信号的线性组合对应于输出信号的线性组合。', '时变性：时间域信号的时间平移会导致频域信号的相位变化。', '卷积定理：时域信号的卷积对应于频域信号的乘法。']}}\n"
     ]
    }
   ],
   "execution_count": 5
  },
  {
   "metadata": {
    "ExecuteTime": {
     "end_time": "2025-10-10T13:54:13.928278Z",
     "start_time": "2025-10-10T13:54:13.925863Z"
    }
   },
   "cell_type": "code",
   "source": [
    "json_parser = JsonOutputParser()\n",
    "print(json_parser.get_format_instructions())"
   ],
   "id": "93d8b347d47081c3",
   "outputs": [
    {
     "name": "stdout",
     "output_type": "stream",
     "text": [
      "Return a JSON object.\n"
     ]
    }
   ],
   "execution_count": 6
  },
  {
   "metadata": {
    "ExecuteTime": {
     "end_time": "2025-10-10T14:04:12.795726Z",
     "start_time": "2025-10-10T14:04:11.801666Z"
    }
   },
   "cell_type": "code",
   "source": [
    "from langchain_core.output_parsers import JsonOutputParser\n",
    "from langchain_core.prompts import PromptTemplate\n",
    "\n",
    "chat_model = ChatOpenAI(model=\"gpt-4o-mini\")\n",
    "\n",
    "joke_query = \"请讲一个笑话\"\n",
    "\n",
    "# 定义解析器\n",
    "parser = JsonOutputParser()\n",
    "\n",
    "# PromptTemplate为示例\n",
    "prompt_template = PromptTemplate.from_template(\n",
    "    template=\"回答用户的查询\\n 满足的格式为：{format_instructions}\\n 问题是：{question}\\n\",\n",
    "    partial_variables={\"format_instructions\": parser.get_format_instructions()}\n",
    ")\n",
    "\n",
    "prompt = prompt_template.invoke(input={\"question\": joke_query})\n",
    "response = chat_model.invoke(prompt)\n",
    "print(response.content)\n",
    "print(\"\\n\")\n",
    "json_response = parser.invoke(response)\n",
    "print(json_response)"
   ],
   "id": "38cffb0fc6b50b63",
   "outputs": [
    {
     "name": "stdout",
     "output_type": "stream",
     "text": [
      "```json\n",
      "{\n",
      "  \"joke\": \"为什么数学书总是感到忧伤？因为它有太多的问题！\"\n",
      "}\n",
      "```\n",
      "\n",
      "\n",
      "{'joke': '为什么数学书总是感到忧伤？因为它有太多的问题！'}\n"
     ]
    }
   ],
   "execution_count": 8
  },
  {
   "metadata": {},
   "cell_type": "markdown",
   "source": "### 管道符号 |",
   "id": "6f5970ec0a81c013"
  },
  {
   "metadata": {
    "ExecuteTime": {
     "end_time": "2025-10-10T14:09:57.635092Z",
     "start_time": "2025-10-10T14:09:56.347421Z"
    }
   },
   "cell_type": "code",
   "source": [
    "from langchain_core.output_parsers import JsonOutputParser\n",
    "from langchain_core.prompts import PromptTemplate\n",
    "\n",
    "chat_model = ChatOpenAI(model=\"gpt-4o-mini\")\n",
    "\n",
    "joke_query = \"请讲一个笑话\"\n",
    "\n",
    "# 定义解析器\n",
    "parser = JsonOutputParser()\n",
    "\n",
    "# PromptTemplate为示例\n",
    "prompt_template = PromptTemplate.from_template(\n",
    "    template=\"回答用户的查询\\n 满足的格式为：{format_instructions}\\n 问题是：{question}\\n\",\n",
    "    partial_variables={\"format_instructions\": parser.get_format_instructions()}\n",
    ")\n",
    "\n",
    "# prompt = prompt_template.invoke(input={\"question\": joke_query})\n",
    "# response = chat_model.invoke(prompt)\n",
    "chain = prompt_template | chat_model | parser\n",
    "output = chain.invoke({\"question\": joke_query})\n",
    "print(output)"
   ],
   "id": "faa690b995bc35b5",
   "outputs": [
    {
     "name": "stdout",
     "output_type": "stream",
     "text": [
      "{'joke': '为什么程序员总是分不清万圣节和圣诞节？因为Oct 31 = Dec 25！'}\n"
     ]
    }
   ],
   "execution_count": 9
  },
  {
   "metadata": {},
   "cell_type": "markdown",
   "source": "## XMLOutputParser",
   "id": "a64a2da9d394d032"
  },
  {
   "metadata": {
    "ExecuteTime": {
     "end_time": "2025-10-10T14:17:09.960918Z",
     "start_time": "2025-10-10T14:17:09.941767Z"
    }
   },
   "cell_type": "code",
   "source": [
    "# 使用get_format_instructions()方法\n",
    "from langchain_core.output_parsers import XMLOutputParser\n",
    "\n",
    "output_parser = XMLOutputParser()\n",
    "\n",
    "format_instructions = output_parser.get_format_instructions()\n",
    "\n",
    "print(format_instructions)"
   ],
   "id": "ef026c6b1e14ce22",
   "outputs": [
    {
     "name": "stdout",
     "output_type": "stream",
     "text": [
      "The output should be formatted as a XML file.\n",
      "1. Output should conform to the tags below.\n",
      "2. If tags are not given, make them on your own.\n",
      "3. Remember to always open and close all the tags.\n",
      "\n",
      "As an example, for the tags [\"foo\", \"bar\", \"baz\"]:\n",
      "1. String \"<foo>\n",
      "   <bar>\n",
      "      <baz></baz>\n",
      "   </bar>\n",
      "</foo>\" is a well-formatted instance of the schema.\n",
      "2. String \"<foo>\n",
      "   <bar>\n",
      "   </foo>\" is a badly-formatted instance.\n",
      "3. String \"<foo>\n",
      "   <tag>\n",
      "   </tag>\n",
      "</foo>\" is a badly-formatted instance.\n",
      "\n",
      "Here are the output tags:\n",
      "```\n",
      "None\n",
      "```\n"
     ]
    }
   ],
   "execution_count": 10
  },
  {
   "metadata": {},
   "cell_type": "code",
   "outputs": [],
   "execution_count": null,
   "source": "",
   "id": "3863d81f1f24345c"
  }
 ],
 "metadata": {
  "kernelspec": {
   "display_name": "Python 3",
   "language": "python",
   "name": "python3"
  },
  "language_info": {
   "codemirror_mode": {
    "name": "ipython",
    "version": 2
   },
   "file_extension": ".py",
   "mimetype": "text/x-python",
   "name": "python",
   "nbconvert_exporter": "python",
   "pygments_lexer": "ipython2",
   "version": "2.7.6"
  }
 },
 "nbformat": 4,
 "nbformat_minor": 5
}
