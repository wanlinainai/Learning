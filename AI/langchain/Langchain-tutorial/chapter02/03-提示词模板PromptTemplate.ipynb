{
 "cells": [
  {
   "cell_type": "code",
   "execution_count": null,
   "id": "initial_id",
   "metadata": {
    "collapsed": true
   },
   "outputs": [],
   "source": [
    ""
   ]
  },
  {
   "metadata": {},
   "cell_type": "markdown",
   "source": [
    "## PromptTemplate使用\n",
    "1. 方式1：使用format()"
   ],
   "id": "21b5ebd370d8a66e"
  },
  {
   "metadata": {
    "ExecuteTime": {
     "end_time": "2025-10-09T12:23:21.661214Z",
     "start_time": "2025-10-09T12:23:21.658189Z"
    }
   },
   "cell_type": "code",
   "source": [
    "from tkinter.font import names\n",
    "from xml.sax.handler import property_interning_dict\n",
    "\n",
    "from langchain_core.prompts import PromptTemplate, ChatPromptTemplate, MessagesPlaceholder\n",
    "\n",
    "prompt_template = PromptTemplate(\n",
    "    template=\"你是一个{role}，你的名字叫做:{name}\",\n",
    "    input_variables=[\"role\", \"name\"]\n",
    ")\n",
    "\n",
    "# 填充实例中的变量，暂且使用format()\n",
    "prompt = prompt_template.format(role=\"高级前端开发工程师\", name=\"小王\")\n",
    "\n",
    "print(prompt)"
   ],
   "id": "4dc1597033877893",
   "outputs": [
    {
     "name": "stdout",
     "output_type": "stream",
     "text": [
      "你是一个高级前端开发工程师，你的名字叫做:小王\n"
     ]
    }
   ],
   "execution_count": 3
  },
  {
   "metadata": {},
   "cell_type": "markdown",
   "source": "2. from_format()：推荐",
   "id": "e076c53a21924b7b"
  },
  {
   "metadata": {
    "ExecuteTime": {
     "end_time": "2025-10-09T12:25:32.941378Z",
     "start_time": "2025-10-09T12:25:32.938125Z"
    }
   },
   "cell_type": "code",
   "source": [
    "from langchain_core.prompts import PromptTemplate\n",
    "\n",
    "# 使用from_template方法\n",
    "prompt_template = PromptTemplate.from_template(\n",
    "    template=\"你是一个{role}，你的名字叫做:{name}\"\n",
    ")\n",
    "\n",
    "# 填充实例中的变量，暂且使用format()\n",
    "prompt = prompt_template.format(role=\"高级前端开发工程师\", name=\"小王\")\n",
    "\n",
    "print(prompt)"
   ],
   "id": "9213dfd96aa391d9",
   "outputs": [
    {
     "name": "stdout",
     "output_type": "stream",
     "text": [
      "你是一个高级前端开发工程师，你的名字叫做:小王\n"
     ]
    }
   ],
   "execution_count": 5
  },
  {
   "metadata": {},
   "cell_type": "code",
   "outputs": [],
   "execution_count": null,
   "source": "",
   "id": "dba6ffa15075b500"
  },
  {
   "metadata": {},
   "cell_type": "markdown",
   "source": "2. 两种特殊结构的使用（部分提示词模板的使用，组合提示词的使用）",
   "id": "f4f777dc026791bf"
  },
  {
   "metadata": {
    "ExecuteTime": {
     "end_time": "2025-10-09T12:32:14.634996Z",
     "start_time": "2025-10-09T12:32:14.631395Z"
    }
   },
   "cell_type": "code",
   "source": [
    "template = PromptTemplate.from_template(\n",
    "    template=\"请评价{product}的优缺点，包含{aspect1}和{aspect2}\",\n",
    "    partial_variables={\"product\": \"Apple\", \"aspect1\": \"外形\"}\n",
    ")\n",
    "\n",
    "prompt_1 = template.format(product=\"Apple\", aspect2=\"价格\")\n",
    "print(prompt_1)"
   ],
   "id": "a2719591e1a6e1fa",
   "outputs": [
    {
     "name": "stdout",
     "output_type": "stream",
     "text": [
      "请评价Apple的优缺点，包含外形和价格\n"
     ]
    }
   ],
   "execution_count": 6
  },
  {
   "metadata": {
    "ExecuteTime": {
     "end_time": "2025-10-09T12:38:46.334785Z",
     "start_time": "2025-10-09T12:38:46.330962Z"
    }
   },
   "cell_type": "code",
   "source": [
    "template = PromptTemplate(\n",
    "    template=\"请评价{product}的优缺点，包含{aspect1}和{aspect2}\",\n",
    "    input_variables=[\"product\", \"aspect1\", \"aspect2\"]\n",
    ").partial(aspect1=\"外形\", aspect2=\"价格\")\n",
    "\n",
    "prompt_1 = template.format(product=\"HUAWEI\")\n",
    "\n",
    "print(prompt_1)"
   ],
   "id": "38c57d51942667e9",
   "outputs": [
    {
     "name": "stdout",
     "output_type": "stream",
     "text": [
      "请评价HUAWEI的优缺点，包含外形和价格\n"
     ]
    }
   ],
   "execution_count": 9
  },
  {
   "metadata": {
    "ExecuteTime": {
     "end_time": "2025-10-09T13:25:35.479831Z",
     "start_time": "2025-10-09T13:25:26.856469Z"
    }
   },
   "cell_type": "code",
   "source": [
    "import os\n",
    "import dotenv\n",
    "from langchain_openai import ChatOpenAI\n",
    "\n",
    "dotenv.load_dotenv()\n",
    "\n",
    "os.environ[\"OPENAI_API_KEY\"] = os.getenv(\"OPENAI_API_KEY\")\n",
    "os.environ[\"OPENAI_BASE_URL\"] = os.getenv(\"OPENAI_BASE_URL\")\n",
    "\n",
    "chat_model = ChatOpenAI(\n",
    "    model=\"gpt-4o-mini\",\n",
    "    max_tokens=1024\n",
    ")\n",
    "\n",
    "template = PromptTemplate.from_template(\n",
    "    template=\"请评价{product}的优缺点，包含{aspect1}和{aspect2}\"\n",
    ")\n",
    "\n",
    "response = chat_model.invoke(template.invoke({\"product\": \"苹果手机\", \"aspect1\": \"外形\", \"aspect2\": \"价格\"}))\n",
    "\n",
    "print(response.content)"
   ],
   "id": "ab25934e91a3a2ac",
   "outputs": [
    {
     "name": "stdout",
     "output_type": "stream",
     "text": [
      "苹果手机的优缺点如下：\n",
      "\n",
      "### 优点：\n",
      "\n",
      "1. **外形设计**：\n",
      "   - **美观**：苹果手机以其简约、时尚的设计而著名，采用高质量的材料，给人一种高级感。\n",
      "   - **工艺精湛**：手机的制作工艺精良，细节处理到位，耐用性较强。\n",
      "\n",
      "2. **系统体验**：\n",
      "   - **iOS系统**：苹果的iOS系统以其流畅、稳定和安全而受到用户喜爱，应用生态丰富且优化良好。\n",
      "   - **更新支持**：苹果设备通常能获得长时间的软件更新，用户可以享受最新的功能和安全补丁。\n",
      "\n",
      "3. **生态系统**：\n",
      "   - **设备互联**：苹果的产品（如Mac、iPad、Apple Watch等）之间的无缝协作体验很强，方便用户使用。\n",
      "\n",
      "4. **摄影能力**：\n",
      "   - **相机性能**：苹果手机的相机表现出色，特别是在拍照和视频录制方面，色彩真实且细节清晰。\n",
      "\n",
      "5. **隐私和安全**：\n",
      "   - **数据安全**：苹果在隐私保护方面做得相对较好，用户的数据安全性高。\n",
      "\n",
      "### 缺点：\n",
      "\n",
      "1. **价格**：\n",
      "   - **高价位**：苹果手机的价格普遍较高，尤其是在旗舰型号方面，可能让一些消费者望而却步。\n",
      "   - **配件昂贵**：除了手机本身，苹果配件（如充电器、耳机等）的价格也通常较高。\n",
      "\n",
      "2. **兼容性**：\n",
      "   - **封闭生态**：与其他品牌手机和设备的兼容性相对较差，一些用户可能会遇到无法跨平台使用的情况。\n",
      "\n",
      "3. **定制性**：\n",
      "   - **UI和功能限制**：iOS系统的定制性有限，用户无法像Android系统那样自由地修改系统界面或设置。\n",
      "\n",
      "4. **耐用性**：\n",
      "   - **易碎屏幕**：虽然外壳材料高档，但苹果手机的屏幕相对较为娇弱，容易在摔落时破损。\n",
      "\n",
      "总结而言，苹果手机在设计、用户体验和安全性方面有很大的优势，但价格偏高和兼容性相对较差的缺点也使其并不适合所有消费者。选择是否购买苹果手机应基于个人的需求和预算。\n"
     ]
    }
   ],
   "execution_count": 13
  },
  {
   "metadata": {},
   "cell_type": "markdown",
   "source": [
    "## ChatPromptTemplate\n",
    "更方便处理多角色、多轮对话场景\n",
    "支持：\n",
    "- `System`、`Human`、`AI`等不同角色的消息模板\n",
    "- 对话历史维护\n",
    "\n",
    "**参数类型**</br>\n",
    "Tuple类型"
   ],
   "id": "2ab2c500a0a51dac"
  },
  {
   "metadata": {
    "ExecuteTime": {
     "end_time": "2025-10-09T13:52:46.157031Z",
     "start_time": "2025-10-09T13:52:46.149598Z"
    }
   },
   "cell_type": "code",
   "source": [
    "from langchain_core.prompts import ChatPromptTemplate\n",
    "prompt_template = ChatPromptTemplate([\n",
    "    ('system', \"你是一个AI应用开发工程师，你的名字是：{name}\"),\n",
    "    (\"human\", \"你能做什么？\"),\n",
    "    (\"ai\", \"我们做的事情很多，聊天机器人、图像识别、智能导诊\"),\n",
    "    (\"human\", \"{user_input}\")\n",
    "])\n",
    "\n",
    "prompt = prompt_template.invoke(input={\"name\": \"小智\", \"user_input\": \"请帮我写一篇200字的检讨\"})\n",
    "print(type(prompt)) # ChatPromptValue类型\n",
    "# print(prompt)\n",
    "\n",
    "format_prompt = prompt_template.format(name=\"format_小智\", user_input=\"请帮我写一篇300字的检讨\")\n",
    "print(type(format_prompt)) # String类型\n",
    "# print(format_prompt)\n",
    "\n",
    "format_messages_prompt = prompt_template.format_messages(name=\"format_messages_小智\", user_input=\"请帮我写一篇400字检讨\")\n",
    "print(type(format_messages_prompt)) #List类型\n",
    "# print(format_messages_prompt)\n",
    "\n",
    "print(\"\\n\")\n",
    "format_prompt_prompt = prompt_template.format_prompt(name=\"format_prompt_小智\", user_input=\"请帮我写一篇500检讨\")\n",
    "print(type(format_prompt_prompt)) # ChatPromptValue类型\n",
    "print(format_prompt_prompt.to_messages())"
   ],
   "id": "2d7d3074cd69a824",
   "outputs": [
    {
     "name": "stdout",
     "output_type": "stream",
     "text": [
      "<class 'langchain_core.prompt_values.ChatPromptValue'>\n",
      "<class 'str'>\n",
      "<class 'list'>\n",
      "\n",
      "\n",
      "<class 'list'>\n",
      "[SystemMessage(content='你是一个AI应用开发工程师，你的名字是：format_prompt_小智', additional_kwargs={}, response_metadata={}), HumanMessage(content='你能做什么？', additional_kwargs={}, response_metadata={}), AIMessage(content='我们做的事情很多，聊天机器人、图像识别、智能导诊', additional_kwargs={}, response_metadata={}), HumanMessage(content='请帮我写一篇500检讨', additional_kwargs={}, response_metadata={})]\n"
     ]
    }
   ],
   "execution_count": 22
  },
  {
   "metadata": {},
   "cell_type": "code",
   "outputs": [],
   "execution_count": null,
   "source": "",
   "id": "d3296db926597c26"
  },
  {
   "metadata": {},
   "cell_type": "markdown",
   "source": [
    "### 实例化参数类型\n",
    "1. str类型\n",
    "2. dict类型\n",
    "3. Message类型\n",
    "4. BaseChatPromptTemplate类型（嵌套的ChatPromptTemplate）\n",
    "5. BaseMessagePromptTemplate类型（）"
   ],
   "id": "e9f69f8062ce66df"
  },
  {
   "metadata": {
    "ExecuteTime": {
     "end_time": "2025-10-09T14:02:17.453811Z",
     "start_time": "2025-10-09T14:02:17.450491Z"
    }
   },
   "cell_type": "code",
   "source": [
    "from langchain_core.prompts import ChatPromptTemplate\n",
    "from langchain_core.messages import SystemMessage, HumanMessage, AIMessage\n",
    "\n",
    "chat_template = ChatPromptTemplate.from_messages(\n",
    "    [\n",
    "        \"Hello, {name}\"\n",
    "    ]\n",
    ")\n",
    "\n",
    "messages = chat_template.format_messages(name=\"小智\")\n",
    "print(messages) # str类型默认就是HumanMessage"
   ],
   "id": "583b54369e8d7e2",
   "outputs": [
    {
     "name": "stdout",
     "output_type": "stream",
     "text": [
      "[HumanMessage(content='Hello, 小智', additional_kwargs={}, response_metadata={})]\n"
     ]
    }
   ],
   "execution_count": 23
  },
  {
   "metadata": {
    "ExecuteTime": {
     "end_time": "2025-10-09T14:14:20.651536Z",
     "start_time": "2025-10-09T14:14:20.648825Z"
    }
   },
   "cell_type": "code",
   "source": [
    "prompt = ChatPromptTemplate.from_messages([\n",
    "    {\"role\": \"system\", \"content\": \"你是一个{role}\"},\n",
    "    {\"role\": \"human\", \"content\": [\"复合内容\", \"哈哈\", \"我草\", {\"type\": \"text\"}]}\n",
    "])\n",
    "print(prompt.format_messages(role=\"碧池\"))"
   ],
   "id": "433d633e80592573",
   "outputs": [
    {
     "name": "stdout",
     "output_type": "stream",
     "text": [
      "[SystemMessage(content='你是一个碧池', additional_kwargs={}, response_metadata={}), HumanMessage(content=[{'type': 'text', 'text': '复合内容'}, {'type': 'text', 'text': '哈哈'}, {'type': 'text', 'text': '我草'}, {'type': 'text'}], additional_kwargs={}, response_metadata={})]\n"
     ]
    }
   ],
   "execution_count": 48
  },
  {
   "metadata": {
    "ExecuteTime": {
     "end_time": "2025-10-09T14:16:44.552712Z",
     "start_time": "2025-10-09T14:16:44.550619Z"
    }
   },
   "cell_type": "code",
   "source": [
    "chat_prompt_template = ChatPromptTemplate.from_messages([\n",
    "    SystemMessage(content=\"你是一个十分贴心的智能助手\"),\n",
    "    HumanMessage(content=\"我的问题是：人工智能AI的全称英文是什么?\")\n",
    "])\n",
    "\n",
    "messages = chat_prompt_template.format_messages()\n",
    "print(messages)\n",
    "print(type(messages))"
   ],
   "id": "f7291d5295540f39",
   "outputs": [
    {
     "name": "stdout",
     "output_type": "stream",
     "text": [
      "[SystemMessage(content='你是一个十分贴心的智能助手', additional_kwargs={}, response_metadata={}), HumanMessage(content='我的问题是：人工智能AI的全称英文是什么?', additional_kwargs={}, response_metadata={})]\n",
      "<class 'list'>\n"
     ]
    }
   ],
   "execution_count": 49
  },
  {
   "metadata": {
    "ExecuteTime": {
     "end_time": "2025-10-09T14:22:30.895206Z",
     "start_time": "2025-10-09T14:22:30.890570Z"
    }
   },
   "cell_type": "code",
   "source": [
    "# 无参数\n",
    "nested_prompt_template1 = ChatPromptTemplate.from_messages([(\"system\", \"我是一个人工智能助手\")])\n",
    "nested_prompt_template2 = ChatPromptTemplate.from_messages([(\"human\", \"很不高兴认识你\")])\n",
    "\n",
    "prompt_template = ChatPromptTemplate.from_messages([\n",
    "    nested_prompt_template1,\n",
    "    nested_prompt_template2\n",
    "])\n",
    "\n",
    "messages = prompt_template.format_messages()\n",
    "\n",
    "print(messages)\n",
    "print(type(messages))\n",
    "\n",
    "# 带参数\n",
    "nested_prompt_template3 = ChatPromptTemplate.from_messages([(\"system\", \"我叫{name}，是一个人工智能助手\")])\n",
    "nested_prompt_template4 = ChatPromptTemplate.from_messages([(\"human\", \"我的问题是:{question}\")])\n",
    "\n",
    "prompt = ChatPromptTemplate.from_messages([\n",
    "    nested_prompt_template3,\n",
    "    nested_prompt_template4\n",
    "])\n",
    "\n",
    "messages2 = prompt.format_messages(name=\"小智\", question=\"丁真是谁？\")\n",
    "\n",
    "print(messages2)"
   ],
   "id": "a0d2c28bb0e2f0bb",
   "outputs": [
    {
     "name": "stdout",
     "output_type": "stream",
     "text": [
      "[SystemMessage(content='我是一个人工智能助手', additional_kwargs={}, response_metadata={}), HumanMessage(content='很不高兴认识你', additional_kwargs={}, response_metadata={})]\n",
      "<class 'list'>\n",
      "[SystemMessage(content='我叫小智，是一个人工智能助手', additional_kwargs={}, response_metadata={}), HumanMessage(content='我的问题是:丁真是谁？', additional_kwargs={}, response_metadata={})]\n"
     ]
    }
   ],
   "execution_count": 53
  },
  {
   "metadata": {
    "ExecuteTime": {
     "end_time": "2025-10-09T14:56:59.633717Z",
     "start_time": "2025-10-09T14:56:59.630336Z"
    }
   },
   "cell_type": "code",
   "source": [
    "from langchain_core.prompts import SystemMessagePromptTemplate, ChatPromptTemplate, HumanMessagePromptTemplate\n",
    "\n",
    "system_template = \"你是一个专家{role}\"\n",
    "system_message_prompt = SystemMessagePromptTemplate.from_template(system_template)\n",
    "\n",
    "human_template = \"给我解释一下{concept}，简单易懂的语言\"\n",
    "human_message_prompt = HumanMessagePromptTemplate.from_template(human_template)\n",
    "\n",
    "# 组合成聊天提示模板\n",
    "chat_prompt = ChatPromptTemplate.from_messages([\n",
    "    system_message_prompt,\n",
    "    human_message_prompt\n",
    "])\n",
    "\n",
    "formatted_messages = chat_prompt.format_messages(\n",
    "    role=\"物理学家\",\n",
    "    concept=\"量子力学\"\n",
    ")\n",
    "\n",
    "print(formatted_messages)"
   ],
   "id": "a7294a2dc3be0d45",
   "outputs": [
    {
     "name": "stdout",
     "output_type": "stream",
     "text": [
      "[SystemMessage(content='你是一个专家物理学家', additional_kwargs={}, response_metadata={}), HumanMessage(content='给我解释一下量子力学，简单易懂的语言', additional_kwargs={}, response_metadata={})]\n"
     ]
    }
   ],
   "execution_count": 54
  },
  {
   "metadata": {
    "ExecuteTime": {
     "end_time": "2025-10-09T15:05:01.083487Z",
     "start_time": "2025-10-09T15:04:58.673458Z"
    }
   },
   "cell_type": "code",
   "source": [
    "from langchain_core.prompts import ChatPromptTemplate\n",
    "\n",
    "chat_prompt = ChatPromptTemplate.from_messages([\n",
    "    (\"system\", \"你是一个数学家，你可以进行任何的数学题计算\"),\n",
    "    (\"human\", \"我的问题：{question}\")\n",
    "])\n",
    "\n",
    "messages = chat_prompt.format_messages(question=\"我今年18岁，我的舅舅今年38岁，我的爷爷今年73岁，我和舅舅一共多少岁?\")\n",
    "\n",
    "import os\n",
    "import dotenv\n",
    "from langchain_openai import ChatOpenAI\n",
    "\n",
    "dotenv.load_dotenv()\n",
    "\n",
    "os.environ[\"OPENAI_API_KEY\"] = os.getenv(\"OPENAI_API_KEY\")\n",
    "os.environ[\"OPENAI_BASE_URL\"] = os.getenv(\"OPENAI_BASE_URL\")\n",
    "\n",
    "chat_model = ChatOpenAI(\n",
    "    model=\"gpt-4o-mini\",\n",
    "    max_tokens=1024\n",
    ")\n",
    "\n",
    "output = chat_model.invoke(messages)\n",
    "print(output.content)"
   ],
   "id": "26b97a398306465e",
   "outputs": [
    {
     "name": "stdout",
     "output_type": "stream",
     "text": [
      "要计算你和你舅舅的总年龄，我们只需将你们的年龄相加。\n",
      "\n",
      "你的年龄是18岁，舅舅的年龄是38岁。\n",
      "\n",
      "所以：\n",
      "\n",
      "18 + 38 = 56\n",
      "\n",
      "因此，你和你的舅舅一共56岁。\n"
     ]
    }
   ],
   "execution_count": 55
  },
  {
   "metadata": {},
   "cell_type": "markdown",
   "source": "## 插入消息列表：MessagePlaceholder",
   "id": "25c50362e806cae6"
  },
  {
   "metadata": {
    "ExecuteTime": {
     "end_time": "2025-10-09T15:16:47.311532Z",
     "start_time": "2025-10-09T15:16:47.298458Z"
    }
   },
   "cell_type": "code",
   "source": [
    "from langchain_core.prompts import ChatPromptTemplate\n",
    "from langchain_core.prompts.chat import MessagesPlaceholder\n",
    "\n",
    "chat_prompt_template = ChatPromptTemplate.from_messages([\n",
    "    (\"system\", \"你是一个AI助手，你的名字是:{name}\"),\n",
    "    MessagesPlaceholder(variable_name=\"msgs\")\n",
    "])\n",
    "\n",
    "chat_prompt_template.invoke({\n",
    "    \"name\": \"小智\",\n",
    "    \"msgs\": [\n",
    "        HumanMessage(content=\"我的问题是：1 + 1 = ?\")\n",
    "    ]\n",
    "})"
   ],
   "id": "84be1479b49d4638",
   "outputs": [
    {
     "data": {
      "text/plain": [
       "ChatPromptValue(messages=[SystemMessage(content='你是一个AI助手，你的名字是:小智', additional_kwargs={}, response_metadata={}), HumanMessage(content='我的问题是：1 + 1 = ?', additional_kwargs={}, response_metadata={})])"
      ]
     },
     "execution_count": 56,
     "metadata": {},
     "output_type": "execute_result"
    }
   ],
   "execution_count": 56
  },
  {
   "metadata": {},
   "cell_type": "code",
   "outputs": [],
   "execution_count": null,
   "source": "",
   "id": "89f33478d8add838"
  }
 ],
 "metadata": {
  "kernelspec": {
   "display_name": "Python 3",
   "language": "python",
   "name": "python3"
  },
  "language_info": {
   "codemirror_mode": {
    "name": "ipython",
    "version": 2
   },
   "file_extension": ".py",
   "mimetype": "text/x-python",
   "name": "python",
   "nbconvert_exporter": "python",
   "pygments_lexer": "ipython2",
   "version": "2.7.6"
  }
 },
 "nbformat": 4,
 "nbformat_minor": 5
}
