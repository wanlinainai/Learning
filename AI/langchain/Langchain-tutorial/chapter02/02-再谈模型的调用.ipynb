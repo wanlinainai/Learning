{
 "cells": [
  {
   "cell_type": "code",
   "id": "initial_id",
   "metadata": {
    "collapsed": true,
    "ExecuteTime": {
     "end_time": "2025-10-09T03:43:09.331304Z",
     "start_time": "2025-10-09T03:42:59.338033Z"
    }
   },
   "source": [
    "from certifi import contents\n",
    "from langchain_openai import ChatOpenAI\n",
    "import os\n",
    "import dotenv\n",
    "\n",
    "dotenv.load_dotenv()\n",
    "\n",
    "os.environ[\"OPENAI_API_KEY\"] = os.getenv(\"OPENAI_API_KEY\")\n",
    "os.environ[\"OPENAI_BASE_URL\"] = os.getenv(\"OPENAI_BASE_URL\")\n",
    "\n",
    "chat_model = ChatOpenAI(\n",
    "    # api_key=os.getenv(\"OPENAI_API_KEY\"),\n",
    "    model=\"gpt-4o-mini\",\n",
    "    # base_url=os.getenv(\"OPENAI_BASE_URL\")\n",
    ")\n",
    "\n",
    "response = chat_model.invoke(\"你好\")\n",
    "\n",
    "print(response)"
   ],
   "outputs": [
    {
     "name": "stdout",
     "output_type": "stream",
     "text": [
      "content='你好！有什么我可以帮助你的吗？' additional_kwargs={'refusal': None} response_metadata={'token_usage': {'completion_tokens': 10, 'prompt_tokens': 8, 'total_tokens': 18, 'completion_tokens_details': {'accepted_prediction_tokens': 0, 'audio_tokens': 0, 'reasoning_tokens': 0, 'rejected_prediction_tokens': 0}, 'prompt_tokens_details': {'audio_tokens': 0, 'cached_tokens': 0}}, 'model_name': 'gpt-4o-mini-2024-07-18', 'system_fingerprint': 'fp_efad92c60b', 'id': 'chatcmpl-CObqWgcvBbJY47aAU7KRuBGzm2Huy', 'service_tier': None, 'finish_reason': 'stop', 'logprobs': None} id='run--53bb6a26-c04b-45a2-abf2-b4fe474e2bda-0' usage_metadata={'input_tokens': 8, 'output_tokens': 10, 'total_tokens': 18, 'input_token_details': {'audio': 0, 'cache_read': 0}, 'output_token_details': {'audio': 0, 'reasoning': 0}}\n"
     ]
    }
   ],
   "execution_count": 1
  },
  {
   "metadata": {},
   "cell_type": "markdown",
   "source": "",
   "id": "9dc0cde31aa8d707"
  },
  {
   "metadata": {
    "ExecuteTime": {
     "end_time": "2025-10-08T16:25:28.540859Z",
     "start_time": "2025-10-08T16:25:28.531914Z"
    }
   },
   "cell_type": "code",
   "source": [
    "from langchain_core.messages import SystemMessage, HumanMessage, AIMessage\n",
    "\n",
    "system_message = SystemMessage(content=\"你是一个英语教学专家\")\n",
    "\n",
    "human_message = HumanMessage(content=\"帮我制定一个学习英语雅思的计划\")\n",
    "\n",
    "messages = [system_message, human_message]\n",
    "\n",
    "print(messages)"
   ],
   "id": "376e456f52f394ca",
   "outputs": [
    {
     "name": "stdout",
     "output_type": "stream",
     "text": [
      "[SystemMessage(content='你是一个英语教学专家', additional_kwargs={}, response_metadata={}), HumanMessage(content='帮我制定一个学习英语雅思的计划', additional_kwargs={}, response_metadata={})]\n"
     ]
    }
   ],
   "execution_count": 2
  },
  {
   "metadata": {
    "ExecuteTime": {
     "end_time": "2025-10-08T16:27:51.835962Z",
     "start_time": "2025-10-08T16:27:42.965398Z"
    }
   },
   "cell_type": "code",
   "source": [
    "response = chat_model.invoke(messages)\n",
    "\n",
    "print(type(response))\n",
    "\n",
    "print(response.content)"
   ],
   "id": "b7563c162728d6f7",
   "outputs": [
    {
     "name": "stdout",
     "output_type": "stream",
     "text": [
      "<class 'langchain_core.messages.ai.AIMessage'>\n",
      "当然可以！以下是一个为期三个月的雅思学习计划，适合初学者到中级水平的考生。计划分为三个阶段，重点是听、说、读、写四个部分。\n",
      "\n",
      "### 学习计划概述\n",
      "- **阶段一：基础（第1-4周）**\n",
      "- **阶段二：强化（第5-8周）**\n",
      "- **阶段三：模拟与冲刺（第9-12周）**\n",
      "\n",
      "### 阶段一：基础（第1-4周）\n",
      "#### 每日安排（每日2小时）\n",
      "1. **听力（30分钟）**\n",
      "   - 每日收听雅思听力练习材料，选择1-2篇短文。\n",
      "   - 笔记重要信息并进行答题训练。\n",
      "\n",
      "2. **阅读（30分钟）**\n",
      "   - 选择不同类型的阅读材料（学术文章、新闻、报告等）。\n",
      "   - 学习速读和关键字寻找技巧。\n",
      "\n",
      "3. **写作（30分钟）**\n",
      "   - 学习雅思写作Task 1和Task 2的格式。\n",
      "   - 每周完成1篇Task 1和1篇Task 2练习，并请老师或者同学进行反馈。\n",
      "\n",
      "4. **口语（30分钟）**\n",
      "   - 练习常见的口语问题（如自我介绍、个人经历等）。\n",
      "   - 每周与朋友进行一次模拟口语测试。\n",
      "\n",
      "### 阶段二：强化（第5-8周）\n",
      "#### 每日安排（每日2.5小时）\n",
      "1. **听力（45分钟）**\n",
      "   - 进行完整的雅思听力模拟测试，并分析错误原因。\n",
      "   - 专注于不同口音和语速的听力材料。\n",
      "\n",
      "2. **阅读（45分钟）**\n",
      "   - 每周完成2套雅思阅读模拟题。\n",
      "   - 学习时间管理技巧，确保在限定时间内完成阅读理解。\n",
      "\n",
      "3. **写作（30分钟）**\n",
      "   - 加强对高分词汇和句型的学习，丰富写作内容。\n",
      "   - 每周撰写2篇完整的Task 1和Task 2，并练习时间控制。\n",
      "\n",
      "4. **口语（30分钟）**\n",
      "   - 深入熟悉雅思口语考试的评分标准，调整回答策略。\n",
      "   - 进行真题口语练习，并录音自评。\n",
      "\n",
      "### 阶段三：模拟与冲刺（第9-12周）\n",
      "#### 每日安排（每日3小时）\n",
      "1. **听力（1小时）**\n",
      "   - 完成全部雅思听力模拟测试，针对薄弱环节进行重点练习。\n",
      "   - 听取一些TED演讲和英语播客，提升听力理解能力。\n",
      "\n",
      "2. **阅读（1小时）**\n",
      "   - 持续进行真实雅思考试题目的阅读练习。\n",
      "   - 学会在紧张的时间限制下快速理解文章要点。\n",
      "\n",
      "3. **写作（30分钟）**\n",
      "   - 提高写作速度和准确性，确保在考试时间内完成。\n",
      "   - 与他人互评，以获取不同的反馈。\n",
      "\n",
      "4. **口语（30分钟）**\n",
      "   - 每周进行一次完整的口语模考，与老师或同伴进行模拟。\n",
      "   - 加强对各类话题（如科技、环境、文化等）的准备。\n",
      "\n",
      "### 额外建议\n",
      "- **词汇积累**：每天学习10个新单词，尤其是与雅思常见话题相关的词汇。\n",
      "- **语法练习**：每周完成一次语法测试，提升语言的准确性。\n",
      "- **参加雅思培训班**：如果条件允许，可以选择线上或线下的雅思培训课程以获得专业指导。\n",
      "\n",
      "通过以上计划，系统地进行准备，相信你能够在雅思考试中取得理想的成绩！保持积极的学习态度和充足的练习，相信自己！祝你好运！\n"
     ]
    }
   ],
   "execution_count": 3
  },
  {
   "metadata": {
    "jupyter": {
     "is_executing": true
    }
   },
   "cell_type": "code",
   "source": [
    "from langchain_core.messages import SystemMessage, HumanMessage, AIMessage\n",
    "\n",
    "system_message = SystemMessage(\n",
    "    content=\"你是一个AI开发工程师\",\n",
    "    additional_kwargs={\"tools\": \"invoke_func1\"}\n",
    ")\n",
    "\n",
    "human_message = HumanMessage(\n",
    "    content=\"我需要开发一个关于区块链AI智能助手，关于分析某一个虚拟币的受欢迎程度，帮我用极简的语言简述一下\",\n",
    ")\n",
    "\n",
    "ai_message = AIMessage(\n",
    "    content=\"你好，请继续问下一个问题\"\n",
    ")\n",
    "\n",
    "messages = [system_message, human_message, ai_message]\n",
    "\n",
    "print(messages)"
   ],
   "id": "d84b0184f12eec27",
   "outputs": [],
   "execution_count": null
  },
  {
   "metadata": {
    "jupyter": {
     "is_executing": true
    }
   },
   "cell_type": "code",
   "source": [
    "from langchain_core.messages import (SystemMessage, HumanMessage, AIMessage, ChatMessage)\n",
    "\n",
    "system_message = SystemMessage(\n",
    "    content=\"你是一个AI开发工程师\",\n",
    "    additional_kwargs={\"tools\": \"invoke_func1\"}\n",
    ")\n",
    "\n",
    "human_message = HumanMessage(\n",
    "    content=\"我需要开发一个关于区块链AI智能助手，关于分析某一个虚拟币的受欢迎程度，帮我用极简的语言简述一下\",\n",
    ")\n",
    "\n",
    "chat_message = ChatMessage(\n",
    "    role=\"analyst\",\n",
    "    content=\"补充一些关于模型调优的建议\"\n",
    ")\n",
    "\n",
    "\n",
    "messages = [system_message, human_message]\n",
    "# print(messages)\n",
    "response = chat_model.invoke(messages)\n",
    "\n",
    "print(response.content)\n"
   ],
   "id": "a29a3f60dba75f12",
   "outputs": [],
   "execution_count": null
  },
  {
   "metadata": {},
   "cell_type": "code",
   "outputs": [],
   "execution_count": null,
   "source": "",
   "id": "ef074f01e4052585"
  },
  {
   "metadata": {},
   "cell_type": "markdown",
   "source": "# 关于大模型和上下文记忆",
   "id": "d0d58ee162acd941"
  },
  {
   "metadata": {},
   "cell_type": "code",
   "outputs": [],
   "execution_count": null,
   "source": "",
   "id": "2fff237e6c82b838"
  },
  {
   "metadata": {
    "ExecuteTime": {
     "end_time": "2025-10-08T16:56:40.101892Z",
     "start_time": "2025-10-08T16:56:39.091236Z"
    }
   },
   "cell_type": "code",
   "source": [
    "from langchain_core.messages import SystemMessage, HumanMessage\n",
    "\n",
    "system_message = SystemMessage(\n",
    "    content=\"你是一个人工智能助手，你的名字叫做小黑黑\"\n",
    ")\n",
    "\n",
    "human_message = HumanMessage(\n",
    "    content=\"猫山王是一只猫咪吗？\"\n",
    ")\n",
    "\n",
    "human_message1 = HumanMessage(\n",
    "    content=\"你叫什么名字？\"\n",
    ")\n",
    "\n",
    "response = chat_model.invoke([system_message, human_message, human_message1])\n",
    "\n",
    "print(response.content)"
   ],
   "id": "86c634957030edaf",
   "outputs": [
    {
     "name": "stdout",
     "output_type": "stream",
     "text": [
      "我叫小黑黑，很高兴认识你！有什么我可以帮助你的吗？\n"
     ]
    }
   ],
   "execution_count": 12
  },
  {
   "metadata": {},
   "cell_type": "markdown",
   "source": "## 流式输出",
   "id": "960f2ffe02339e2c"
  },
  {
   "metadata": {
    "ExecuteTime": {
     "end_time": "2025-10-13T07:39:21.532872Z",
     "start_time": "2025-10-13T07:39:08.967378Z"
    }
   },
   "cell_type": "code",
   "source": [
    "import os\n",
    "import dotenv\n",
    "from langchain_core.messages import SystemMessage, HumanMessage\n",
    "from langchain_openai import ChatOpenAI\n",
    "\n",
    "dotenv.load_dotenv()\n",
    "\n",
    "os.environ[\"OPENAI_API_KEY\"] = os.getenv(\"OPENAI_API_KEY\")\n",
    "os.environ[\"OPENAI_BASE_URL\"] = os.getenv(\"OPENAI_BASE_URL\")\n",
    "\n",
    "chat_model = ChatOpenAI(\n",
    "    model=\"gpt-4o-mini\",\n",
    "    streaming=True\n",
    ")\n",
    "\n",
    "messages = [HumanMessage(content=\"解释一下RocketMQ的使用场景\")]\n",
    "\n",
    "print('流式输出Start....')\n",
    "\n",
    "for chunk in chat_model.stream(messages):\n",
    "    print(chunk.content, end=\"\", flush=True)\n",
    "\n",
    "print('流式输出End。。。')"
   ],
   "id": "256b72da6ac5f386",
   "outputs": [
    {
     "name": "stdout",
     "output_type": "stream",
     "text": [
      "流式输出Start....\n",
      "RocketMQ 是一个分布式消息中间件，主要用于处理高并发、高可用的消息传递场景。以下是一些典型的使用场景：\n",
      "\n",
      "1. **异步处理**：在需要提高系统响应速度的场景中，可以将耗时的任务（如文件处理、数据处理等）放入消息队列中，由后端服务异步处理，从而避免阻塞主操作流程。\n",
      "\n",
      "2. **微服务架构**：在微服务架构中，各个服务之间可能需要进行解耦和异步通信。RocketMQ 可以作为服务间的消息传递通道，实现服务之间的消息异步传递，降低服务间的耦合度。\n",
      "\n",
      "3. **事务消息**：在某些业务场景下，需要确保消息的可靠性和一致性，比如银行转账等。RocketMQ 支持事务消息，可以确保消息的发送和业务操作的原子性。\n",
      "\n",
      "4. **数据同步**：RocketMQ 可用于将数据从一个系统同步到另一个系统，比如将用户行为日志发送到数据分析系统，或者在分布式系统中实现数据同步。\n",
      "\n",
      "5. **流量削峰**：在高并发情况下，系统可能会受到瞬时请求的冲击，导致服务崩溃。通过将请求放入消息队列中，系统可以平缓处理请求，从而有效削峰填谷。\n",
      "\n",
      "6. **定时任务**：可以借助 RocketMQ 实现定时任务，比如定期发送通知、提醒等。通过设置延迟消息，可以指定消息何时被消费。\n",
      "\n",
      "7. **日志处理**：应用程序产生的日志可以通过 RocketMQ 发送到日志处理系统，进行集中处理、存储和分析。\n",
      "\n",
      "8. **IoT 场景**：在物联网中，设备产生的数据可以通过 RocketMQ 进行传输，以实现实时监控和数据分析。\n",
      "\n",
      "RocketMQ 通过提供高可用性、高吞吐量和消息可靠性，广泛应用于金融、电商、社交、物流等多个行业和领域。流式输出End。。。\n"
     ]
    }
   ],
   "execution_count": 1
  },
  {
   "metadata": {},
   "cell_type": "markdown",
   "source": "## 批量调用",
   "id": "d7d73f71ff51b518"
  },
  {
   "metadata": {
    "ExecuteTime": {
     "end_time": "2025-10-09T06:37:37.681367Z",
     "start_time": "2025-10-09T06:37:32.195620Z"
    }
   },
   "cell_type": "code",
   "source": [
    "import os\n",
    "import dotenv\n",
    "from langchain_core.messages import SystemMessage, HumanMessage\n",
    "from langchain_openai import ChatOpenAI\n",
    "\n",
    "dotenv.load_dotenv()\n",
    "\n",
    "os.environ[\"OPENAI_API_KEY\"] = os.getenv(\"OPENAI_API_KEY\")\n",
    "os.environ[\"OPENAI_BASE_URL\"] = os.getenv(\"OPENAI_BASE_URL\")\n",
    "\n",
    "chat_model = ChatOpenAI(\n",
    "    model=\"gpt-4o-mini\",\n",
    ")\n",
    "\n",
    "message1 = [SystemMessage(content=\"你是一个乐于助人的小助手小智\"), HumanMessage(content=\"你叫什么名字\")]\n",
    "message2 = [SystemMessage(content=\"你是一个乐于助人的小助手小智\"), HumanMessage(content=\"解释一下什么是Spring AI？\")]\n",
    "message3 = [SystemMessage(content=\"你是一个乐于助人的小助手小智\"), HumanMessage(content=\"简要概述一下Spring AI 和 Langchain的区别？\")]\n",
    "\n",
    "messages = [message1, message2, message3]\n",
    "\n",
    "response = chat_model.batch(messages)\n",
    "\n",
    "print(response)"
   ],
   "id": "2ec51208b29549ed",
   "outputs": [
    {
     "name": "stdout",
     "output_type": "stream",
     "text": [
      "[AIMessage(content='我叫小智，很高兴能帮助你！有什么问题可以问我哦。', additional_kwargs={'refusal': None}, response_metadata={'token_usage': {'completion_tokens': 19, 'prompt_tokens': 25, 'total_tokens': 44, 'completion_tokens_details': {'accepted_prediction_tokens': 0, 'audio_tokens': 0, 'reasoning_tokens': 0, 'rejected_prediction_tokens': 0}, 'prompt_tokens_details': {'audio_tokens': 0, 'cached_tokens': 0}}, 'model_name': 'gpt-4o-mini-2024-07-18', 'system_fingerprint': 'fp_efad92c60b', 'id': 'chatcmpl-COeZIbFSWF3gpxL63KMglJUjuyV9R', 'service_tier': None, 'finish_reason': 'stop', 'logprobs': None}, id='run--101a21bf-1d68-4cd7-9cc3-646c60ed8074-0', usage_metadata={'input_tokens': 25, 'output_tokens': 19, 'total_tokens': 44, 'input_token_details': {'audio': 0, 'cache_read': 0}, 'output_token_details': {'audio': 0, 'reasoning': 0}}), AIMessage(content='Spring AI是一个基于Spring框架的项目，旨在为开发者提供构建人工智能（AI）应用程序的工具和基础设施。它利用Spring生态系统的成熟性和灵活性，使开发者能够更轻松地集成各种AI服务和技术。\\n\\nSpring AI的主要特点包括：\\n\\n1. **简化集成**：提供便捷的方式来集成机器学习模型和AI服务，减少了配置和开发的复杂性。\\n\\n2. **可扩展性**：利用Spring的模块化特性，允许开发者根据需求自由扩展和定制。\\n\\n3. **与Spring生态系统兼容**：能够与Spring Boot、Spring Data等其他Spring项目无缝集成，便于构建完整的应用程序。\\n\\n4. **支持多种AI技术**：提供对深度学习、自然语言处理、计算机视觉等多种AI相关技术的支持。\\n\\n5. **开发者友好**：注重提高开发者的生产力，提供高效的编程模型和丰富的文档。\\n\\n通过Spring AI，开发者能够快速构建、部署和管理AI驱动的应用程序，同时享受Spring框架带来的强大功能和灵活性。', additional_kwargs={'refusal': None}, response_metadata={'token_usage': {'completion_tokens': 267, 'prompt_tokens': 29, 'total_tokens': 296, 'completion_tokens_details': {'accepted_prediction_tokens': 0, 'audio_tokens': 0, 'reasoning_tokens': 0, 'rejected_prediction_tokens': 0}, 'prompt_tokens_details': {'audio_tokens': 0, 'cached_tokens': 0}}, 'model_name': 'gpt-4o-mini-2024-07-18', 'system_fingerprint': 'fp_efad92c60b', 'id': 'chatcmpl-COeZIf3lLhpptXDqFLD9mWXI9ZYWx', 'service_tier': None, 'finish_reason': 'stop', 'logprobs': None}, id='run--02aa28ac-f78f-44c0-bad2-aaa9393396cf-0', usage_metadata={'input_tokens': 29, 'output_tokens': 267, 'total_tokens': 296, 'input_token_details': {'audio': 0, 'cache_read': 0}, 'output_token_details': {'audio': 0, 'reasoning': 0}}), AIMessage(content='Spring AI 和 Langchain 是两个用于构建 AI 应用程序的不同框架。它们各自有不同的侧重点和应用场景。\\n\\n### Spring AI\\n- **背景**: Spring AI 是 Spring Framework 的一部分，专注于将人工智能集成到 Java 应用程序中。\\n- **特点**:\\n  - **Java 生态**: 适合于 Java 开发者，利用 Spring 的特性来构建企业应用。\\n  - **集成能力**: 可以与其他 Spring 项目无缝集成，适用于需要企业级支持和功能的应用。\\n  - **组件化**: 提供了多种组件，帮助开发者快速构建和管理 AI 相关的服务。\\n\\n### Langchain\\n- **背景**: Langchain 是一个为链式处理（Chain of Thought）设计的框架，主要用于简化与大型语言模型（LLM）的交互。\\n- **特点**:\\n  - **语言模型整合**: 专注于构建与 LLM 的对话代理和任务链，可以处理复杂的 NLP 任务。\\n  - **链式结构**: 支持将多个处理步骤串联起来，灵活地组合不同的 AI 功能。\\n  - **高度灵活**: 适合于快速原型制作及探索新的 AI 交互模式。\\n\\n### 总结\\n- **技术栈**: Spring AI 主要面向 Java 开发，而 Langchain 更关注于使用 Python 与 LLM 交互。\\n- **应用场景**: Spring AI 更加适合构建企业级应用，Langchain 则更适合快速实现复杂的 NLP 工作流。\\n\\n根据具体的技术需求和应用场景，开发者可以选择合适的框架来实现 AI 功能。', additional_kwargs={'refusal': None}, response_metadata={'token_usage': {'completion_tokens': 385, 'prompt_tokens': 35, 'total_tokens': 420, 'completion_tokens_details': {'accepted_prediction_tokens': 0, 'audio_tokens': 0, 'reasoning_tokens': 0, 'rejected_prediction_tokens': 0}, 'prompt_tokens_details': {'audio_tokens': 0, 'cached_tokens': 0}}, 'model_name': 'gpt-4o-mini-2024-07-18', 'system_fingerprint': 'fp_efad92c60b', 'id': 'chatcmpl-COeZICeVI6lpQHLKgl2rHTguhubcc', 'service_tier': None, 'finish_reason': 'stop', 'logprobs': None}, id='run--7b86c85e-0b00-4e81-9f06-ac7c6dfdd2ef-0', usage_metadata={'input_tokens': 35, 'output_tokens': 385, 'total_tokens': 420, 'input_token_details': {'audio': 0, 'cache_read': 0}, 'output_token_details': {'audio': 0, 'reasoning': 0}})]\n"
     ]
    }
   ],
   "execution_count": 4
  },
  {
   "metadata": {},
   "cell_type": "markdown",
   "source": "## 同步调用和异步调用",
   "id": "c6cce9b050bfdc13"
  },
  {
   "metadata": {
    "ExecuteTime": {
     "end_time": "2025-10-09T12:04:39.611942Z",
     "start_time": "2025-10-09T12:04:29.576842Z"
    }
   },
   "cell_type": "code",
   "source": [
    "import time\n",
    "\n",
    "def call_model():\n",
    "    print(\"Start...\")\n",
    "    time.sleep(5)\n",
    "    print(\"End...\")\n",
    "\n",
    "def perform_other_tasks():\n",
    "    for i in range(5):\n",
    "        print(f\"other tasks: {i + 1}\")\n",
    "        time.sleep(1)\n",
    "\n",
    "def main():\n",
    "    start_time = time.time()\n",
    "    call_model()\n",
    "    perform_other_tasks()\n",
    "    end_time = time.time()\n",
    "    total_time = end_time - start_time\n",
    "    return f\"耗时：{total_time}S\"\n",
    "main_time = main()\n",
    "print(main_time)"
   ],
   "id": "68864f3777a6387b",
   "outputs": [
    {
     "name": "stdout",
     "output_type": "stream",
     "text": [
      "Start...\n",
      "End...\n",
      "other tasks: 1\n",
      "other tasks: 2\n",
      "other tasks: 3\n",
      "other tasks: 4\n",
      "other tasks: 5\n",
      "耗时：10.02259612083435S\n"
     ]
    }
   ],
   "execution_count": 13
  },
  {
   "metadata": {},
   "cell_type": "markdown",
   "source": "## PromptTemplate\n",
   "id": "aeaa5192d15b135e"
  },
  {
   "metadata": {},
   "cell_type": "code",
   "outputs": [],
   "execution_count": null,
   "source": "",
   "id": "c4bfe5d4d66c5d06"
  }
 ],
 "metadata": {
  "kernelspec": {
   "display_name": "Python 3",
   "language": "python",
   "name": "python3"
  },
  "language_info": {
   "codemirror_mode": {
    "name": "ipython",
    "version": 2
   },
   "file_extension": ".py",
   "mimetype": "text/x-python",
   "name": "python",
   "nbconvert_exporter": "python",
   "pygments_lexer": "ipython2",
   "version": "2.7.6"
  }
 },
 "nbformat": 4,
 "nbformat_minor": 5
}
