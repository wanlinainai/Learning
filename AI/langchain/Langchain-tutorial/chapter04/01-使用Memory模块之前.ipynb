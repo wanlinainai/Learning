{
 "cells": [
  {
   "cell_type": "code",
   "id": "initial_id",
   "metadata": {
    "collapsed": true,
    "ExecuteTime": {
     "end_time": "2025-10-13T14:37:14.415565Z",
     "start_time": "2025-10-13T14:37:13.792323Z"
    }
   },
   "source": [
    "import os\n",
    "import dotenv\n",
    "from langchain_core.messages import AIMessage, HumanMessage\n",
    "from langchain_core.prompts import ChatPromptTemplate\n",
    "from langchain_openai import ChatOpenAI\n",
    "\n",
    "dotenv.load_dotenv()\n",
    "\n",
    "os.environ[\"OPENAI_BASE_URL\"] = os.getenv(\"OPENAI_BASE_URL\")\n",
    "os.environ[\"OPENAI_API_KEY\"] = os.getenv(\"OPENAI_API_KEY\")\n",
    "\n",
    "# 创建模型实例\n",
    "llm = ChatOpenAI(model=\"gpt-4o-mini\")"
   ],
   "outputs": [],
   "execution_count": 2
  },
  {
   "metadata": {},
   "cell_type": "markdown",
   "source": "# 使用Memory模块之前",
   "id": "9b586f6ae40cee66"
  },
  {
   "metadata": {
    "ExecuteTime": {
     "end_time": "2025-10-13T14:37:09.923055Z",
     "start_time": "2025-10-13T14:37:09.829066Z"
    }
   },
   "cell_type": "code",
   "source": [
    "def chat_with_model(answer):\n",
    "    # 提示词模版\n",
    "    prompt_template = ChatPromptTemplate.from_messages([\n",
    "        (\"system\", \"你是一个人工智能助手\"),\n",
    "        (\"human\", \"{question}\")\n",
    "    ])\n",
    "\n",
    "    while True:\n",
    "        chain = prompt_template | llm\n",
    "        response = chain.invoke({\"question\": answer})\n",
    "\n",
    "        print(f\"模型回复：{response.content}\")\n",
    "\n",
    "        user_input = input(\"你还有什么问题吗？（输入'退出'时结束会话）\")\n",
    "\n",
    "        # 退出\n",
    "        if user_input == \"退出\":\n",
    "            break\n",
    "\n",
    "        prompt_template.messages.append(AIMessage(content=response.content))\n",
    "        prompt_template.messages.append(HumanMessage(content=user_input))\n",
    "\n",
    "chat_with_model(\"你好，很不高兴认识你\")"
   ],
   "id": "b69cd9e081d6f1c1",
   "outputs": [
    {
     "ename": "NameError",
     "evalue": "name 'ChatPromptTemplate' is not defined",
     "output_type": "error",
     "traceback": [
      "\u001B[31m---------------------------------------------------------------------------\u001B[39m",
      "\u001B[31mNameError\u001B[39m                                 Traceback (most recent call last)",
      "\u001B[36mCell\u001B[39m\u001B[36m \u001B[39m\u001B[32mIn[1]\u001B[39m\u001B[32m, line 23\u001B[39m\n\u001B[32m     20\u001B[39m         prompt_template.messages.append(AIMessage(content=response.content))\n\u001B[32m     21\u001B[39m         prompt_template.messages.append(HumanMessage(content=user_input))\n\u001B[32m---> \u001B[39m\u001B[32m23\u001B[39m \u001B[43mchat_with_model\u001B[49m\u001B[43m(\u001B[49m\u001B[33;43m\"\u001B[39;49m\u001B[33;43m你好，很不高兴认识你\u001B[39;49m\u001B[33;43m\"\u001B[39;49m\u001B[43m)\u001B[49m\n",
      "\u001B[36mCell\u001B[39m\u001B[36m \u001B[39m\u001B[32mIn[1]\u001B[39m\u001B[32m, line 3\u001B[39m, in \u001B[36mchat_with_model\u001B[39m\u001B[34m(answer)\u001B[39m\n\u001B[32m      1\u001B[39m \u001B[38;5;28;01mdef\u001B[39;00m\u001B[38;5;250m \u001B[39m\u001B[34mchat_with_model\u001B[39m(answer):\n\u001B[32m      2\u001B[39m     \u001B[38;5;66;03m# 提示词模版\u001B[39;00m\n\u001B[32m----> \u001B[39m\u001B[32m3\u001B[39m     prompt_template = \u001B[43mChatPromptTemplate\u001B[49m.from_messages([\n\u001B[32m      4\u001B[39m         (\u001B[33m\"\u001B[39m\u001B[33msystem\u001B[39m\u001B[33m\"\u001B[39m, \u001B[33m\"\u001B[39m\u001B[33m你是一个人工智能助手\u001B[39m\u001B[33m\"\u001B[39m),\n\u001B[32m      5\u001B[39m         (\u001B[33m\"\u001B[39m\u001B[33mhuman\u001B[39m\u001B[33m\"\u001B[39m, \u001B[33m\"\u001B[39m\u001B[38;5;132;01m{question}\u001B[39;00m\u001B[33m\"\u001B[39m)\n\u001B[32m      6\u001B[39m     ])\n\u001B[32m      8\u001B[39m     \u001B[38;5;28;01mwhile\u001B[39;00m \u001B[38;5;28;01mTrue\u001B[39;00m:\n\u001B[32m      9\u001B[39m         chain = prompt_template | llm\n",
      "\u001B[31mNameError\u001B[39m: name 'ChatPromptTemplate' is not defined"
     ]
    }
   ],
   "execution_count": 1
  }
 ],
 "metadata": {
  "kernelspec": {
   "display_name": "Python 3",
   "language": "python",
   "name": "python3"
  },
  "language_info": {
   "codemirror_mode": {
    "name": "ipython",
    "version": 2
   },
   "file_extension": ".py",
   "mimetype": "text/x-python",
   "name": "python",
   "nbconvert_exporter": "python",
   "pygments_lexer": "ipython2",
   "version": "2.7.6"
  }
 },
 "nbformat": 4,
 "nbformat_minor": 5
}
