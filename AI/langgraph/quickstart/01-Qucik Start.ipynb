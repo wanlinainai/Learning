{
 "cells": [
  {
   "cell_type": "code",
   "id": "initial_id",
   "metadata": {
    "collapsed": true,
    "ExecuteTime": {
     "end_time": "2025-10-23T06:35:46.987937Z",
     "start_time": "2025-10-23T06:35:46.970405Z"
    }
   },
   "source": [
    "import os\n",
    "import dotenv\n",
    "\n",
    "from langchain.tools import tool\n",
    "from langchain.chat_models import init_chat_model\n",
    "\n",
    "dotenv.load_dotenv(dotenv_path=\"../.env\", override=True)\n",
    "\n",
    "os.environ['OPENAI_API_KEY'] = os.getenv('OPENAI_API_KEY')\n",
    "os.environ['OPENAI_BASE_URL'] = os.getenv('OPENAI_BASE_URL')\n",
    "\n",
    "print(os.environ['OPENAI_API_KEY'])\n",
    "print(os.environ['OPENAI_BASE_URL'])\n",
    "\n",
    "model = init_chat_model(\n",
    "    model=\"gpt-4o-mini\",\n",
    "    base_url=os.getenv('OPENAI_BASE_URL'),\n",
    "    temperature=0\n",
    ")\n",
    "\n",
    "# Tool\n",
    "@tool\n",
    "def multiply(a: int, b: int) -> int:\n",
    "    \"\"\"\n",
    "    Multiply `a` and `b`.\n",
    "\n",
    "    Args:\n",
    "        a: First int\n",
    "        b: Second int\n",
    "    \"\"\"\n",
    "    return a * b\n",
    "\n",
    "@tool\n",
    "def add(a: int, b: int) -> int:\n",
    "    \"\"\"\n",
    "    Add `a` and `b`.\n",
    "    Args:\n",
    "    a: First int\n",
    "    b: Second int\n",
    "    \"\"\"\n",
    "    return a + b\n",
    "\n",
    "@tool\n",
    "def divide(a: int, b: int) -> int:\n",
    "    \"\"\"\n",
    "    Divide `a` and `b`.\n",
    "    Args:\n",
    "    a: First int\n",
    "    b: Second int\n",
    "    \"\"\"\n",
    "    return a / b\n",
    "\n",
    "\n",
    "tools = [add, divide, multiply]\n",
    "tools_by_name = {tool.name: tool for tool in tools} # 将函数名作为name,方便查找工具\n",
    "model_with_tools = model.bind_tools(tools)"
   ],
   "outputs": [
    {
     "name": "stdout",
     "output_type": "stream",
     "text": [
      "sk-t2ncP42pm99Vi1XSPSJEVxdXTeS16KzMrvL4UtXhUJPcPqy1\n",
      "https://api.openai-proxy.org/v1\n"
     ]
    }
   ],
   "execution_count": 6
  },
  {
   "metadata": {},
   "cell_type": "markdown",
   "source": "## 定义状态",
   "id": "7fa8411dfee4caeb"
  },
  {
   "metadata": {
    "ExecuteTime": {
     "end_time": "2025-10-23T06:53:25.172949Z",
     "start_time": "2025-10-23T06:53:25.167339Z"
    }
   },
   "cell_type": "code",
   "source": [
    "from typing_extensions import TypedDict, Annotated\n",
    "from langchain.messages import AnyMessage\n",
    "import operator\n",
    "\n",
    "class MessageState(TypedDict):\n",
    "    messages: Annotated[AnyMessage, operator.add]\n",
    "    llm_calls: int"
   ],
   "id": "56ddfce46ff9bc55",
   "outputs": [],
   "execution_count": 7
  },
  {
   "metadata": {},
   "cell_type": "markdown",
   "source": "## 定义模型节点",
   "id": "e659fca039834fc0"
  },
  {
   "metadata": {
    "ExecuteTime": {
     "end_time": "2025-10-23T06:54:28.937063Z",
     "start_time": "2025-10-23T06:54:28.933438Z"
    }
   },
   "cell_type": "code",
   "source": [
    "from langchain.messages import SystemMessage\n",
    "\n",
    "def llm_call(state: dict):\n",
    "    return {\n",
    "        \"messages\": [\n",
    "            model_with_tools.invoke(\n",
    "                [\n",
    "                    SystemMessage(content=\"You're a helpful assistant, you need to help ask their questions\")\n",
    "                ] + state[\"messages\"]\n",
    "            )\n",
    "        ],\n",
    "        \"llm_calls\": state.get(\"llm_calls\", 0) + 1\n",
    "    }"
   ],
   "id": "54b7382ce7c094d",
   "outputs": [],
   "execution_count": 8
  },
  {
   "metadata": {},
   "cell_type": "markdown",
   "source": [
    "## 定义工具节点\n",
    "调用工具"
   ],
   "id": "4b89e9d68a36f19"
  },
  {
   "metadata": {
    "ExecuteTime": {
     "end_time": "2025-10-23T06:54:31.379558Z",
     "start_time": "2025-10-23T06:54:31.375148Z"
    }
   },
   "cell_type": "code",
   "source": [
    "from langchain.messages import ToolMessage\n",
    "\n",
    "\n",
    "def tool_node(state: dict):\n",
    "    \"\"\"Performs the tool call\"\"\"\n",
    "\n",
    "    result = []\n",
    "    for tool_call in state[\"messages\"][-1].tool_calls:\n",
    "        tool = tools_by_name[tool_call[\"name\"]]\n",
    "        observation = tool.invoke(tool_call[\"args\"])\n",
    "        result.append(ToolMessage(content=observation, tool_call_id=tool_call[\"id\"]))\n",
    "    return {\"messages\": result}"
   ],
   "id": "8f21014d65e1ca38",
   "outputs": [],
   "execution_count": 9
  },
  {
   "metadata": {},
   "cell_type": "markdown",
   "source": "## 结束",
   "id": "97a5be13e0a3ebaa"
  },
  {
   "metadata": {
    "ExecuteTime": {
     "end_time": "2025-10-23T06:56:23.350566Z",
     "start_time": "2025-10-23T06:56:23.346734Z"
    }
   },
   "cell_type": "code",
   "source": [
    "from typing import Literal\n",
    "from langgraph.graph import StateGraph, START, END\n",
    "\n",
    "\n",
    "def should_continue(state: MessageState) -> Literal[\"tool_node\", END]:\n",
    "    \"\"\"Decide if we should continue the loop or stop based upon whether the LLM made a tool call\"\"\"\n",
    "\n",
    "    messages = state[\"messages\"]\n",
    "    last_message = messages[-1]\n",
    "\n",
    "    # If the LLM makes a tool call, then perform an action\n",
    "    if last_message.tool_calls:\n",
    "        return \"tool_node\"\n",
    "\n",
    "    # Otherwise, we stop (reply to the user)\n",
    "    return END"
   ],
   "id": "8e867e4c33e31497",
   "outputs": [],
   "execution_count": 10
  },
  {
   "metadata": {},
   "cell_type": "markdown",
   "source": "## 构建编辑代理",
   "id": "297de20d25aeddc3"
  },
  {
   "metadata": {
    "ExecuteTime": {
     "end_time": "2025-10-23T07:21:17.560330Z",
     "start_time": "2025-10-23T07:21:14.541222Z"
    }
   },
   "cell_type": "code",
   "source": [
    "# Build workflow\n",
    "agent_builder = StateGraph(MessageState)\n",
    "\n",
    "# Add nodes\n",
    "agent_builder.add_node(\"llm_call\", llm_call)\n",
    "agent_builder.add_node(\"tool_node\", tool_node)\n",
    "\n",
    "# Add edges to connect nodes\n",
    "agent_builder.add_edge(START, \"llm_call\")\n",
    "agent_builder.add_conditional_edges(\n",
    "    \"llm_call\",\n",
    "    should_continue,\n",
    "    [\"tool_node\", END]\n",
    ")\n",
    "agent_builder.add_edge(\"tool_node\", \"llm_call\")\n",
    "\n",
    "# Compile the agent\n",
    "agent = agent_builder.compile()\n",
    "\n",
    "# Show the agent\n",
    "from IPython.display import Image, display\n",
    "display(Image(agent.get_graph(xray=True).draw_mermaid_png()))\n",
    "\n",
    "# Invoke\n",
    "from langchain.messages import HumanMessage\n",
    "messages = [HumanMessage(content=\"Add 3 and 4.\")]\n",
    "messages = agent.invoke({\"messages\": messages})\n",
    "for m in messages[\"messages\"]:\n",
    "    m.pretty_print()"
   ],
   "id": "315927ce8d76a2b8",
   "outputs": [
    {
     "data": {
      "image/png": "[encoded data removed]",
      "text/plain": [
       "<IPython.core.display.Image object>"
      ]
     },
     "metadata": {},
     "output_type": "display_data",
     "jetTransient": {
      "display_id": null
     }
    },
    {
     "name": "stdout",
     "output_type": "stream",
     "text": [
      "================================\u001B[1m Human Message \u001B[0m=================================\n",
      "\n",
      "Add 3 and 4.\n",
      "==================================\u001B[1m Ai Message \u001B[0m==================================\n",
      "Tool Calls:\n",
      "  add (call_OBp3rJWycizP1wfumjqsAzO0)\n",
      " Call ID: call_OBp3rJWycizP1wfumjqsAzO0\n",
      "  Args:\n",
      "    a: 3\n",
      "    b: 4\n",
      "=================================\u001B[1m Tool Message \u001B[0m=================================\n",
      "\n",
      "7\n",
      "==================================\u001B[1m Ai Message \u001B[0m==================================\n",
      "\n",
      "The sum of 3 and 4 is 7.\n"
     ]
    }
   ],
   "execution_count": 14
  },
  {
   "metadata": {},
   "cell_type": "markdown",
   "source": [
    "## 总结：\n",
    "核心就是 状态图（StateGraph）。\n",
    "整个架构分成三层：\n",
    "| 层级 | 名称 | 说明 |\n",
    "| ------- | ------- | ------- |\n",
    "| 基础层 | StateGraph | 定义流程节点和边的结构 |\n",
    "| 执行层 | Node Func | Node节点方法 |\n",
    "| 控制层 | State Edge | Edge边、条件边 |\n",
    "\n",
    "【LLM 推理 ---> 调用工具 ---> 回传结果 ---> 推理 ---> 调用工具】"
   ],
   "id": "b4ec91c4961035e9"
  },
  {
   "metadata": {},
   "cell_type": "code",
   "outputs": [],
   "execution_count": null,
   "source": "",
   "id": "bc56817c621048b1"
  }
 ],
 "metadata": {
  "kernelspec": {
   "display_name": "Python 3",
   "language": "python",
   "name": "python3"
  },
  "language_info": {
   "codemirror_mode": {
    "name": "ipython",
    "version": 2
   },
   "file_extension": ".py",
   "mimetype": "text/x-python",
   "name": "python",
   "nbconvert_exporter": "python",
   "pygments_lexer": "ipython2",
   "version": "2.7.6"
  }
 },
 "nbformat": 4,
 "nbformat_minor": 5
}
