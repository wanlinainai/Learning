{
 "cells": [
  {
   "metadata": {},
   "cell_type": "markdown",
   "source": "## 从物理磁盘的yaml文件读取数据",
   "id": "2e5a0634df932df7"
  },
  {
   "metadata": {
    "ExecuteTime": {
     "end_time": "2025-10-09T16:11:37.331835Z",
     "start_time": "2025-10-09T16:11:37.078176Z"
    }
   },
   "cell_type": "code",
   "source": [
    "from langchain_core.prompts import load_prompt\n",
    "from dotenv import load_dotenv\n",
    "\n",
    "load_dotenv()\n",
    "\n",
    "prompt = load_prompt(\"prompt.yaml\", encoding=\"utf-8\")\n",
    "\n",
    "print(prompt.format(name=\"年轻人\", what=\"滑稽\"))"
   ],
   "id": "8c01d79c413f7e56",
   "outputs": [
    {
     "name": "stdout",
     "output_type": "stream",
     "text": [
      "请给年轻人讲一个关于滑稽的故事\n"
     ]
    }
   ],
   "execution_count": 1
  },
  {
   "metadata": {},
   "cell_type": "markdown",
   "source": "## 从物理磁盘的json文件读取数据",
   "id": "e5c9e9204fc02793"
  },
  {
   "metadata": {
    "ExecuteTime": {
     "end_time": "2025-10-09T16:13:30.130332Z",
     "start_time": "2025-10-09T16:13:30.126152Z"
    }
   },
   "cell_type": "code",
   "source": [
    "from langchain_core.prompts import load_prompt\n",
    "from dotenv import load_dotenv\n",
    "\n",
    "load_dotenv()\n",
    "\n",
    "prompt = load_prompt(\"prompt.json\", encoding=\"utf-8\")\n",
    "\n",
    "print(prompt.format(name=\"年轻人\", what=\"滑稽\"))"
   ],
   "id": "d62d7a157b319bd7",
   "outputs": [
    {
     "name": "stdout",
     "output_type": "stream",
     "text": [
      "请年轻人讲一个滑稽的故事,哈哈\n"
     ]
    }
   ],
   "execution_count": 2
  }
 ],
 "metadata": {
  "kernelspec": {
   "display_name": "Python 3",
   "language": "python",
   "name": "python3"
  },
  "language_info": {
   "codemirror_mode": {
    "name": "ipython",
    "version": 2
   },
   "file_extension": ".py",
   "mimetype": "text/x-python",
   "name": "python",
   "nbconvert_exporter": "python",
   "pygments_lexer": "ipython2",
   "version": "2.7.6"
  }
 },
 "nbformat": 4,
 "nbformat_minor": 5
}
