{
 "cells": [
  {
   "cell_type": "code",
   "id": "initial_id",
   "metadata": {
    "collapsed": true,
    "ExecuteTime": {
     "end_time": "2025-10-09T15:39:04.322790Z",
     "start_time": "2025-10-09T15:39:02.492607Z"
    }
   },
   "source": [
    "from langchain_core.messages import (SystemMessage, HumanMessage, AIMessage, ChatMessage)\n",
    "from langchain_core.prompts import FewShotPromptTemplate\n",
    "\n",
    "from langchain_openai import ChatOpenAI\n",
    "import os\n",
    "import dotenv\n",
    "\n",
    "dotenv.load_dotenv()\n",
    "\n",
    "os.environ[\"OPENAI_API_KEY\"] = os.getenv(\"OPENAI_API_KEY\")\n",
    "os.environ[\"OPENAI_BASE_URL\"] = os.getenv(\"OPENAI_BASE_URL\")\n",
    "\n",
    "chat_model = ChatOpenAI(\n",
    "    # api_key=os.getenv(\"OPENAI_API_KEY\"),\n",
    "    model=\"gpt-4o-mini\",\n",
    "    # base_url=os.getenv(\"OPENAI_BASE_URL\")\n",
    ")\n",
    "\n",
    "response = chat_model.invoke(\"你好\")"
   ],
   "outputs": [],
   "execution_count": 2
  },
  {
   "metadata": {},
   "cell_type": "markdown",
   "source": "# FewShotPromptTemplate",
   "id": "93b41a90e6cc9fd5"
  },
  {
   "metadata": {
    "ExecuteTime": {
     "end_time": "2025-10-09T15:40:49.362766Z",
     "start_time": "2025-10-09T15:40:48.528111Z"
    }
   },
   "cell_type": "code",
   "source": [
    "from langchain_core.prompts import PromptTemplate\n",
    "\n",
    "# 创建PromptTemplate\n",
    "example_prompt = PromptTemplate.from_template(\n",
    "    template=\"input:{input}\\n, output:{output}\"\n",
    ")\n",
    "\n",
    "examples = [\n",
    "    {\"input\": \"北京天气怎么样？\", \"output\": \"北京市\"},\n",
    "    {\"input\": \"莱西市今天下雨吗?\", \"output\": \"莱西市\"},\n",
    "    {\"input\": \"青岛现在热吗？\", \"output\": \"青岛市\"}\n",
    "]\n",
    "few_shot_template = FewShotPromptTemplate(\n",
    "    example_prompt=example_prompt,\n",
    "    examples=examples,\n",
    "    input_variables=[\"input\"],\n",
    "    suffix=\"input:{input}\\n, output:\",\n",
    ")\n",
    "\n",
    "few_shot_template.invoke({\"input\": \"天津会下雨吗？\"})\n",
    "\n",
    "chat_model.invoke(few_shot_template.invoke({\"input\": \"天津会下雨吗？\"}))"
   ],
   "id": "dca570e0b99d4ff0",
   "outputs": [
    {
     "data": {
      "text/plain": [
       "AIMessage(content='天津市', additional_kwargs={'refusal': None}, response_metadata={'token_usage': {'completion_tokens': 3, 'prompt_tokens': 61, 'total_tokens': 64, 'completion_tokens_details': {'accepted_prediction_tokens': 0, 'audio_tokens': 0, 'reasoning_tokens': 0, 'rejected_prediction_tokens': 0}, 'prompt_tokens_details': {'audio_tokens': 0, 'cached_tokens': 0}}, 'model_name': 'gpt-4o-mini-2024-07-18', 'system_fingerprint': 'fp_efad92c60b', 'id': 'chatcmpl-COn33iNlZm72N5Btf7ngbLB5Ebxnt', 'service_tier': None, 'finish_reason': 'stop', 'logprobs': None}, id='run--ee73aba3-32db-4524-8102-d1e916e621eb-0', usage_metadata={'input_tokens': 61, 'output_tokens': 3, 'total_tokens': 64, 'input_token_details': {'audio': 0, 'cache_read': 0}, 'output_token_details': {'audio': 0, 'reasoning': 0}})"
      ]
     },
     "execution_count": 5,
     "metadata": {},
     "output_type": "execute_result"
    }
   ],
   "execution_count": 5
  },
  {
   "metadata": {
    "ExecuteTime": {
     "end_time": "2025-10-09T15:56:35.817893Z",
     "start_time": "2025-10-09T15:56:34.599038Z"
    }
   },
   "cell_type": "code",
   "source": [
    "# 1. 导入相关包\n",
    "from langchain_core.prompts import (\n",
    "    FewShotChatMessagePromptTemplate,\n",
    "    ChatPromptTemplate\n",
    ")\n",
    "\n",
    "# 2. 定义示例组\n",
    "examples = [\n",
    "    {\"input\": \"2🦜2\", \"output\": \"4\"},\n",
    "    {\"input\": \"2🦜3\", \"output\": \"8\"},\n",
    "]\n",
    "\n",
    "# 3. 定义示例的消息格式提示词模版\n",
    "example_prompt = ChatPromptTemplate.from_messages([\n",
    "    ('human', '{input} 是多少?'),\n",
    "    ('ai', '{output}')\n",
    "])\n",
    "\n",
    "# 4. 定义FewShotChatMessagePromptTemplate对象\n",
    "few_shot_prompt = FewShotChatMessagePromptTemplate(\n",
    "    examples=examples,          # 示例组\n",
    "    example_prompt=example_prompt,  # 示例提示词词模版\n",
    ")\n",
    "\n",
    "# 5. 输出完整提示词的消息模版\n",
    "final_prompt = ChatPromptTemplate.from_messages([\n",
    "    ('system', '你是一个数学奇才'),\n",
    "    few_shot_prompt,\n",
    "    ('human', '{input}'),\n",
    "])\n",
    "\n",
    "# 6. 提供大模型\n",
    "import os\n",
    "import dotenv\n",
    "from langchain_openai import ChatOpenAI\n",
    "\n",
    "dotenv.load_dotenv()\n",
    "os.environ['OPENAI_API_KEY'] = os.getenv(\"OPENAI_API_KEY\")\n",
    "os.environ['OPENAI_BASE_URL'] = os.getenv(\"OPENAI_BASE_URL\")\n",
    "\n",
    "chat_model = ChatOpenAI(\n",
    "    model=\"gpt-4o-mini\",\n",
    "    temperature=0.4\n",
    ")\n",
    "\n",
    "# 调用模型并获取结果\n",
    "result = chat_model.invoke(final_prompt.invoke(input=\"2🦜4\")).content\n",
    "print(result)"
   ],
   "id": "c2ac67c2e706f897",
   "outputs": [
    {
     "name": "stdout",
     "output_type": "stream",
     "text": [
      "2🦜4 等于 16。\n"
     ]
    }
   ],
   "execution_count": 8
  }
 ],
 "metadata": {
  "kernelspec": {
   "display_name": "Python 3",
   "language": "python",
   "name": "python3"
  },
  "language_info": {
   "codemirror_mode": {
    "name": "ipython",
    "version": 2
   },
   "file_extension": ".py",
   "mimetype": "text/x-python",
   "name": "python",
   "nbconvert_exporter": "python",
   "pygments_lexer": "ipython2",
   "version": "2.7.6"
  }
 },
 "nbformat": 4,
 "nbformat_minor": 5
}
