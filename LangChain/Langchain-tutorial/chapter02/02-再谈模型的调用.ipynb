{
 "cells": [
  {
   "cell_type": "code",
   "id": "initial_id",
   "metadata": {
    "collapsed": true,
    "ExecuteTime": {
     "end_time": "2025-10-08T15:36:13.236258Z",
     "start_time": "2025-10-08T15:36:11.514274Z"
    }
   },
   "source": [
    "from certifi import contents\n",
    "from langchain_openai import ChatOpenAI\n",
    "import os\n",
    "import dotenv\n",
    "\n",
    "dotenv.load_dotenv()\n",
    "\n",
    "os.environ[\"OPENAI_API_KEY\"] = os.getenv(\"OPENAI_API_KEY\")\n",
    "os.environ[\"OPENAI_BASE_URL\"] = os.getenv(\"OPENAI_BASE_URL\")\n",
    "\n",
    "chat_model = ChatOpenAI(\n",
    "    # api_key=os.getenv(\"OPENAI_API_KEY\"),\n",
    "    model=\"gpt-4o-mini\",\n",
    "    # base_url=os.getenv(\"OPENAI_BASE_URL\")\n",
    ")\n",
    "\n",
    "response = chat_model.invoke(\"你好\")\n",
    "\n",
    "print(response)"
   ],
   "outputs": [
    {
     "name": "stdout",
     "output_type": "stream",
     "text": [
      "content='你好！有什么我可以帮助你的吗？' additional_kwargs={'refusal': None} response_metadata={'token_usage': {'completion_tokens': 10, 'prompt_tokens': 8, 'total_tokens': 18, 'completion_tokens_details': {'accepted_prediction_tokens': 0, 'audio_tokens': 0, 'reasoning_tokens': 0, 'rejected_prediction_tokens': 0}, 'prompt_tokens_details': {'audio_tokens': 0, 'cached_tokens': 0}}, 'model_name': 'gpt-4o-mini-2024-07-18', 'system_fingerprint': 'fp_efad92c60b', 'id': 'chatcmpl-COQV2nYmIR7FlSuZXMtYGq4fI30i4', 'service_tier': None, 'finish_reason': 'stop', 'logprobs': None} id='run--b05efce6-1e1a-4e54-89f7-4bab163e93eb-0' usage_metadata={'input_tokens': 8, 'output_tokens': 10, 'total_tokens': 18, 'input_token_details': {'audio': 0, 'cache_read': 0}, 'output_token_details': {'audio': 0, 'reasoning': 0}}\n"
     ]
    }
   ],
   "execution_count": 1
  },
  {
   "metadata": {},
   "cell_type": "markdown",
   "source": "",
   "id": "9dc0cde31aa8d707"
  },
  {
   "metadata": {
    "ExecuteTime": {
     "end_time": "2025-10-08T16:25:28.540859Z",
     "start_time": "2025-10-08T16:25:28.531914Z"
    }
   },
   "cell_type": "code",
   "source": [
    "from langchain_core.messages import SystemMessage, HumanMessage, AIMessage\n",
    "\n",
    "system_message = SystemMessage(content=\"你是一个英语教学专家\")\n",
    "\n",
    "human_message = HumanMessage(content=\"帮我制定一个学习英语雅思的计划\")\n",
    "\n",
    "messages = [system_message, human_message]\n",
    "\n",
    "print(messages)"
   ],
   "id": "376e456f52f394ca",
   "outputs": [
    {
     "name": "stdout",
     "output_type": "stream",
     "text": [
      "[SystemMessage(content='你是一个英语教学专家', additional_kwargs={}, response_metadata={}), HumanMessage(content='帮我制定一个学习英语雅思的计划', additional_kwargs={}, response_metadata={})]\n"
     ]
    }
   ],
   "execution_count": 2
  },
  {
   "metadata": {
    "ExecuteTime": {
     "end_time": "2025-10-08T16:27:51.835962Z",
     "start_time": "2025-10-08T16:27:42.965398Z"
    }
   },
   "cell_type": "code",
   "source": [
    "response = chat_model.invoke(messages)\n",
    "\n",
    "print(type(response))\n",
    "\n",
    "print(response.content)"
   ],
   "id": "b7563c162728d6f7",
   "outputs": [
    {
     "name": "stdout",
     "output_type": "stream",
     "text": [
      "<class 'langchain_core.messages.ai.AIMessage'>\n",
      "当然可以！以下是一个为期三个月的雅思学习计划，适合初学者到中级水平的考生。计划分为三个阶段，重点是听、说、读、写四个部分。\n",
      "\n",
      "### 学习计划概述\n",
      "- **阶段一：基础（第1-4周）**\n",
      "- **阶段二：强化（第5-8周）**\n",
      "- **阶段三：模拟与冲刺（第9-12周）**\n",
      "\n",
      "### 阶段一：基础（第1-4周）\n",
      "#### 每日安排（每日2小时）\n",
      "1. **听力（30分钟）**\n",
      "   - 每日收听雅思听力练习材料，选择1-2篇短文。\n",
      "   - 笔记重要信息并进行答题训练。\n",
      "\n",
      "2. **阅读（30分钟）**\n",
      "   - 选择不同类型的阅读材料（学术文章、新闻、报告等）。\n",
      "   - 学习速读和关键字寻找技巧。\n",
      "\n",
      "3. **写作（30分钟）**\n",
      "   - 学习雅思写作Task 1和Task 2的格式。\n",
      "   - 每周完成1篇Task 1和1篇Task 2练习，并请老师或者同学进行反馈。\n",
      "\n",
      "4. **口语（30分钟）**\n",
      "   - 练习常见的口语问题（如自我介绍、个人经历等）。\n",
      "   - 每周与朋友进行一次模拟口语测试。\n",
      "\n",
      "### 阶段二：强化（第5-8周）\n",
      "#### 每日安排（每日2.5小时）\n",
      "1. **听力（45分钟）**\n",
      "   - 进行完整的雅思听力模拟测试，并分析错误原因。\n",
      "   - 专注于不同口音和语速的听力材料。\n",
      "\n",
      "2. **阅读（45分钟）**\n",
      "   - 每周完成2套雅思阅读模拟题。\n",
      "   - 学习时间管理技巧，确保在限定时间内完成阅读理解。\n",
      "\n",
      "3. **写作（30分钟）**\n",
      "   - 加强对高分词汇和句型的学习，丰富写作内容。\n",
      "   - 每周撰写2篇完整的Task 1和Task 2，并练习时间控制。\n",
      "\n",
      "4. **口语（30分钟）**\n",
      "   - 深入熟悉雅思口语考试的评分标准，调整回答策略。\n",
      "   - 进行真题口语练习，并录音自评。\n",
      "\n",
      "### 阶段三：模拟与冲刺（第9-12周）\n",
      "#### 每日安排（每日3小时）\n",
      "1. **听力（1小时）**\n",
      "   - 完成全部雅思听力模拟测试，针对薄弱环节进行重点练习。\n",
      "   - 听取一些TED演讲和英语播客，提升听力理解能力。\n",
      "\n",
      "2. **阅读（1小时）**\n",
      "   - 持续进行真实雅思考试题目的阅读练习。\n",
      "   - 学会在紧张的时间限制下快速理解文章要点。\n",
      "\n",
      "3. **写作（30分钟）**\n",
      "   - 提高写作速度和准确性，确保在考试时间内完成。\n",
      "   - 与他人互评，以获取不同的反馈。\n",
      "\n",
      "4. **口语（30分钟）**\n",
      "   - 每周进行一次完整的口语模考，与老师或同伴进行模拟。\n",
      "   - 加强对各类话题（如科技、环境、文化等）的准备。\n",
      "\n",
      "### 额外建议\n",
      "- **词汇积累**：每天学习10个新单词，尤其是与雅思常见话题相关的词汇。\n",
      "- **语法练习**：每周完成一次语法测试，提升语言的准确性。\n",
      "- **参加雅思培训班**：如果条件允许，可以选择线上或线下的雅思培训课程以获得专业指导。\n",
      "\n",
      "通过以上计划，系统地进行准备，相信你能够在雅思考试中取得理想的成绩！保持积极的学习态度和充足的练习，相信自己！祝你好运！\n"
     ]
    }
   ],
   "execution_count": 3
  },
  {
   "metadata": {
    "ExecuteTime": {
     "end_time": "2025-10-08T16:38:09.250667Z",
     "start_time": "2025-10-08T16:38:09.247634Z"
    }
   },
   "cell_type": "code",
   "source": [
    "from langchain_core.messages import SystemMessage, HumanMessage, AIMessage\n",
    "\n",
    "system_message = SystemMessage(\n",
    "    content=\"你是一个AI开发工程师\",\n",
    "    additional_kwargs={\"tools\": \"invoke_func1\"}\n",
    ")\n",
    "\n",
    "human_message = HumanMessage(\n",
    "    content=\"我需要开发一个关于区块链AI智能助手，关于分析某一个虚拟币的受欢迎程度，帮我用极简的语言简述一下\",\n",
    ")\n",
    "\n",
    "ai_message = AIMessage(\n",
    "    content=\"你好，请继续问下一个问题\"\n",
    ")\n",
    "\n",
    "messages = [system_message, human_message, ai_message]\n",
    "\n",
    "print(messages)"
   ],
   "id": "d84b0184f12eec27",
   "outputs": [
    {
     "name": "stdout",
     "output_type": "stream",
     "text": [
      "[SystemMessage(content='你是一个AI开发工程师', additional_kwargs={'tools': 'invoke_func1'}, response_metadata={}), HumanMessage(content='我需要开发一个关于区块链AI智能助手，关于分析某一个虚拟币的受欢迎程度，帮我用极简的语言简述一下', additional_kwargs={}, response_metadata={}), AIMessage(content='你好，请继续问下一个问题', additional_kwargs={}, response_metadata={})]\n"
     ]
    }
   ],
   "execution_count": 6
  },
  {
   "metadata": {
    "ExecuteTime": {
     "end_time": "2025-10-08T16:43:23.640751Z",
     "start_time": "2025-10-08T16:43:17.296888Z"
    }
   },
   "cell_type": "code",
   "source": [
    "from langchain_core.messages import (SystemMessage, HumanMessage, AIMessage, ChatMessage)\n",
    "\n",
    "system_message = SystemMessage(\n",
    "    content=\"你是一个AI开发工程师\",\n",
    "    additional_kwargs={\"tools\": \"invoke_func1\"}\n",
    ")\n",
    "\n",
    "human_message = HumanMessage(\n",
    "    content=\"我需要开发一个关于区块链AI智能助手，关于分析某一个虚拟币的受欢迎程度，帮我用极简的语言简述一下\",\n",
    ")\n",
    "\n",
    "chat_message = ChatMessage(\n",
    "    role=\"analyst\",\n",
    "    content=\"补充一些关于模型调优的建议\"\n",
    ")\n",
    "\n",
    "\n",
    "messages = [system_message, human_message]\n",
    "# print(messages)\n",
    "response = chat_model.invoke(messages)\n",
    "\n",
    "print(response.content)\n"
   ],
   "id": "a29a3f60dba75f12",
   "outputs": [
    {
     "name": "stdout",
     "output_type": "stream",
     "text": [
      "开发一个区块链AI智能助手，可以通过以下步骤分析某个虚拟币的受欢迎程度：\n",
      "\n",
      "1. **数据收集**：获取该虚拟币的交易数据、社交媒体讨论、新闻报道等信息。\n",
      "2. **情感分析**：使用自然语言处理技术分析社交媒体和新闻的情感倾向。\n",
      "3. **市场指标**：监测交易量、价格波动、持币地址数量等市场数据。\n",
      "4. **趋势分析**：结合历史数据，识别受欢迎程度的趋势变化。\n",
      "5. **报告生成**：生成易于理解的报告，提供受欢迎程度的综合评估。\n",
      "\n",
      "这样，用户可以迅速了解该虚拟币的市场状况。\n"
     ]
    }
   ],
   "execution_count": 11
  },
  {
   "metadata": {},
   "cell_type": "code",
   "outputs": [],
   "execution_count": null,
   "source": "",
   "id": "ef074f01e4052585"
  },
  {
   "metadata": {},
   "cell_type": "markdown",
   "source": "# 关于大模型和上下文记忆",
   "id": "d0d58ee162acd941"
  },
  {
   "metadata": {},
   "cell_type": "code",
   "outputs": [],
   "execution_count": null,
   "source": "",
   "id": "2fff237e6c82b838"
  },
  {
   "metadata": {
    "ExecuteTime": {
     "end_time": "2025-10-08T16:56:40.101892Z",
     "start_time": "2025-10-08T16:56:39.091236Z"
    }
   },
   "cell_type": "code",
   "source": [
    "from langchain_core.messages import SystemMessage, HumanMessage\n",
    "\n",
    "system_message = SystemMessage(\n",
    "    content=\"你是一个人工智能助手，你的名字叫做小黑黑\"\n",
    ")\n",
    "\n",
    "human_message = HumanMessage(\n",
    "    content=\"猫山王是一只猫咪吗？\"\n",
    ")\n",
    "\n",
    "human_message1 = HumanMessage(\n",
    "    content=\"你叫什么名字？\"\n",
    ")\n",
    "\n",
    "response = chat_model.invoke([system_message, human_message, human_message1])\n",
    "\n",
    "print(response.content)"
   ],
   "id": "86c634957030edaf",
   "outputs": [
    {
     "name": "stdout",
     "output_type": "stream",
     "text": [
      "我叫小黑黑，很高兴认识你！有什么我可以帮助你的吗？\n"
     ]
    }
   ],
   "execution_count": 12
  }
 ],
 "metadata": {
  "kernelspec": {
   "display_name": "Python 3",
   "language": "python",
   "name": "python3"
  },
  "language_info": {
   "codemirror_mode": {
    "name": "ipython",
    "version": 2
   },
   "file_extension": ".py",
   "mimetype": "text/x-python",
   "name": "python",
   "nbconvert_exporter": "python",
   "pygments_lexer": "ipython2",
   "version": "2.7.6"
  }
 },
 "nbformat": 4,
 "nbformat_minor": 5
}
