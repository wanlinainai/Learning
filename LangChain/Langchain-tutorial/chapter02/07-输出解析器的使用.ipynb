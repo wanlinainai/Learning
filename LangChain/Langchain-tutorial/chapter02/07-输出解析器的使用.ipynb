{
 "cells": [
  {
   "cell_type": "code",
   "execution_count": null,
   "id": "initial_id",
   "metadata": {
    "collapsed": true
   },
   "outputs": [],
   "source": [
    ""
   ]
  },
  {
   "metadata": {},
   "cell_type": "markdown",
   "source": "## 字符串输出解析器：StrOutputParser",
   "id": "7720bdbae27818d0"
  },
  {
   "metadata": {
    "ExecuteTime": {
     "end_time": "2025-10-09T16:25:33.907031Z",
     "start_time": "2025-10-09T16:25:30.543190Z"
    }
   },
   "cell_type": "code",
   "source": [
    "# 1. 获取大模型\n",
    "import os\n",
    "import dotenv\n",
    "from langchain_core.output_parsers import StrOutputParser\n",
    "from langchain_openai import ChatOpenAI\n",
    "\n",
    "dotenv.load_dotenv()\n",
    "os.environ['OPENAI_API_KEY'] = os.getenv(\"OPENAI_API_KEY\")\n",
    "os.environ['OPENAI_BASE_URL'] = os.getenv(\"OPENAI_BASE_URL\")\n",
    "\n",
    "chat_model = ChatOpenAI(\n",
    "    model=\"gpt-4o-mini\"\n",
    ")\n",
    "\n",
    "# 2. 调用大模型\n",
    "response = chat_model.invoke(\"什么是币安币？简要概述\")\n",
    "print(type(response))\n",
    "\n",
    "# 3. 获取字符串的输出结果\n",
    "# print(response.content)\n",
    "\n",
    "parser = StrOutputParser()\n",
    "output_str_response = parser.invoke(response)\n",
    "print(output_str_response)"
   ],
   "id": "93af250e86f7d4e8",
   "outputs": [
    {
     "name": "stdout",
     "output_type": "stream",
     "text": [
      "<class 'langchain_core.messages.ai.AIMessage'>\n",
      "币安币（Binance Coin，简称BNB）是由全球知名的加密货币交易所币安（Binance）发行的一种数字资产。最初，BNB的用途主要是用于支付交易手续费，用户可以使用BNB支付手续费时享受折扣。随着币安生态系统的发展，BNB的应用场景逐渐扩展，包括但不限于：\n",
      "\n",
      "1. **交易手续费**：在币安平台上使用BNB支付交易手续费可享受折扣。\n",
      "2. **平台服务**：BNB可以用于参与币安的各种活动，例如首次发行代币（IEO）、流动性挖掘等。\n",
      "3. **支付和消费**：BNB可以在多个商家和服务中作为支付手段使用。\n",
      "4. **DeFi和Staking**：BNB可以用于在币安智能链（BSC）上参与去中心化金融（DeFi）项目，以及质押赚取收益。\n",
      "\n",
      "随着币安不断扩展其产品和服务，BNB的应用也在不断增加。币安币采用了通缩机制，定期回购并销毁一定数量的BNB，这有助于控制供应量并提升其价值。\n"
     ]
    }
   ],
   "execution_count": 3
  }
 ],
 "metadata": {
  "kernelspec": {
   "display_name": "Python 3",
   "language": "python",
   "name": "python3"
  },
  "language_info": {
   "codemirror_mode": {
    "name": "ipython",
    "version": 2
   },
   "file_extension": ".py",
   "mimetype": "text/x-python",
   "name": "python",
   "nbconvert_exporter": "python",
   "pygments_lexer": "ipython2",
   "version": "2.7.6"
  }
 },
 "nbformat": 4,
 "nbformat_minor": 5
}
