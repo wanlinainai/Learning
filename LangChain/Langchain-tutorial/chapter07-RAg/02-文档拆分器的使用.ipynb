{
 "cells": [
  {
   "cell_type": "code",
   "execution_count": null,
   "id": "initial_id",
   "metadata": {
    "collapsed": true
   },
   "outputs": [],
   "source": [
    ""
   ]
  },
  {
   "metadata": {},
   "cell_type": "markdown",
   "source": "## TextSplitter\n",
   "id": "563fbcd6e72e51"
  },
  {
   "metadata": {
    "ExecuteTime": {
     "end_time": "2025-10-19T09:38:53.868838Z",
     "start_time": "2025-10-19T09:38:53.864584Z"
    }
   },
   "cell_type": "code",
   "source": [
    "from langchain.text_splitter import CharacterTextSplitter\n",
    "\n",
    "text = \"\"\"\n",
    "LangChain 就是一个让你快速把 GPT 变成“能思考、能记忆、能调用工具”的智能应用的框架，同时将处理好的结果进行返回\n",
    "\"\"\"\n",
    "\n",
    "splitter = CharacterTextSplitter(\n",
    "    chunk_size=50,\n",
    "    chunk_overlap=5,\n",
    "    # length_function=len,\n",
    "    separator=\"\" # 设置为空字符串，表示禁用分隔符优先\n",
    ")\n",
    "\n",
    "texts = splitter.split_text(text)\n",
    "\n",
    "for i, chunk in enumerate(texts):\n",
    "    print(f\"块 {i + 1}：长度：{len(chunk)}\")\n",
    "    print(chunk)\n",
    "    print(\"-\" * 50)"
   ],
   "id": "2937146570b91984",
   "outputs": [
    {
     "name": "stdout",
     "output_type": "stream",
     "text": [
      "块 1：长度：49\n",
      "LangChain 就是一个让你快速把 GPT 变成“能思考、能记忆、能调用工具”的智能应用的框架\n",
      "--------------------------------------------------\n",
      "块 2：长度：19\n",
      "应用的框架，同时将处理好的结果进行返回\n",
      "--------------------------------------------------\n"
     ]
    }
   ],
   "execution_count": 2
  },
  {
   "metadata": {
    "ExecuteTime": {
     "end_time": "2025-10-19T09:47:29.907514Z",
     "start_time": "2025-10-19T09:47:29.881342Z"
    }
   },
   "cell_type": "code",
   "source": [
    "from langchain.text_splitter import CharacterTextSplitter\n",
    "\n",
    "text = \"\"\"\n",
    "这是一个实例文本啊。我们将使用CharacterTextSplitter将其分割成小块。分割基于字符数。哈哈。\n",
    "\"\"\"\n",
    "\n",
    "splitter = CharacterTextSplitter(\n",
    "    chunk_size=30,\n",
    "    chunk_overlap=5,\n",
    "    separator=\"。\" # 设置为空字符串，表示禁用分隔符优先\n",
    ")\n",
    "\n",
    "texts = splitter.split_text(text)\n",
    "\n",
    "for i, chunk in enumerate(texts):\n",
    "    print(f\"块 {i + 1}：长度：{len(chunk)}\")\n",
    "    print(chunk)\n",
    "    print(\"-\" * 50)"
   ],
   "id": "c204f2508ff8f336",
   "outputs": [
    {
     "name": "stderr",
     "output_type": "stream",
     "text": [
      "Created a chunk of size 33, which is longer than the specified 30\n"
     ]
    },
    {
     "name": "stdout",
     "output_type": "stream",
     "text": [
      "块 1：长度：9\n",
      "这是一个实例文本啊\n",
      "--------------------------------------------------\n",
      "块 2：长度：33\n",
      "我们将使用CharacterTextSplitter将其分割成小块\n",
      "--------------------------------------------------\n",
      "块 3：长度：11\n",
      "分割基于字符数。哈哈。\n",
      "--------------------------------------------------\n"
     ]
    }
   ],
   "execution_count": 3
  },
  {
   "metadata": {
    "ExecuteTime": {
     "end_time": "2025-10-19T10:01:50.890866Z",
     "start_time": "2025-10-19T10:01:50.884176Z"
    }
   },
   "cell_type": "code",
   "source": [
    "from langchain.text_splitter import CharacterTextSplitter\n",
    "\n",
    "text = \"\"\"\n",
    "这是第一段文本。这是第二段内容。最后一段结束。\n",
    "\"\"\"\n",
    "\n",
    "splitter = CharacterTextSplitter(\n",
    "    chunk_size=20,\n",
    "    chunk_overlap=7,\n",
    "    separator=\"。\", # 设置为空字符串，表示禁用分隔符优先\n",
    "    keep_separator=True # 保留分隔符\n",
    ")\n",
    "\n",
    "texts = splitter.split_text(text)\n",
    "\n",
    "for i, chunk in enumerate(texts):\n",
    "    print(f\"块 {i + 1}：长度：{len(chunk)}\")\n",
    "    print(chunk)\n",
    "    print(\"-\" * 50)"
   ],
   "id": "66e94a9a646bc9bc",
   "outputs": [
    {
     "name": "stdout",
     "output_type": "stream",
     "text": [
      "块 1：长度：15\n",
      "这是第一段文本。这是第二段内容\n",
      "--------------------------------------------------\n",
      "块 2：长度：8\n",
      "。最后一段结束。\n",
      "--------------------------------------------------\n"
     ]
    }
   ],
   "execution_count": 20
  },
  {
   "metadata": {},
   "cell_type": "code",
   "outputs": [],
   "execution_count": null,
   "source": "",
   "id": "44b28bc60a805051"
  },
  {
   "metadata": {},
   "cell_type": "markdown",
   "source": "## RecursiveCharacterTextSplitter的使用",
   "id": "c81401c11bde5ed0"
  },
  {
   "metadata": {
    "ExecuteTime": {
     "end_time": "2025-10-19T11:21:23.590788Z",
     "start_time": "2025-10-19T11:21:23.586033Z"
    }
   },
   "cell_type": "code",
   "source": [
    "from langchain.text_splitter import RecursiveCharacterTextSplitter\n",
    "\n",
    "text_splitter = RecursiveCharacterTextSplitter(\n",
    "    chunk_size=10,\n",
    "    chunk_overlap=0,\n",
    "    # add_start_index=True\n",
    ")\n",
    "\n",
    "# 定义拆分的内容\n",
    "text = \"Langchain框架特性\\n\\n多模型集成（GPT/Claude）\\n记忆管理功能\\n链式调用设计。文档分析场景实例：需要处理PDF/Word等格式\"\n",
    "\n",
    "paragraphs = text_splitter.split_text(text)\n",
    "\n",
    "for paragraph in paragraphs:\n",
    "    print(paragraph)\n",
    "    print(\"-\" * 50)"
   ],
   "id": "ddf666d147163e5c",
   "outputs": [
    {
     "name": "stdout",
     "output_type": "stream",
     "text": [
      "Langchain框\n",
      "--------------------------------------------------\n",
      "架特性\n",
      "--------------------------------------------------\n",
      "多模型集成（GPT\n",
      "--------------------------------------------------\n",
      "/Claude）\n",
      "--------------------------------------------------\n",
      "记忆管理功能\n",
      "--------------------------------------------------\n",
      "链式调用设计。文档\n",
      "--------------------------------------------------\n",
      "分析场景实例：需要处\n",
      "--------------------------------------------------\n",
      "理PDF/Word等\n",
      "--------------------------------------------------\n",
      "格式\n",
      "--------------------------------------------------\n"
     ]
    }
   ],
   "execution_count": 23
  },
  {
   "metadata": {
    "ExecuteTime": {
     "end_time": "2025-10-19T11:27:09.640248Z",
     "start_time": "2025-10-19T11:27:09.631719Z"
    }
   },
   "cell_type": "code",
   "source": [
    "from langchain.text_splitter import RecursiveCharacterTextSplitter\n",
    "\n",
    "text_splitter = RecursiveCharacterTextSplitter(\n",
    "    chunk_size=10,\n",
    "    chunk_overlap=0,\n",
    "    add_start_index=True\n",
    ")\n",
    "\n",
    "# 定义拆分的内容\n",
    "text = \"Langchain框架特性\\n\\n多模型集成（GPT/Claude）\\n记忆管理功能\\n链式调用设计。文档分析场景实例：需要处理PDF/Word等格式\"\n",
    "\n",
    "text_list = [text]\n",
    "\n",
    "paragraphs = text_splitter.create_documents(text_list)\n",
    "\n",
    "for paragraph in paragraphs:\n",
    "    print(paragraph)\n",
    "    print(\"-\" * 50)"
   ],
   "id": "b3c9314f595a0947",
   "outputs": [
    {
     "name": "stdout",
     "output_type": "stream",
     "text": [
      "page_content='Langchain框' metadata={'start_index': 0}\n",
      "--------------------------------------------------\n",
      "page_content='架特性' metadata={'start_index': 10}\n",
      "--------------------------------------------------\n",
      "page_content='多模型集成（GPT' metadata={'start_index': 15}\n",
      "--------------------------------------------------\n",
      "page_content='/Claude）' metadata={'start_index': 24}\n",
      "--------------------------------------------------\n",
      "page_content='记忆管理功能' metadata={'start_index': 33}\n",
      "--------------------------------------------------\n",
      "page_content='链式调用设计。文档' metadata={'start_index': 40}\n",
      "--------------------------------------------------\n",
      "page_content='分析场景实例：需要处' metadata={'start_index': 49}\n",
      "--------------------------------------------------\n",
      "page_content='理PDF/Word等' metadata={'start_index': 59}\n",
      "--------------------------------------------------\n",
      "page_content='格式' metadata={'start_index': 69}\n",
      "--------------------------------------------------\n"
     ]
    }
   ],
   "execution_count": 24
  },
  {
   "metadata": {
    "ExecuteTime": {
     "end_time": "2025-10-19T12:16:08.806460Z",
     "start_time": "2025-10-19T12:16:05.816768Z"
    }
   },
   "cell_type": "code",
   "source": [
    "from langchain.text_splitter import TokenTextSplitter\n",
    "\n",
    "text_splitter = TokenTextSplitter(\n",
    "    chunk_size=33, # 最大Token数\n",
    "    chunk_overlap=0, # 最大重叠Token数\n",
    "    encoding_name=\"cl100k_base\" # 使用OpenAI编码器，将文本转换成Token序列\n",
    ")\n",
    "\n",
    "text = \"人工智能是一个强大的开发框架。他支持多种语言模型和工具链。人工智能是指通过计算机程序模拟人类智能的一门科学。自20世纪50年代诞生以来，人工智能经历了多次起伏。\"\n",
    "\n",
    "texts = text_splitter.split_text(text)\n",
    "\n",
    "print(f\"原始文本被分割成了 {len(texts)} 个块\")\n",
    "for i, chunk in enumerate(texts):\n",
    "    print(f\"块 {i + 1}：长度：{len(chunk)}\")\n",
    "    print(chunk)\n",
    "    print(\"-\" * 50)"
   ],
   "id": "cde3ec8e640201e3",
   "outputs": [
    {
     "name": "stdout",
     "output_type": "stream",
     "text": [
      "原始文本被分割成了 3 个块\n",
      "块 1：长度：30\n",
      "人工智能是一个强大的开发框架。他支持多种语言模型和工具链。人\n",
      "--------------------------------------------------\n",
      "块 2：长度：32\n",
      "工智能是指通过计算机程序模拟人类智能的一门科学。自20世纪50年\n",
      "--------------------------------------------------\n",
      "块 3：长度：18\n",
      "代诞生以来，人工智能经历了多次起伏。\n",
      "--------------------------------------------------\n"
     ]
    }
   ],
   "execution_count": 25
  },
  {
   "metadata": {},
   "cell_type": "code",
   "outputs": [],
   "execution_count": null,
   "source": "",
   "id": "fdfe2dc023cd08d8"
  }
 ],
 "metadata": {
  "kernelspec": {
   "display_name": "Python 3",
   "language": "python",
   "name": "python3"
  },
  "language_info": {
   "codemirror_mode": {
    "name": "ipython",
    "version": 2
   },
   "file_extension": ".py",
   "mimetype": "text/x-python",
   "name": "python",
   "nbconvert_exporter": "python",
   "pygments_lexer": "ipython2",
   "version": "2.7.6"
  }
 },
 "nbformat": 4,
 "nbformat_minor": 5
}
