{
 "cells": [
  {
   "cell_type": "code",
   "execution_count": null,
   "id": "initial_id",
   "metadata": {
    "collapsed": true
   },
   "outputs": [],
   "source": [
    ""
   ]
  },
  {
   "metadata": {},
   "cell_type": "markdown",
   "source": "## @Tool装饰器",
   "id": "3bf14b17d5301df3"
  },
  {
   "metadata": {
    "ExecuteTime": {
     "end_time": "2025-10-15T01:49:03.727940Z",
     "start_time": "2025-10-15T01:49:03.716606Z"
    }
   },
   "cell_type": "code",
   "source": [
    "from langchain.tools import tool\n",
    "\n",
    "from chapter02.ModelInvocation import messages\n",
    "\n",
    "\n",
    "@tool\n",
    "def add_number(a: int, b: int) -> int:\n",
    "    \"\"\"两个整数相加\"\"\"\n",
    "    return a + b\n",
    "\n",
    "print(f\"name = {add_number.name}\")\n",
    "print(f\"args = {add_number.args}\")\n",
    "print(f\"description = {add_number.description}\")\n",
    "print(f\"return_direct = {add_number.return_direct}\")\n",
    "\n",
    "res = add_number.invoke({\"a\": 10, \"b\": 20})\n",
    "print(res)"
   ],
   "id": "6c05cfd4c1e16791",
   "outputs": [
    {
     "name": "stdout",
     "output_type": "stream",
     "text": [
      "name = add_number\n",
      "args = {'a': {'title': 'A', 'type': 'integer'}, 'b': {'title': 'B', 'type': 'integer'}}\n",
      "description = 两个整数相加\n",
      "return_direct = False\n",
      "30\n"
     ]
    }
   ],
   "execution_count": 2
  },
  {
   "metadata": {
    "ExecuteTime": {
     "end_time": "2025-10-15T01:58:04.542028Z",
     "start_time": "2025-10-15T01:58:04.532993Z"
    }
   },
   "cell_type": "code",
   "source": [
    "from langchain.tools import tool\n",
    "\n",
    "@tool(name_or_callable=\"add_two_number\", description=\"add two numbers to a result\", return_direct=True)\n",
    "def add_number(a: int, b: int) -> int:\n",
    "    \"\"\"整数之和\"\"\"\n",
    "    return a + b\n",
    "\n",
    "print(f\"name = {add_number.name}\")\n",
    "print(f\"args = {add_number.args}\")\n",
    "print(f\"description = {add_number.description}\")\n",
    "print(f\"return_direct = {add_number.return_direct}\")\n",
    "\n",
    "res = add_number.invoke({\"a\": 10, \"b\": 20})\n",
    "print(res)"
   ],
   "id": "a6263673f9235a81",
   "outputs": [
    {
     "name": "stdout",
     "output_type": "stream",
     "text": [
      "name = add_two_number\n",
      "args = {'a': {'title': 'A', 'type': 'integer'}, 'b': {'title': 'B', 'type': 'integer'}}\n",
      "description = add two numbers to a result\n",
      "return_direct = True\n",
      "30\n"
     ]
    }
   ],
   "execution_count": 3
  },
  {
   "metadata": {
    "ExecuteTime": {
     "end_time": "2025-10-15T02:10:15.785908Z",
     "start_time": "2025-10-15T02:10:15.777910Z"
    }
   },
   "cell_type": "code",
   "source": [
    "from langchain.tools import tool\n",
    "from pydantic import BaseModel, Field\n",
    "\n",
    "class FieldInfo(BaseModel):\n",
    "    a: int = Field(description=\"第一个参数\")\n",
    "    b: int = Field(description=\"第二个参数\")\n",
    "\n",
    "@tool(name_or_callable=\"add_two_number\", description=\"add two numbers to a result\", args_schema=FieldInfo, return_direct=True)\n",
    "def add_number(a: int, b: int) -> int:\n",
    "    \"\"\"整数相加\"\"\"\n",
    "    return a + b\n",
    "\n",
    "print(f\"name = {add_number.name}\")\n",
    "print(f\"args = {add_number.args}\")\n",
    "print(f\"description = {add_number.description}\")\n",
    "print(f\"return_direct = {add_number.return_direct}\")\n",
    "\n",
    "res = add_number.invoke({\"a\": 10, \"b\": 20})\n",
    "print(res)"
   ],
   "id": "3a3679a96fbcdcf3",
   "outputs": [
    {
     "name": "stdout",
     "output_type": "stream",
     "text": [
      "name = add_two_number\n",
      "args = {'a': {'description': '第一个参数', 'title': 'A', 'type': 'integer'}, 'b': {'description': '第二个参数', 'title': 'B', 'type': 'integer'}}\n",
      "description = add two numbers to a result\n",
      "return_direct = True\n",
      "30\n"
     ]
    }
   ],
   "execution_count": 9
  },
  {
   "metadata": {},
   "cell_type": "markdown",
   "source": "## StructuredTool的from_function()",
   "id": "53a2dbbb9c4f930"
  },
  {
   "metadata": {
    "ExecuteTime": {
     "end_time": "2025-10-15T02:26:17.177161Z",
     "start_time": "2025-10-15T02:26:17.167664Z"
    }
   },
   "cell_type": "code",
   "source": [
    "from langchain_core.tools import StructuredTool\n",
    "\n",
    "def search_function(query: str):\n",
    "    return \"Langchain\"\n",
    "\n",
    "search1 = StructuredTool.from_function(\n",
    "    func=search_function,\n",
    "    name=\"Search\",\n",
    "    description=\"useful for when you need to answer questions about current events\"\n",
    ")\n",
    "\n",
    "print(f\"name = {search1.name}\")\n",
    "print(f\"description = {search1.description}\")\n",
    "print(f\"args = {search1.args}\")\n",
    "\n",
    "search1.invoke(\"hello\")"
   ],
   "id": "a461abcf5668fa09",
   "outputs": [
    {
     "name": "stdout",
     "output_type": "stream",
     "text": [
      "name = Search\n",
      "description = useful for when you need to answer questions about current events\n",
      "args = {'query': {'title': 'Query', 'type': 'string'}}\n"
     ]
    },
    {
     "data": {
      "text/plain": [
       "'Langchain'"
      ]
     },
     "execution_count": 10,
     "metadata": {},
     "output_type": "execute_result"
    }
   ],
   "execution_count": 10
  },
  {
   "metadata": {
    "ExecuteTime": {
     "end_time": "2025-10-15T02:28:45.407263Z",
     "start_time": "2025-10-15T02:28:45.398986Z"
    }
   },
   "cell_type": "code",
   "source": [
    "from langchain_core.tools import StructuredTool\n",
    "from pydantic import BaseModel, Field\n",
    "\n",
    "class FieldInfo(BaseModel):\n",
    "    query: str = Field(description=\"检索的关键词\")\n",
    "\n",
    "def search_function(query: str):\n",
    "    return \"Langchain\"\n",
    "\n",
    "search1 = StructuredTool.from_function(\n",
    "    func=search_function,\n",
    "    name=\"Search\",\n",
    "    args_schema=FieldInfo,\n",
    "    description=\"useful for when you need to answer questions about current events\",\n",
    "    return_direct=True\n",
    ")\n",
    "\n",
    "print(f\"name = {search1.name}\")\n",
    "print(f\"description = {search1.description}\")\n",
    "print(f\"args = {search1.args}\")\n",
    "print(f\"return_direct = {search1.return_direct}\")\n",
    "\n",
    "search1.invoke(\"hello\")"
   ],
   "id": "fca21c60936bb8d9",
   "outputs": [
    {
     "name": "stdout",
     "output_type": "stream",
     "text": [
      "name = Search\n",
      "description = useful for when you need to answer questions about current events\n",
      "args = {'query': {'description': '检索的关键词', 'title': 'Query', 'type': 'string'}}\n",
      "return_direct = True\n"
     ]
    },
    {
     "data": {
      "text/plain": [
       "'Langchain'"
      ]
     },
     "execution_count": 11,
     "metadata": {},
     "output_type": "execute_result"
    }
   ],
   "execution_count": 11
  },
  {
   "metadata": {},
   "cell_type": "markdown",
   "source": "## 通过大模型调用工具",
   "id": "5ed6266ae3cebc48"
  },
  {
   "metadata": {
    "ExecuteTime": {
     "end_time": "2025-10-15T03:01:41.130214Z",
     "start_time": "2025-10-15T03:01:39.885083Z"
    }
   },
   "cell_type": "code",
   "source": [
    "from langchain_community.tools import MoveFileTool\n",
    "from langchain_core.messages import HumanMessage\n",
    "from langchain_core.utils.function_calling import convert_to_openai_function\n",
    "import os\n",
    "import dotenv\n",
    "from langchain_openai import ChatOpenAI\n",
    "\n",
    "dotenv.load_dotenv()\n",
    "\n",
    "os.environ['OPENAI_API_KEY'] = os.getenv(\"OPENAI_API_KEY\")\n",
    "os.environ['OPENAI_BASE_URL'] = os.getenv(\"OPENAI_BASE_URL\")\n",
    "\n",
    "# 定义LLM模型\n",
    "chat_model = ChatOpenAI(model=\"gpt-4o-mini\", temperature=0)\n",
    "\n",
    "# 定义工具\n",
    "tools = [MoveFileTool()]\n",
    "# 工具转成openai函数，后续可将函数进行模型调用\n",
    "functions = [convert_to_openai_function(t) for t in tools]\n",
    "# 提供消息\n",
    "messages = [HumanMessage(content=\"我是Windows11系统，我的文件目录是E:\\\\a.txt,将文件a移动到C:\\\\Users\\\\admin\\\\Desktop\\\\a.txt\")]\n",
    "# 模型使用函数\n",
    "response = chat_model.invoke(\n",
    "    input=messages,\n",
    "    functions=functions,\n",
    ")\n",
    "\n",
    "## 用于对比\n",
    "# response = chat_model.invoke(\n",
    "#     input=[HumanMessage(content=\"今天北京的天气怎么样？\")],\n",
    "#     functions=functions\n",
    "# )\n",
    "print(response)"
   ],
   "id": "281c1f9ce61ef7c0",
   "outputs": [
    {
     "name": "stdout",
     "output_type": "stream",
     "text": [
      "content='' additional_kwargs={'function_call': {'arguments': '{\"source_path\":\"E:\\\\\\\\a.txt\",\"destination_path\":\"C:\\\\\\\\Users\\\\\\\\admin\\\\\\\\Desktop\\\\\\\\a.txt\"}', 'name': 'move_file'}, 'refusal': None} response_metadata={'token_usage': {'completion_tokens': 33, 'prompt_tokens': 97, 'total_tokens': 130, 'completion_tokens_details': {'accepted_prediction_tokens': 0, 'audio_tokens': 0, 'reasoning_tokens': 0, 'rejected_prediction_tokens': 0}, 'prompt_tokens_details': {'audio_tokens': 0, 'cached_tokens': 0}}, 'model_name': 'gpt-4o-mini-2024-07-18', 'system_fingerprint': 'fp_efad92c60b', 'id': 'chatcmpl-CQm3goj62Ff6Neqy30De0qNiavpc0', 'service_tier': None, 'finish_reason': 'function_call', 'logprobs': None} id='run--15e5423e-0fbf-4e46-896f-6f9071ac4f91-0' usage_metadata={'input_tokens': 97, 'output_tokens': 33, 'total_tokens': 130, 'input_token_details': {'audio': 0, 'cache_read': 0}, 'output_token_details': {'audio': 0, 'reasoning': 0}}\n"
     ]
    }
   ],
   "execution_count": 18
  },
  {
   "metadata": {
    "ExecuteTime": {
     "end_time": "2025-10-15T03:08:12.323187Z",
     "start_time": "2025-10-15T03:08:12.316332Z"
    }
   },
   "cell_type": "code",
   "source": [
    "\n",
    "# 检查是否需要调用工具\n",
    "import json\n",
    "\n",
    "if \"function_call\" in response.additional_kwargs:\n",
    "    tool_name = response.additional_kwargs[\"function_call\"][\"name\"]\n",
    "    tool_args = json.loads((response.additional_kwargs[\"function_call\"][\"arguments\"]))\n",
    "    print(f\"调用工具:{tool_name}，参数:{tool_args}\")\n",
    "\n",
    "else :\n",
    "    print(\"模型回复：\", response.content)\n",
    "\n",
    "\n",
    "# 实际执行工具\n",
    "if \"move_file\" in response.additional_kwargs[\"function_call\"][\"name\"]:\n",
    "    tool = MoveFileTool()\n",
    "    result = tool.run(tool_args) # 执行工具\n",
    "    print(result)"
   ],
   "id": "d1e3ef539672f9b0",
   "outputs": [
    {
     "name": "stdout",
     "output_type": "stream",
     "text": [
      "调用工具:move_file，参数:{'source_path': 'E:\\\\a.txt', 'destination_path': 'C:\\\\Users\\\\admin\\\\Desktop\\\\a.txt'}\n",
      "File moved successfully from E:\\a.txt to C:\\Users\\admin\\Desktop\\a.txt.\n"
     ]
    }
   ],
   "execution_count": 20
  }
 ],
 "metadata": {
  "kernelspec": {
   "display_name": "Python 3",
   "language": "python",
   "name": "python3"
  },
  "language_info": {
   "codemirror_mode": {
    "name": "ipython",
    "version": 2
   },
   "file_extension": ".py",
   "mimetype": "text/x-python",
   "name": "python",
   "nbconvert_exporter": "python",
   "pygments_lexer": "ipython2",
   "version": "2.7.6"
  }
 },
 "nbformat": 4,
 "nbformat_minor": 5
}
